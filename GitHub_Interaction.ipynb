{
  "nbformat": 4,
  "nbformat_minor": 0,
  "metadata": {
    "colab": {
      "provenance": [],
      "authorship_tag": "ABX9TyMZxDj9GnG9/ONINcyWDseH",
      "include_colab_link": true
    },
    "kernelspec": {
      "name": "python3",
      "display_name": "Python 3"
    },
    "language_info": {
      "name": "python"
    }
  },
  "cells": [
    {
      "cell_type": "markdown",
      "metadata": {
        "id": "view-in-github",
        "colab_type": "text"
      },
      "source": [
        "<a href=\"https://colab.research.google.com/github/Nazneen-akram/coursera-rep/blob/main/GitHub_Interaction.ipynb\" target=\"_parent\"><img src=\"https://colab.research.google.com/assets/colab-badge.svg\" alt=\"Open In Colab\"/></a>"
      ]
    },
    {
      "cell_type": "code",
      "execution_count": null,
      "metadata": {
        "id": "M5bPwDu1uMXh"
      },
      "outputs": [],
      "source": [
        "git clone https://github.com/redquinoa/health-checks.git"
      ]
    },
    {
      "cell_type": "code",
      "source": [
        "cd health-checks/\n",
        "ls -l"
      ],
      "metadata": {
        "id": "CCl7YKKEuWqx"
      },
      "execution_count": null,
      "outputs": []
    },
    {
      "cell_type": "code",
      "source": [
        "atom README.md\n",
        "# health-checks\n",
        "Scripts that check the health of my computers\n",
        "\n",
        "This repo will be populated with lots of fancy checks."
      ],
      "metadata": {
        "id": "6GImn9UJuXKd"
      },
      "execution_count": null,
      "outputs": []
    },
    {
      "cell_type": "code",
      "source": [
        "git commit -a -m \"Add one more line to README.md\""
      ],
      "metadata": {
        "id": "zisbEgdWuaGD"
      },
      "execution_count": null,
      "outputs": []
    },
    {
      "cell_type": "code",
      "source": [
        "git push"
      ],
      "metadata": {
        "id": "uYJOr6CYucG2"
      },
      "execution_count": null,
      "outputs": []
    },
    {
      "cell_type": "code",
      "source": [
        "git config --global credential.helper cache"
      ],
      "metadata": {
        "id": "fqHu6GcJud2Q"
      },
      "execution_count": null,
      "outputs": []
    },
    {
      "cell_type": "code",
      "source": [
        "git pull"
      ],
      "metadata": {
        "id": "K9qOlOplufuQ"
      },
      "execution_count": null,
      "outputs": []
    }
  ]
}
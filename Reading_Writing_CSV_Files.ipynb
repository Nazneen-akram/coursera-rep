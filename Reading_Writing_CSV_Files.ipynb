{
  "nbformat": 4,
  "nbformat_minor": 0,
  "metadata": {
    "colab": {
      "provenance": [],
      "authorship_tag": "ABX9TyOLp+vP1GqvVPlVBRCaOr+X",
      "include_colab_link": true
    },
    "kernelspec": {
      "name": "python3",
      "display_name": "Python 3"
    },
    "language_info": {
      "name": "python"
    }
  },
  "cells": [
    {
      "cell_type": "markdown",
      "metadata": {
        "id": "view-in-github",
        "colab_type": "text"
      },
      "source": [
        "<a href=\"https://colab.research.google.com/github/Nazneen-akram/coursera-rep/blob/main/Reading_Writing_CSV_Files.ipynb\" target=\"_parent\"><img src=\"https://colab.research.google.com/assets/colab-badge.svg\" alt=\"Open In Colab\"/></a>"
      ]
    },
    {
      "cell_type": "markdown",
      "source": [
        "###**Question 1**\n",
        "####We're working with a list of flowers and some information about each one. The create_file function writes this information to a CSV file. The **contents_of_file** function reads this file into records and returns the information in a nicely formatted block. Fill in the gaps of the **contents_of_file** function to turn the data in the CSV file into a dictionary using **DictReader**."
      ],
      "metadata": {
        "id": "tZ8NZpixOvuR"
      }
    },
    {
      "cell_type": "code",
      "execution_count": 4,
      "metadata": {
        "colab": {
          "base_uri": "https://localhost:8080/"
        },
        "id": "5t8WT28LOnH1",
        "outputId": "69debecf-e1a5-45a4-d36e-54c74410a02d"
      },
      "outputs": [
        {
          "output_type": "stream",
          "name": "stdout",
          "text": [
            "a pink carnation is annual\n",
            "a yellow daffodil is perennial\n",
            "a blue iris is perennial\n",
            "a red poinsettia is perennial\n",
            "a yellow sunflower is annual\n",
            "\n"
          ]
        }
      ],
      "source": [
        "import os\n",
        "import csv\n",
        "\n",
        "# Create a file with data in it\n",
        "def create_file(filename):\n",
        "  with open(filename, \"w\") as file:\n",
        "    file.write(\"name,color,type\\n\")\n",
        "    file.write(\"carnation,pink,annual\\n\")\n",
        "    file.write(\"daffodil,yellow,perennial\\n\")\n",
        "    file.write(\"iris,blue,perennial\\n\")\n",
        "    file.write(\"poinsettia,red,perennial\\n\")\n",
        "    file.write(\"sunflower,yellow,annual\\n\")\n",
        "\n",
        "\n",
        "# Read the file contents and format the information about each row\n",
        "def contents_of_file(filename):\n",
        "  return_string = \"\"\n",
        "\n",
        "  # Call the function to create the file\n",
        "  create_file(filename)\n",
        "\n",
        "  # Open the file\n",
        "  with open(filename,'r') as f:\n",
        "    rows = csv.DictReader(f)\n",
        "    # Read the rows of the file into a dictionary\n",
        "\n",
        "    # Process each item of the dictionary\n",
        "    for row in rows:\n",
        "      return_string += \"a {} {} is {}\\n\".format(row[\"color\"], row[\"name\"], row[\"type\"])\n",
        "  return return_string\n",
        "\n",
        "\n",
        "#Call the function\n",
        "print(contents_of_file(\"flowers.csv\"))"
      ]
    },
    {
      "cell_type": "markdown",
      "source": [
        "###**Question 2**\n",
        "####Using the CSV file of flowers again, fill in the gaps of the **contents_of_file** function to process the data without turning it into a dictionary. How do you skip over the header record with the field names?"
      ],
      "metadata": {
        "id": "cwET2064oiwq"
      }
    },
    {
      "cell_type": "code",
      "source": [
        "import os\n",
        "import csv\n",
        "\n",
        "# Create a file with data in it\n",
        "def create_file(filename):\n",
        "  with open(filename, \"w\") as file:\n",
        "    file.write(\"name,color,type\\n\")\n",
        "    file.write(\"carnation,pink,annual\\n\")\n",
        "    file.write(\"daffodil,yellow,perennial\\n\")\n",
        "    file.write(\"iris,blue,perennial\\n\")\n",
        "    file.write(\"poinsettia,red,perennial\\n\")\n",
        "    file.write(\"sunflower,yellow,annual\\n\")\n",
        "\n",
        "# Read the file contents and format the information about each row\n",
        "def contents_of_file(filename):\n",
        "  return_string = \"\"\n",
        "\n",
        "  # Call the function to create the file\n",
        "  create_file(filename)\n",
        "\n",
        "  # Open the file\n",
        "  with open(filename,'r') as f:\n",
        "    # Read the rows of the file\n",
        "    rows = csv.reader(f)\n",
        "    next(rows,None)\n",
        "    # Process each row\n",
        "    for row in rows:\n",
        "\n",
        "      name, color, type = row\n",
        "      # Format the return string for data rows only\n",
        "\n",
        "      return_string += \"a {} {} is {}\\n\".format(name,color,type)\n",
        "  return return_string\n",
        "\n",
        "#Call the function\n",
        "print(contents_of_file(\"flowers.csv\"))"
      ],
      "metadata": {
        "colab": {
          "base_uri": "https://localhost:8080/"
        },
        "id": "pVKkUYyZnKcz",
        "outputId": "03d209af-856a-43f4-fed4-e98e8d61aa99"
      },
      "execution_count": 11,
      "outputs": [
        {
          "output_type": "stream",
          "name": "stdout",
          "text": [
            "a carnation pink is annual\n",
            "a daffodil yellow is perennial\n",
            "a iris blue is perennial\n",
            "a poinsettia red is perennial\n",
            "a sunflower yellow is annual\n",
            "\n"
          ]
        }
      ]
    }
  ]
}
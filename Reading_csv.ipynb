{
  "nbformat": 4,
  "nbformat_minor": 0,
  "metadata": {
    "colab": {
      "provenance": [],
      "authorship_tag": "ABX9TyNodCKAGTecsUsbrabCBKRg",
      "include_colab_link": true
    },
    "kernelspec": {
      "name": "python3",
      "display_name": "Python 3"
    },
    "language_info": {
      "name": "python"
    }
  },
  "cells": [
    {
      "cell_type": "markdown",
      "metadata": {
        "id": "view-in-github",
        "colab_type": "text"
      },
      "source": [
        "<a href=\"https://colab.research.google.com/github/Nazneen-akram/coursera-rep/blob/main/Reading_csv.ipynb\" target=\"_parent\"><img src=\"https://colab.research.google.com/assets/colab-badge.svg\" alt=\"Open In Colab\"/></a>"
      ]
    },
    {
      "cell_type": "code",
      "execution_count": 9,
      "metadata": {
        "colab": {
          "base_uri": "https://localhost:8080/"
        },
        "id": "16TZN2XUIxaK",
        "outputId": "cee8d6b9-f8ea-4139-97cc-7d01c913d57a"
      },
      "outputs": [
        {
          "output_type": "stream",
          "name": "stdout",
          "text": [
            "Name: Sabrina Green, Phone: 802-867-5309, Role: System Administrator\n",
            "Name: Eli Jones, Phone: 684-3486127, Role: IT specialist\n",
            "Name: Melody Daniels, Phone: 846-687-7436, Role: Programmer\n",
            "Name: Charlie Rivera, Phone: 698-746-3357, Role: Web Developer\n"
          ]
        }
      ],
      "source": [
        "import csv\n",
        "f = open(\"csv_file.txt\")\n",
        "csv_f = csv.reader(f)\n",
        "for row in csv_f:\n",
        "  name, phone, role = row\n",
        "  print(\"Name: {}, Phone: {}, Role: {}\".format(name, phone, role))\n",
        "f.close()"
      ]
    },
    {
      "cell_type": "markdown",
      "source": [
        "###**About this code**\n",
        "####The code above will read the data from the CSV file csv_file.txt and print the following information for each row:\n",
        "\n",
        "1. **Name**\n",
        "\n",
        "2. **Phone number**\n",
        "\n",
        "3. **Role**"
      ],
      "metadata": {
        "id": "6h9gQbDkI_hZ"
      }
    },
    {
      "cell_type": "code",
      "source": [
        "import csv\n",
        "f = open(\"csv_file.txt\")\n",
        "csv_f = csv.reader(f)\n",
        "for row in csv_f:\n",
        "  print(row)"
      ],
      "metadata": {
        "colab": {
          "base_uri": "https://localhost:8080/"
        },
        "id": "QXoDVvVJJLVC",
        "outputId": "c1c03ffa-8ce4-4ac3-fcea-e41ca903e51d"
      },
      "execution_count": 10,
      "outputs": [
        {
          "output_type": "stream",
          "name": "stdout",
          "text": [
            "['Sabrina Green', '802-867-5309', 'System Administrator']\n",
            "['Eli Jones', '684-3486127', 'IT specialist']\n",
            "['Melody Daniels', '846-687-7436', 'Programmer']\n",
            "['Charlie Rivera', '698-746-3357', 'Web Developer']\n"
          ]
        }
      ]
    },
    {
      "cell_type": "code",
      "source": [
        "f.close()"
      ],
      "metadata": {
        "id": "n0WvFAafNCge"
      },
      "execution_count": 11,
      "outputs": []
    },
    {
      "cell_type": "markdown",
      "source": [
        "###Which of the following lines would correctly interpret a CSV file called \"file\" using the CSV module? Assume that the CSV module has already been imported.\n",
        "\n",
        "Answer:\n",
        "```\n",
        "data=csv.reader(file)\n",
        "```"
      ],
      "metadata": {
        "id": "JMrrhPqQNwuM"
      }
    },
    {
      "cell_type": "code",
      "source": [
        "hosts = [[\"workstation.local\", \"192.168.25.46\"],[\"webserver.cloud\", \"10.2.5.6\"]]\n",
        "with open('hosts.csv', 'w') as hosts_csv:\n",
        "  writer = csv.writer(hosts_csv)\n",
        "  writer.writerows(hosts)"
      ],
      "metadata": {
        "id": "0cJpfd0ONo49"
      },
      "execution_count": 12,
      "outputs": []
    },
    {
      "cell_type": "code",
      "source": [
        "with open(\"hosts.csv\",'r') as f:\n",
        "  for row in f:\n",
        "    print(row)"
      ],
      "metadata": {
        "colab": {
          "base_uri": "https://localhost:8080/"
        },
        "id": "9phRtuOjPnGv",
        "outputId": "e4391350-fe15-41ab-8fbb-f1973acaeec1"
      },
      "execution_count": 14,
      "outputs": [
        {
          "output_type": "stream",
          "name": "stdout",
          "text": [
            "workstation.local,192.168.25.46\n",
            "\n",
            "webserver.cloud,10.2.5.6\n",
            "\n"
          ]
        }
      ]
    },
    {
      "cell_type": "code",
      "source": [
        "import os\n",
        "\n",
        "#the follow command should be used in the terminal\n",
        "#     cat software.csv\n",
        "#Output name,version,status,users\n",
        "#MailTree,5.34,production,324\n",
        "#CalDoor,1.25.1,beta,22\n",
        "#Chatty Chicken,0.34,alpha,4\n",
        "\n",
        "with open('software.csv') as software:\n",
        "  reader = csv.DictReader(software)\n",
        "  for row in reader:\n",
        "    print((\"{} has {} users\").format(row[\"Output name\"], row[\"users\"]))"
      ],
      "metadata": {
        "colab": {
          "base_uri": "https://localhost:8080/"
        },
        "id": "-IG3mUnaPx3I",
        "outputId": "70ac2388-294b-44a3-ea7a-bc1593def3cd"
      },
      "execution_count": 27,
      "outputs": [
        {
          "output_type": "stream",
          "name": "stdout",
          "text": [
            "MailTree has 324 users\n",
            "CalDoor has 22 users\n",
            "Chatty Chicken has 4 users\n"
          ]
        }
      ]
    },
    {
      "cell_type": "code",
      "source": [
        "users = [ {\"name\": \"Sol Mansi\", \"username\": \"solm\", \"department\": \"IT infrastructure\"},\n",
        "{\"name\": \"Lio Nelson\", \"username\": \"lion\", \"department\": \"User Experience Research\"},\n",
        "{\"name\": \"Charlie Grey\", \"username\": \"greyc\", \"department\": \"Development\"}]\n",
        "\n",
        "keys = [\"name\", \"username\", \"department\"]\n",
        "\n",
        "with open('by_department.csv', 'w') as by_department:\n",
        "  writer = csv.DictWriter(by_department, fieldnames=keys)\n",
        "  writer.writeheader()\n",
        "  writer.writerows(users)"
      ],
      "metadata": {
        "id": "tKeN59euo79Z"
      },
      "execution_count": 37,
      "outputs": []
    },
    {
      "cell_type": "code",
      "source": [
        "import csv\n",
        "\n",
        "with open('by_department.csv', 'r') as by_department:\n",
        "  csv_f = csv.DictReader(by_department)\n",
        "  for row in csv_f:\n",
        "    names, user,depart = row\n",
        "    print(('Name: {} :Username: {}').format(row[names], row[user]))"
      ],
      "metadata": {
        "colab": {
          "base_uri": "https://localhost:8080/"
        },
        "id": "k3LP3Yj8vYy6",
        "outputId": "8e157584-64db-4ab6-8ace-a1bb4ea24007"
      },
      "execution_count": 43,
      "outputs": [
        {
          "output_type": "stream",
          "name": "stdout",
          "text": [
            "Name: Sol Mansi :Username: solm\n",
            "Name: Lio Nelson :Username: lion\n",
            "Name: Charlie Grey :Username: greyc\n"
          ]
        }
      ]
    },
    {
      "cell_type": "markdown",
      "source": [
        "**Study guide:**.csv files\n",
        "###The most common format for importing and exporting data for spreadsheets is a .csv format. A Comma Separated Values (.csv) file is a plain text file that uses—you guessed it—commas to separate each piece of data. You may already be familiar with .csv files if you have saved a spreadsheet in the .csv format. Here is a simple example of a .csv file displaying employee information:\n",
        "\n",
        "###Name, Department, Salary\n",
        "\n",
        "####Aisha Khan, Engineering, 80000\n",
        "\n",
        "####Jules Lee, Marketing, 67000\n",
        "\n",
        "####Queenie Corbit, Human Resources, 90000\n",
        "\n",
        "###Notice that each row represents an employee’s information, and the values are separated by commas.\n",
        "\n",
        "###In this reading, you will examine different commands to use when working with .csv files in Python and be provided with additional links for more information."
      ],
      "metadata": {
        "id": "TL-MVtysL9p8"
      }
    },
    {
      "cell_type": "markdown",
      "source": [
        "**Module contents**\n",
        "The .csv module is a built-in Python functionality used to read and work with .csv files. Let’s look at how the .csv module defines some of these functions:\n",
        "\n",
        "**csv.reader** This function returns a reader object that iterates over lines in the .csv file.\n",
        "\n",
        "**csv.writer** This function returns a writer object that’s responsible for converting the user’s data into delimited strings on the given file-like object.\n",
        "\n",
        "**class csv.DictReader** This function creates an object that functions as a regular reader but maps the information in each row to a dictionary whose keys are given by the optional fieldname parameters.\n",
        "\n",
        "**Dialects and formatting parameters**\n",
        "Dialects are rules that define how a .csv file is structured, and parameters are formed to control the behavior of the .csv reader and writer and live within dialects. The following  features are supported by dialects:\n",
        "\n",
        "**Dialect.delimiter** This attribute is a one-character string used to separate fields and defaults to a comma.\n",
        "\n",
        "**Dialect.quotechar**  This attribute is a one-character string used to quote fields containing special characters and defaults to ‘ ‘’ ‘.\n",
        "\n",
        "**Dialect.strict**  This attribute’s default is False, but when True, exception csv.Error will be raised if an error is detected.\n",
        "\n",
        "**Reader objects**\n",
        "A reader object contains the following public methods and attributes:\n",
        "\n",
        "**csvreader._next_()** This method returns the next row of the reader’s iterable object as a list or a dictionary, parsed properly to the current dialect. Typically, you would call this next(reader).\n",
        "\n",
        "**csvreader.dialect** This attribute is a read-only description of the dialect in use by the parser.\n",
        "\n",
        "**Writer objects**\n",
        "Writer objects provide you the capability to write data to a .csv file. Let’s look at a couple of public methods and attributes for writer objects:\n",
        "\n",
        "**csvwriter.writerows(rows)** This method writes all elements in rows to the writer’s file object and formats following the current dialect.\n",
        "\n",
        "**csvwriter.dialect** This attribute is a read-only description of the dialect being used by the writer.\n",
        "\n",
        "**Key takeaways**\n",
        "If you haven’t worked with .csv files yet, it’s only a matter of time. Become familiar with the .csv module’s reader and writer objects to work more efficiently with .csv files. The modules, features, and attributes in this reading are only some of the commands that can be used while working with .csv files."
      ],
      "metadata": {
        "id": "xUEHRR37MePt"
      }
    }
  ]
}
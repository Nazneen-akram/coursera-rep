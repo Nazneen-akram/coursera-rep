{
  "nbformat": 4,
  "nbformat_minor": 0,
  "metadata": {
    "colab": {
      "provenance": [],
      "authorship_tag": "ABX9TyNWFacY1kl41/V0EwvwnCW3",
      "include_colab_link": true
    },
    "kernelspec": {
      "name": "python3",
      "display_name": "Python 3"
    },
    "language_info": {
      "name": "python"
    }
  },
  "cells": [
    {
      "cell_type": "markdown",
      "metadata": {
        "id": "view-in-github",
        "colab_type": "text"
      },
      "source": [
        "<a href=\"https://colab.research.google.com/github/Nazneen-akram/coursera-rep/blob/main/Python_strings_dictionary_practice.ipynb\" target=\"_parent\"><img src=\"https://colab.research.google.com/assets/colab-badge.svg\" alt=\"Open In Colab\"/></a>"
      ]
    },
    {
      "cell_type": "markdown",
      "source": [
        "###The format of the input variable “address_string” is: numeric house number, followed by the street name which may contain numbers and could be several words long (e.g., \"123 Main Street\", \"1001 1st Ave\", or \"55 North Center Drive\").\n",
        "\n",
        "####Complete the string methods needed in this function so that input like \"123 Main Street\" will produce the output \"House number 123 on a street named Main Street\". This function should:\n",
        "\n",
        "\n",
        "\n",
        "*   accept a string through the parameters of the function;\n",
        "*   separate the address string into new strings: house_number and street_name;\n",
        "*   return the variables in the string format: \"House number X on a street named Y\".\n",
        "\n",
        "```\n",
        "def format_address(address_string):\n",
        "\n",
        "\n",
        "    house_number = \"\"\n",
        "    street_name = \"\"\n",
        "\n",
        "\n",
        "    # Separate the house number from the street name.\n",
        "    address_parts = ___\n",
        "    \n",
        "    for address_part in address_parts:\n",
        "       # Complete the if-statement with a string method.  \n",
        "       if ___\n",
        "         house_number = address_part\n",
        "       else:\n",
        "         street_name += address_part + \" \"\n",
        "    # Remove the extra space at the end of the last \"street_name\".\n",
        "    street_name = ___\n",
        "\n",
        "    # Use a string method to return the required formatted string.\n",
        "    return ___\n",
        "\n",
        "\n",
        "print(format_address(\"123 Main Street\"))\n",
        "# Should print: \"House number 123 on a street named Main Street\"\n",
        "\n",
        "\n",
        "print(format_address(\"1001 1st Ave\"))\n",
        "# Should print: \"House number 1001 on a street named 1st Ave\"\n",
        "\n",
        "\n",
        "print(format_address(\"55 North Center Drive\"))\n",
        "# Should print \"House number 55 on a street named North Center Drive\"\n",
        "```\n"
      ],
      "metadata": {
        "id": "-xjO9jQtfVuX"
      }
    },
    {
      "cell_type": "code",
      "execution_count": 6,
      "metadata": {
        "colab": {
          "base_uri": "https://localhost:8080/"
        },
        "id": "oFiW_uD_fU_c",
        "outputId": "58ddb465-1c22-4429-a2c6-b73ae004e69c"
      },
      "outputs": [
        {
          "output_type": "stream",
          "name": "stdout",
          "text": [
            "House number 123 on a street name Main Street\n",
            "House number 1001 on a street name 1st Ave\n",
            "House number 55 on a street name North Center Drive\n"
          ]
        }
      ],
      "source": [
        "def format_address(address_string):\n",
        "\n",
        "    house_number = \"\"\n",
        "    street_name = \"\"\n",
        "\n",
        "    # Separate the house number from the street name.\n",
        "    address_parts = address_string.split()\n",
        "\n",
        "    for address_part in address_parts:\n",
        "       # Complete the if-statement with a string method.\n",
        "       if address_part.isnumeric():\n",
        "         house_number = address_part\n",
        "       else:\n",
        "         street_name += address_part + \" \"\n",
        "    # Remove the extra space at the end of the last \"street_name\".\n",
        "    street_name = street_name.rstrip()\n",
        "\n",
        "    # Use a string method to return the required formatted string.\n",
        "    return ('House number {} on a street name {}'.format(house_number,street_name))\n",
        "\n",
        "\n",
        "print(format_address(\"123 Main Street\"))\n",
        "# Should print: \"House number 123 on a street named Main Street\"\n",
        "\n",
        "\n",
        "print(format_address(\"1001 1st Ave\"))\n",
        "# Should print: \"House number 1001 on a street named 1st Ave\"\n",
        "\n",
        "\n",
        "print(format_address(\"55 North Center Drive\"))\n",
        "# Should print \"House number 55 on a street named North Center Drive\""
      ]
    },
    {
      "cell_type": "markdown",
      "source": [
        "###Question 2\n",
        "\n",
        "####Fill in the blank to complete the “string_words” function. This function should split up the words in the given “string” and return the number of words in the “string”.  Complete the string operation and method needed in this function so that a function call like \"string_words(\"Hello, World\")\" will return the output \"2\"."
      ],
      "metadata": {
        "id": "VrpIpE9hiucs"
      }
    },
    {
      "cell_type": "code",
      "source": [],
      "metadata": {
        "id": "5cS5NxVuhD7a"
      },
      "execution_count": null,
      "outputs": []
    },
    {
      "cell_type": "code",
      "source": [],
      "metadata": {
        "id": "Nbb248Vhiwss"
      },
      "execution_count": null,
      "outputs": []
    }
  ]
}
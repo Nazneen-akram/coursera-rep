{
  "nbformat": 4,
  "nbformat_minor": 0,
  "metadata": {
    "colab": {
      "provenance": [],
      "authorship_tag": "ABX9TyNlv94bQ2bbdPKdm3F3mp70",
      "include_colab_link": true
    },
    "kernelspec": {
      "name": "python3",
      "display_name": "Python 3"
    },
    "language_info": {
      "name": "python"
    }
  },
  "cells": [
    {
      "cell_type": "markdown",
      "metadata": {
        "id": "view-in-github",
        "colab_type": "text"
      },
      "source": [
        "<a href=\"https://colab.research.google.com/github/Nazneen-akram/coursera-rep/blob/main/Python_strings_dictionary_practice.ipynb\" target=\"_parent\"><img src=\"https://colab.research.google.com/assets/colab-badge.svg\" alt=\"Open In Colab\"/></a>"
      ]
    },
    {
      "cell_type": "markdown",
      "source": [
        "###The format of the input variable “address_string” is: numeric house number, followed by the street name which may contain numbers and could be several words long (e.g., \"123 Main Street\", \"1001 1st Ave\", or \"55 North Center Drive\").\n",
        "\n",
        "####Complete the string methods needed in this function so that input like \"123 Main Street\" will produce the output \"House number 123 on a street named Main Street\". This function should:\n",
        "\n",
        "\n",
        "\n",
        "*   accept a string through the parameters of the function;\n",
        "*   separate the address string into new strings: house_number and street_name;\n",
        "*   return the variables in the string format: \"House number X on a street named Y\".\n",
        "\n",
        "```\n",
        "def format_address(address_string):\n",
        "\n",
        "\n",
        "    house_number = \"\"\n",
        "    street_name = \"\"\n",
        "\n",
        "\n",
        "    # Separate the house number from the street name.\n",
        "    address_parts = ___\n",
        "    \n",
        "    for address_part in address_parts:\n",
        "       # Complete the if-statement with a string method.  \n",
        "       if ___\n",
        "         house_number = address_part\n",
        "       else:\n",
        "         street_name += address_part + \" \"\n",
        "    # Remove the extra space at the end of the last \"street_name\".\n",
        "    street_name = ___\n",
        "\n",
        "    # Use a string method to return the required formatted string.\n",
        "    return ___\n",
        "\n",
        "\n",
        "print(format_address(\"123 Main Street\"))\n",
        "# Should print: \"House number 123 on a street named Main Street\"\n",
        "\n",
        "\n",
        "print(format_address(\"1001 1st Ave\"))\n",
        "# Should print: \"House number 1001 on a street named 1st Ave\"\n",
        "\n",
        "\n",
        "print(format_address(\"55 North Center Drive\"))\n",
        "# Should print \"House number 55 on a street named North Center Drive\"\n",
        "```\n"
      ],
      "metadata": {
        "id": "-xjO9jQtfVuX"
      }
    },
    {
      "cell_type": "code",
      "execution_count": 6,
      "metadata": {
        "colab": {
          "base_uri": "https://localhost:8080/"
        },
        "id": "oFiW_uD_fU_c",
        "outputId": "58ddb465-1c22-4429-a2c6-b73ae004e69c"
      },
      "outputs": [
        {
          "output_type": "stream",
          "name": "stdout",
          "text": [
            "House number 123 on a street name Main Street\n",
            "House number 1001 on a street name 1st Ave\n",
            "House number 55 on a street name North Center Drive\n"
          ]
        }
      ],
      "source": [
        "def format_address(address_string):\n",
        "\n",
        "    house_number = \"\"\n",
        "    street_name = \"\"\n",
        "\n",
        "    # Separate the house number from the street name.\n",
        "    address_parts = address_string.split()\n",
        "\n",
        "    for address_part in address_parts:\n",
        "       # Complete the if-statement with a string method.\n",
        "       if address_part.isnumeric():\n",
        "         house_number = address_part\n",
        "       else:\n",
        "         street_name += address_part + \" \"\n",
        "    # Remove the extra space at the end of the last \"street_name\".\n",
        "    street_name = street_name.rstrip()\n",
        "\n",
        "    # Use a string method to return the required formatted string.\n",
        "    return ('House number {} on a street name {}'.format(house_number,street_name))\n",
        "\n",
        "\n",
        "print(format_address(\"123 Main Street\"))\n",
        "# Should print: \"House number 123 on a street named Main Street\"\n",
        "\n",
        "\n",
        "print(format_address(\"1001 1st Ave\"))\n",
        "# Should print: \"House number 1001 on a street named 1st Ave\"\n",
        "\n",
        "\n",
        "print(format_address(\"55 North Center Drive\"))\n",
        "# Should print \"House number 55 on a street named North Center Drive\""
      ]
    },
    {
      "cell_type": "markdown",
      "source": [
        "###Question 2\n",
        "\n",
        "####Fill in the blank to complete the **“string_words”** function. This function should split up the words in the given “string” and return the number of words in the “string”.  Complete the string operation and method needed in this function so that a function call like \"string_words(\"Hello, World\")\" will return the output \"2\".\n",
        "\n",
        "```\n",
        "def string_words(string):\n",
        "    # Complete the return statement using both a string operation and\n",
        "    # a string method in a single line.\n",
        "    return ___\n",
        "\n",
        "\n",
        "print(string_words(\"Hello, World\")) # Should print 2\n",
        "print(string_words(\"Python is awesome\")) # Should print 3\n",
        "print(string_words(\"Keep going\")) # Should print 2\n",
        "print(string_words(\"Have a nice day\")) # Should print 4\n",
        "```"
      ],
      "metadata": {
        "id": "VrpIpE9hiucs"
      }
    },
    {
      "cell_type": "code",
      "source": [
        "def string_words(string):\n",
        "    # Complete the return statement using both a string operation and\n",
        "    # a string method in a single line.\n",
        "    return (len(string.split()))\n",
        "\n",
        "\n",
        "print(string_words(\"Hello, World\")) # Should print 2\n",
        "print(string_words(\"Python is awesome\")) # Should print 3\n",
        "print(string_words(\"Keep going\")) # Should print 2\n",
        "print(string_words(\"Have a nice day\")) # Should print 4"
      ],
      "metadata": {
        "colab": {
          "base_uri": "https://localhost:8080/"
        },
        "id": "5cS5NxVuhD7a",
        "outputId": "8e9487cf-170c-4529-9b29-6b1b7a15c837"
      },
      "execution_count": 8,
      "outputs": [
        {
          "output_type": "stream",
          "name": "stdout",
          "text": [
            "2\n",
            "3\n",
            "2\n",
            "4\n"
          ]
        }
      ]
    },
    {
      "cell_type": "markdown",
      "source": [
        "Consider the following scenario about using Python lists:\n",
        "\n",
        "A professor gave his two assistants, Jaime and Drew, the task of keeping an attendance list of students in the order they arrive in the classroom. Drew was the first one to note which students arrived, and then Jaime took over. After the class, they each entered their lists into the computer and emailed them to the professor. The professor wants to combine the two lists into one, in the order of each student's arrival. Jaime emailed a follow-up, saying that her list is in reverse order.\n",
        "\n",
        "Complete the code to combine the two lists into one in the order of: the contents of Drew's list, followed by Jaime’s list in reverse order, to produce an accurate list of the students as they arrived. This function should:\n",
        "\n",
        "accept two lists through the function’s parameters;\n",
        "\n",
        "*   reverse the order of “list1”;\n",
        "*   combine the two lists so that “list2” comes first, followed by “list1”;\n",
        "*   return the new list.\n",
        "\n",
        "```\n",
        "def combine_lists(list1, list2):\n",
        "\n",
        "\n",
        "  combined_list = ___ # Initialize an empty list variable\n",
        "  ___ # Reverse the order of \"list1\"\n",
        "  ___ # Combine the two lists\n",
        "  combined_list = list2\n",
        "  return combined_list  \n",
        "  \n",
        "Jaimes_list = [\"Alma\", \"Chika\", \"Benjamin\", \"Jocelyn\", \"Oakley\"]\n",
        "Drews_list = [\"Minna\", \"Carol\", \"Gunnar\", \"Malena\"]\n",
        "\n",
        "\n",
        "print(combine_lists(Jaimes_list, Drews_list))\n",
        "# Should print ['Minna', 'Carol', 'Gunnar', 'Malena', 'Oakley', 'Jocelyn', 'Benjamin', 'Chika', 'Alma']\n",
        "```"
      ],
      "metadata": {
        "id": "1ZyiMsE2msdQ"
      }
    },
    {
      "cell_type": "code",
      "source": [
        "def combine_lists(list1, list2):\n",
        "\n",
        "  combined_list = [] # Initialize an empty list variable\n",
        "  list1 = list1[::-1] # Reverse the order of \"list1\"\n",
        "  # Combine the two lists\n",
        "  combined_list = list2 + list1\n",
        "  return combined_list\n",
        "\n",
        "Jaimes_list = [\"Alma\", \"Chika\", \"Benjamin\", \"Jocelyn\", \"Oakley\"]\n",
        "Drews_list = [\"Minna\", \"Carol\", \"Gunnar\", \"Malena\"]\n",
        "\n",
        "\n",
        "print(combine_lists(Jaimes_list, Drews_list))\n",
        "# Should print ['Minna', 'Carol', 'Gunnar', 'Malena', 'Oakley', 'Jocelyn', 'Benjamin', 'Chika', 'Alma']\n"
      ],
      "metadata": {
        "colab": {
          "base_uri": "https://localhost:8080/"
        },
        "id": "Nbb248Vhiwss",
        "outputId": "eeb6fb03-1f27-4de9-9c02-00e68d28797d"
      },
      "execution_count": 12,
      "outputs": [
        {
          "output_type": "stream",
          "name": "stdout",
          "text": [
            "['Minna', 'Carol', 'Gunnar', 'Malena', 'Oakley', 'Jocelyn', 'Benjamin', 'Chika', 'Alma']\n"
          ]
        }
      ]
    },
    {
      "cell_type": "markdown",
      "source": [
        "###Question 4\n",
        "#### Fill in the blank to complete the “even_numbers” function. This function should use a list comprehension to create a list of even numbers using a conditional if statement with the modulo operator to test for numbers evenly divisible by 2. The function receives two variables and should return the list of even numbers that occur between the “first” and “last” variables exclusively (meaning don’t modify the default behavior of the range to exclude the “end” value in the range). For example, even_numbers(2, 7) should return [2, 4, 6].  \n",
        "\n",
        "```\n",
        "def even_numbers(first, last):\n",
        "  return [ ___ ]\n",
        "\n",
        "\n",
        "print(even_numbers(4, 14)) # Should print [4, 6, 8, 10, 12]\n",
        "print(even_numbers(0, 9))  # Should print [0, 2, 4, 6, 8]\n",
        "print(even_numbers(2, 7))  # Should print [2, 4, 6]\n",
        "```"
      ],
      "metadata": {
        "id": "YRteJMP-pHkU"
      }
    },
    {
      "cell_type": "code",
      "source": [
        "def even_numbers(first, last):\n",
        "  return [ i for i in range(first,last) if i % 2 ==0 ]\n",
        "\n",
        "\n",
        "print(even_numbers(4, 14)) # Should print [4, 6, 8, 10, 12]\n",
        "print(even_numbers(0, 9))  # Should print [0, 2, 4, 6, 8]\n",
        "print(even_numbers(2, 7))  # Should print [2, 4, 6]"
      ],
      "metadata": {
        "colab": {
          "base_uri": "https://localhost:8080/"
        },
        "id": "hbBocmutoNe-",
        "outputId": "8102c294-6f52-4536-dd89-0b676aaa1b52"
      },
      "execution_count": 13,
      "outputs": [
        {
          "output_type": "stream",
          "name": "stdout",
          "text": [
            "[4, 6, 8, 10, 12]\n",
            "[0, 2, 4, 6, 8]\n",
            "[2, 4, 6]\n"
          ]
        }
      ]
    },
    {
      "cell_type": "markdown",
      "source": [
        "### Question 5\n",
        "#### Fill in the blanks to complete the **“car_listing”** function. This function accepts a **“car_prices”** dictionary. It should iterate through the keys (car models) and values (car prices) in that dictionary. For each item pair, the function should format a string so that a dictionary entry like ““Kia Soul“:19000” will print \"A Kia Soul costs 19000 dollars\". Each new string should appear on its own line.\n",
        "\n",
        "```\n",
        "def car_listing(car_prices):\n",
        "  result = \"\"\n",
        "  # Complete the for loop to iterate through the key and value items\n",
        "  # in the dictionary.\n",
        "  for __\n",
        "    result += ___ # Use a string method to format the required string.\n",
        "  return result\n",
        "\n",
        "print(car_listing({\"Kia Soul\":19000, \"Lamborghini Diablo\":55000, \"Ford Fiesta\":13000, \"Toyota Prius\":24000}))\n",
        "\n",
        "# Should print:\n",
        "# A Kia Soul costs 19000 dollars\n",
        "# A Lamborghini Diablo costs 55000 dollars\n",
        "# A Ford Fiesta costs 13000 dollars\n",
        "# A Toyota Prius costs 24000 dollars\n",
        "```"
      ],
      "metadata": {
        "id": "R0tPyb9vpnc1"
      }
    },
    {
      "cell_type": "code",
      "source": [
        "def car_listing(car_prices):\n",
        "  result = \"\"\n",
        "  # Complete the for loop to iterate through the key and value items\n",
        "  # in the dictionary.\n",
        "  for keys, values in car_prices.items():\n",
        "        result += 'A ' + keys + ' costs ' + str(values) + ' dollars\\n' # Use a string method to format the required string.\n",
        "  return result\n",
        "\n",
        "print(car_listing({\"Kia Soul\":19000, \"Lamborghini Diablo\":55000, \"Ford Fiesta\":13000, \"Toyota Prius\":24000}))\n",
        "\n",
        "# Should print:\n",
        "# A Kia Soul costs 19000 dollars\n",
        "# A Lamborghini Diablo costs 55000 dollars\n",
        "# A Ford Fiesta costs 13000 dollars\n",
        "# A Toyota Prius costs 24000 dollars"
      ],
      "metadata": {
        "colab": {
          "base_uri": "https://localhost:8080/"
        },
        "id": "2WUeHru2ppon",
        "outputId": "f5e9f721-e9d6-4cbb-d424-0b4227f826c5"
      },
      "execution_count": 17,
      "outputs": [
        {
          "output_type": "stream",
          "name": "stdout",
          "text": [
            "A Kia Soul costs 19000 dollars\n",
            "A Lamborghini Diablo costs 55000 dollars\n",
            "A Ford Fiesta costs 13000 dollars\n",
            "A Toyota Prius costs 24000 dollars\n",
            "\n"
          ]
        }
      ]
    },
    {
      "cell_type": "markdown",
      "source": [
        "###Question 6\n",
        "####Consider the following scenario about using Python dictionaries and lists:\n",
        "\n",
        "Tessa and Rick are hosting a party. Before they send out invitations, they want to add all of the people they are inviting to a dictionary so they can also add how many guests each friend is bringing to the party.  \n",
        "\n",
        "Complete the function so that it accepts a list of people, then iterates over the list and adds all of the names (elements) to the dictionary as keys with a starting value of 0. Tessa and Rick plan to update these values with the number of guests their friends will bring with them to the party. Then, print the new dictionary.\n",
        "\n",
        "This function should:\n",
        "\n",
        "*  accept a list variable named **“guest_list”** through the function’s parameter;\n",
        "\n",
        "*  add the contents of the list as keys to a new, blank dictionary;\n",
        "\n",
        "*  assign each new key with the value 0;\n",
        "\n",
        "*  print the new dictionary.\n",
        "\n",
        "```\n",
        "def setup_guests(guest_list):\n",
        "    # loop over the guest list and add each guest to the dictionary with\n",
        "    # an initial value of 0\n",
        "    result = ___ # Initialize a new dictionary\n",
        "    for ___ # Iterate over the elements in the list\n",
        "        ___ # Add each list element to the dictionary as a key with\n",
        "            # the starting value of 0\n",
        "    return result\n",
        "\n",
        "guests = [\"Adam\",\"Camila\",\"David\",\"Jamal\",\"Charley\",\"Titus\",\"Raj\",\"Noemi\",\"Sakira\",\"Chidi\"]\n",
        "\n",
        "print(setup_guests(guests))\n",
        "# Should print {'Adam': 0, 'Camila': 0, 'David': 0, 'Jamal': 0, 'Charley': 0, 'Titus': 0, 'Raj': 0, 'Noemi': 0, 'Sakira': 0, 'Chidi': 0}\n",
        "```"
      ],
      "metadata": {
        "id": "XIShM18KrfZP"
      }
    },
    {
      "cell_type": "code",
      "source": [
        "def setup_guests(guest_list):\n",
        "    # loop over the guest list and add each guest to the dictionary with\n",
        "    # an initial value of 0\n",
        "    result = {} # Initialize a new dictionary\n",
        "    for names in guest_list:\n",
        "      result[names]=0\n",
        "      # Iterate over the elements in the list\n",
        "      # Add each list element to the dictionary as a key with\n",
        "            # the starting value of 0\n",
        "    return result\n",
        "\n",
        "guests = [\"Adam\",\"Camila\",\"David\",\"Jamal\",\"Charley\",\"Titus\",\"Raj\",\"Noemi\",\"Sakira\",\"Chidi\"]\n",
        "\n",
        "print(setup_guests(guests))\n",
        "# Should print {'Adam': 0, 'Camila': 0, 'David': 0, 'Jamal': 0, 'Charley': 0, 'Titus': 0, 'Raj': 0, 'Noemi': 0, 'Sakira': 0, 'Chidi': 0}"
      ],
      "metadata": {
        "colab": {
          "base_uri": "https://localhost:8080/"
        },
        "id": "ye4OWEkWrMyA",
        "outputId": "98555f4e-b108-40cd-cb98-5ff642f3be42"
      },
      "execution_count": 25,
      "outputs": [
        {
          "output_type": "stream",
          "name": "stdout",
          "text": [
            "{'Adam': 0, 'Camila': 0, 'David': 0, 'Jamal': 0, 'Charley': 0, 'Titus': 0, 'Raj': 0, 'Noemi': 0, 'Sakira': 0, 'Chidi': 0}\n"
          ]
        }
      ]
    },
    {
      "cell_type": "markdown",
      "source": [
        "###Question 7\n",
        "\n",
        "####Consider the following scenario about using Python dictionaries:\n",
        "\n",
        "A teacher is using a dictionary to store student grades. The grades are stored as a point value out of 100.  Currently, the teacher has a dictionary setup for Term 1 grades and wants to duplicate it for Term 2. The student name keys in the dictionary should stay the same, but the grade values should be reset to 0.\n",
        "\n",
        "Complete the “setup_gradebook” function so that input like **“{\"James\": 93, \"Felicity\": 98, \"Barakaa\": 80}”** will produce a resulting dictionary that contains  **“{\"James\": 0, \"Felicity\": 0, \"Barakaa\": 0}”**. This function should:\n",
        "\n",
        "* accept a dictionary **“old_gradebook”** variable through the function’s parameters;\n",
        "\n",
        "* make a copy of the **“old_gradebook”** dictionary;\n",
        "\n",
        "* iterate over each key and value pair in the new dictionary;\n",
        "\n",
        "* replace the value for each key with the number 0;\n",
        "\n",
        "* return the new dictionary.\n",
        "\n",
        "```\n",
        "def setup_gradebook(old_gradebook):\n",
        "  # Use a dictionary method to create a new copy of the \"old_gradebook\".\n",
        "  ___\n",
        "    # Complete the for loop to iterate over the new gradebook.\n",
        "    for ___\n",
        "        # Use a dictionary operation to reset the grade values to 0.\n",
        "        ___\n",
        "    return new_gradebook\n",
        "\n",
        "fall_gradebook = {\"James\": 93, \"Felicity\": 98, \"Barakaa\": 80}\n",
        "print(setup_gradebook(fall_gradebook))\n",
        "# Should output {'James': 0, 'Felicity': 0, 'Barakaa': 0}\n",
        "\n",
        "```"
      ],
      "metadata": {
        "id": "JWQxD4_AvJGi"
      }
    },
    {
      "cell_type": "code",
      "source": [
        "def setup_gradebook(old_gradebook):\n",
        "  # Use a dictionary method to create a new copy of the \"old_gradebook\".\n",
        "  new_gradebook = old_gradebook.copy()\n",
        "    # Complete the for loop to iterate over the new gradebook.\n",
        "  for keys,values in new_gradebook.items():\n",
        "        # Use a dictionary operation to reset the grade values to 0.\n",
        "        new_gradebook[keys]=0\n",
        "  return new_gradebook\n",
        "\n",
        "fall_gradebook = {\"James\": 93, \"Felicity\": 98, \"Barakaa\": 80}\n",
        "print(setup_gradebook(fall_gradebook))\n",
        "# Should output {'James': 0, 'Felicity': 0, 'Barakaa': 0}\n"
      ],
      "metadata": {
        "colab": {
          "base_uri": "https://localhost:8080/"
        },
        "id": "alh_PNgGvMHv",
        "outputId": "caa21187-5668-444e-f52d-5f82a71d86aa"
      },
      "execution_count": 32,
      "outputs": [
        {
          "output_type": "stream",
          "name": "stdout",
          "text": [
            "{'James': 0, 'Felicity': 0, 'Barakaa': 0}\n"
          ]
        }
      ]
    },
    {
      "cell_type": "code",
      "source": [
        "colors = [\"red\", \"white\", \"blue\"]\n",
        "colors.insert(2, \"yellow\")"
      ],
      "metadata": {
        "id": "cQ0YLBANwU00"
      },
      "execution_count": 33,
      "outputs": []
    },
    {
      "cell_type": "code",
      "source": [
        "colors"
      ],
      "metadata": {
        "colab": {
          "base_uri": "https://localhost:8080/"
        },
        "id": "BV4qiAVVxW6_",
        "outputId": "b1e37921-3461-48b4-d4b1-954555a6fd7e"
      },
      "execution_count": 34,
      "outputs": [
        {
          "output_type": "execute_result",
          "data": {
            "text/plain": [
              "['red', 'white', 'yellow', 'blue']"
            ]
          },
          "metadata": {},
          "execution_count": 34
        }
      ]
    },
    {
      "cell_type": "code",
      "source": [
        "speed_limits = {\"street\": 35, \"highway\": 65, \"school\": 15}\n",
        "speed_limits[\"highway\"]"
      ],
      "metadata": {
        "colab": {
          "base_uri": "https://localhost:8080/"
        },
        "id": "GTc7l35jxXvB",
        "outputId": "4a15ad7a-249a-43f0-e0c1-8b3efde09441"
      },
      "execution_count": 35,
      "outputs": [
        {
          "output_type": "execute_result",
          "data": {
            "text/plain": [
              "65"
            ]
          },
          "metadata": {},
          "execution_count": 35
        }
      ]
    },
    {
      "cell_type": "code",
      "source": [
        "genre = \"transcendental\"\n",
        "print(genre[:-8])\n",
        "print(genre[-7:9])"
      ],
      "metadata": {
        "colab": {
          "base_uri": "https://localhost:8080/"
        },
        "id": "JU2Tx-Mkxbym",
        "outputId": "d8cdebf4-807f-4435-ae2c-13aeb86ec939"
      },
      "execution_count": 36,
      "outputs": [
        {
          "output_type": "stream",
          "name": "stdout",
          "text": [
            "transc\n",
            "nd\n"
          ]
        }
      ]
    },
    {
      "cell_type": "markdown",
      "source": [
        "###Question 8\n",
        "####Fill in the blank to complete the **“highlight_word”** function. This function should change the given “word” to its upper-case version in a given “sentence”. Complete the string method needed in this function so that a function call like \"highlight_word(\"Have a nice day\", \"nice\")\" will return the output **\"Have a NICE day\".**"
      ],
      "metadata": {
        "id": "XkKhjbsF2DQ0"
      }
    },
    {
      "cell_type": "code",
      "source": [
        "def highlight_word(sentence, word):\n",
        "    # Complete the return statement using a string method.\n",
        "    return (sentence.replace(word,word.upper()))\n",
        "\n",
        "print(highlight_word(\"Have a nice day\", \"nice\"))\n",
        "# Should print: \"Have a NICE day\"\n",
        "print(highlight_word(\"Shhh, don't be so loud!\", \"loud\"))\n",
        "# Should print: \"Shhh, don't be so LOUD!\"\n",
        "print(highlight_word(\"Automating with Python is fun\", \"fun\"))\n",
        "# Should print: \"Automating with Python is FUN\""
      ],
      "metadata": {
        "colab": {
          "base_uri": "https://localhost:8080/"
        },
        "id": "Q25YFz8J1a7f",
        "outputId": "fd9ac5ec-c85d-43c9-a2cb-0a7c686fb6bc"
      },
      "execution_count": 50,
      "outputs": [
        {
          "output_type": "stream",
          "name": "stdout",
          "text": [
            "Have a NICE day\n",
            "Shhh, don't be so LOUD!\n",
            "Automating with Python is FUN\n"
          ]
        }
      ]
    },
    {
      "cell_type": "markdown",
      "source": [
        "###Question 4\n",
        "####Fill in the blank to complete the “increments” function. This function should use a list comprehension to create a list of numbers incremented by 2 (n+2). The function receives two variables and should return a list of incremented consecutive numbers between “start” and “end” inclusively (meaning the range should include both the “start” and “end” values). Complete the list comprehension in this function so that input like “squares(2, 3)” will produce the output “[4, 5]”."
      ],
      "metadata": {
        "id": "T8dVbCo8Fw8g"
      }
    },
    {
      "cell_type": "code",
      "source": [
        "def increments(start, end):\n",
        "    return [i+2 for i in range(start,end+1)] # Create the required list comprehension.\n",
        "\n",
        "\n",
        "print(increments(2, 3)) # Should print [4, 5]\n",
        "print(increments(1, 5)) # Should print [3, 4, 5, 6, 7]\n",
        "print(increments(0, 10)) # Should print [2, 3, 4, 5, 6, 7, 8, 9, 10, 11, 12]"
      ],
      "metadata": {
        "colab": {
          "base_uri": "https://localhost:8080/"
        },
        "id": "dJ1WZBRbFz5G",
        "outputId": "28281881-31b5-4071-990d-e4804c537058"
      },
      "execution_count": 51,
      "outputs": [
        {
          "output_type": "stream",
          "name": "stdout",
          "text": [
            "[4, 5]\n",
            "[3, 4, 5, 6, 7]\n",
            "[2, 3, 4, 5, 6, 7, 8, 9, 10, 11, 12]\n"
          ]
        }
      ]
    },
    {
      "cell_type": "markdown",
      "source": [
        "###Question 6\n",
        "####Consider the following scenario about using Python dictionaries:\n",
        "\n",
        "Tessa and Rick are hosting a party. Together, they sent out invitations, and collected the responses in a dictionary, with names of their friends and the number of guests each friend will be bringing.\n",
        "\n",
        "Complete the function so that the “check_guests” function retrieves the number of guests (value)  the specified friend “guest” (key) is bringing. This function should:\n",
        "\n",
        "accept a dictionary “guest_list” and a key “guest” variable passed through the function parameters;\n",
        "\n",
        "print the values associated with the key variable."
      ],
      "metadata": {
        "id": "1-VgxEBuGodR"
      }
    },
    {
      "cell_type": "code",
      "source": [
        "def check_guests(guest_list, guest):\n",
        "  return guest_list[guest] # Return the value for the given key\n",
        "\n",
        "\n",
        "guest_list = { \"Adam\":3, \"Camila\":3, \"David\":5, \"Jamal\":3, \"Charley\":2, \"Titus\":1, \"Raj\":6, \"Noemi\":1, \"Sakira\":3, \"Chidi\":5}\n",
        "\n",
        "\n",
        "print(check_guests(guest_list, \"Adam\")) # Should print 3\n",
        "print(check_guests(guest_list, \"Sakira\")) # Should print 3\n",
        "print(check_guests(guest_list, \"Charley\")) # Should print 2"
      ],
      "metadata": {
        "colab": {
          "base_uri": "https://localhost:8080/"
        },
        "id": "EgGWxdOXF1Yb",
        "outputId": "65b0783f-93d9-4508-e6a9-8f87073bb3bc"
      },
      "execution_count": 52,
      "outputs": [
        {
          "output_type": "stream",
          "name": "stdout",
          "text": [
            "3\n",
            "3\n",
            "2\n"
          ]
        }
      ]
    },
    {
      "cell_type": "code",
      "source": [],
      "metadata": {
        "id": "p3ZEnr_NGqLd"
      },
      "execution_count": null,
      "outputs": []
    }
  ]
}
{
  "nbformat": 4,
  "nbformat_minor": 0,
  "metadata": {
    "colab": {
      "provenance": [],
      "authorship_tag": "ABX9TyMnFptbm9OOTaqKxRmMjvxK",
      "include_colab_link": true
    },
    "kernelspec": {
      "name": "python3",
      "display_name": "Python 3"
    },
    "language_info": {
      "name": "python"
    }
  },
  "cells": [
    {
      "cell_type": "markdown",
      "metadata": {
        "id": "view-in-github",
        "colab_type": "text"
      },
      "source": [
        "<a href=\"https://colab.research.google.com/github/Nazneen-akram/coursera-rep/blob/main/Classes_python.ipynb\" target=\"_parent\"><img src=\"https://colab.research.google.com/assets/colab-badge.svg\" alt=\"Open In Colab\"/></a>"
      ]
    },
    {
      "cell_type": "code",
      "execution_count": 1,
      "metadata": {
        "colab": {
          "base_uri": "https://localhost:8080/"
        },
        "id": "UkIPRgg9q-sW",
        "outputId": "ef55e884-e092-4eff-979f-3ae3bdb8c0a8"
      },
      "outputs": [
        {
          "output_type": "stream",
          "name": "stdout",
          "text": [
            "Roses are red,\n",
            "violets are blue,\n",
            "Sugar is sweet, and so are you!\n"
          ]
        }
      ],
      "source": [
        "class Flower:\n",
        "  color = 'unknown'\n",
        "\n",
        "rose = Flower()\n",
        "rose.color = 'red'\n",
        "\n",
        "violet = Flower()\n",
        "violet.color = 'blue'\n",
        "\n",
        "this_pun_is_for_you = 'Sugar is sweet, and so are you!'\n",
        "\n",
        "print(\"Roses are {},\".format(rose.color))\n",
        "print(\"violets are {},\".format(violet.color))\n",
        "print(this_pun_is_for_you)"
      ]
    },
    {
      "cell_type": "markdown",
      "source": [
        "###Let’s test your knowledge of using dot notation to access methods and attributes in an object. Let’s say we have a class called Birds. Birds has two attributes: color and number. Birds also has a method called count() that counts the number of birds (adds a value to number). Which of the following lines of code will correctly print the number of birds? Keep in mind, the number of birds is 0 until they are counted!\n",
        "\n",
        "```\n",
        "bluejay.number = 0\n",
        "\n",
        "print(bluejay.number)\n",
        "\n",
        "\n",
        "print(bluejay.number.count())\n",
        "\n",
        "\n",
        "bluejay.count()\n",
        "\n",
        "print(bluejay.number)\n",
        "\n",
        "\n",
        "print(bluejay.number)\n",
        "```"
      ],
      "metadata": {
        "id": "5uV8C87Zxbvr"
      }
    },
    {
      "cell_type": "code",
      "source": [
        "class Birds:\n",
        "    color = \"\"\n",
        "    number = 0\n",
        "\n",
        "    def count(self, value):\n",
        "        self.number = self.number + value\n",
        "\n",
        "# create an instance of Birds\n",
        "bluejay = Birds()\n",
        "\n",
        "# count the birds\n",
        "bluejay.count(5)  # For example, adding 5 birds\n",
        "\n",
        "# print the number of birds\n",
        "print(bluejay.number)\n"
      ],
      "metadata": {
        "colab": {
          "base_uri": "https://localhost:8080/"
        },
        "id": "XZwjnqCqxL2l",
        "outputId": "28e3d081-56bc-4431-807a-d383ec52d15c"
      },
      "execution_count": 15,
      "outputs": [
        {
          "output_type": "stream",
          "name": "stdout",
          "text": [
            "5\n"
          ]
        }
      ]
    },
    {
      "cell_type": "markdown",
      "source": [
        "###Question 2\n",
        "Creating new instances of class objects can be a great way to keep track of values using attributes associated with the object. The values of these attributes can be easily changed at the object level.  The following code illustrates a famous quote by George Bernard Shaw, using objects to represent people. Fill in the blanks to make the code satisfy the behavior described in the quote."
      ],
      "metadata": {
        "id": "oeIPZHyi0KOT"
      }
    },
    {
      "cell_type": "code",
      "source": [
        "# “If you have an apple and I have an apple and we exchange these apples then\n",
        "# you and I will still each have one apple. But if you have an idea and I have\n",
        "# an idea and we exchange these ideas, then each of us will have two ideas.”\n",
        "# George Bernard Shaw\n",
        "\n",
        "class Person:\n",
        "    apples = 0\n",
        "    ideas = 0\n",
        "\n",
        "johanna = Person()\n",
        "johanna.apples = 1\n",
        "johanna.ideas = 1\n",
        "\n",
        "martin = Person()\n",
        "martin.apples = 2\n",
        "martin.ideas = 1\n",
        "\n",
        "def exchange_apples(you, me):\n",
        "    # Here, despite G.B. Shaw's quote, our characters have started with\n",
        "    # different amounts of apples so we can better observe the results.\n",
        "    # We're going to have Martin and Johanna exchange ALL their apples with\n",
        "    # one another.\n",
        "    # Hint: how would you switch values of variables,\n",
        "    # so that \"you\" and \"me\" will exchange ALL their apples with one another?\n",
        "    # Do you need a temporary variable to store one of the values?\n",
        "    # You may need more than one line of code to do that, which is OK.\n",
        "    temp = you.apples\n",
        "    you.apples = me.apples\n",
        "    me.apples = temp\n",
        "    return you.apples, me.apples\n",
        "\n",
        "def exchange_ideas(you, me):\n",
        "    # \"you\" and \"me\" will share our ideas with one another.\n",
        "    # What operations need to be performed, so that each object receives\n",
        "    # the shared number of ideas?\n",
        "    # Hint: how would you assign the total number of ideas to\n",
        "    # each idea attribute? Do you need a temporary variable to store\n",
        "    # the sum of ideas, or can you find another way?\n",
        "    # Use as many lines of code as you need here.\n",
        "    total_ideas = you.ideas + me.ideas\n",
        "    you.ideas = total_ideas\n",
        "    me.ideas = total_ideas\n",
        "    return you.ideas, me.ideas\n",
        "\n",
        "exchange_apples(johanna, martin)\n",
        "print(\"Johanna has {} apples and Martin has {} apples\".format(johanna.apples, martin.apples))\n",
        "exchange_ideas(johanna, martin)\n",
        "print(\"Johanna has {} ideas and Martin has {} ideas\".format(johanna.ideas, martin.ideas))\n"
      ],
      "metadata": {
        "colab": {
          "base_uri": "https://localhost:8080/"
        },
        "id": "LcdWhBZgydfZ",
        "outputId": "775aebff-71cd-4878-fa1a-a56dc73462b4"
      },
      "execution_count": 8,
      "outputs": [
        {
          "output_type": "stream",
          "name": "stdout",
          "text": [
            "Johanna has 2 apples and Martin has 1 apples\n",
            "Johanna has 2 ideas and Martin has 2 ideas\n"
          ]
        }
      ]
    },
    {
      "cell_type": "markdown",
      "source": [
        "###Question 3\n",
        "The City class has the following attributes: name, country (where the city is located), elevation (measured in meters), and population (approximate, according to recent statistics). Fill in the blanks of the max_elevation_city function to return the name of the city and its country (separated by a comma), when comparing the 3 defined instances for a specified minimal population. For example, calling the function for a minimum population of 1 million: max_elevation_city(1000000) should return \"Sofia, Bulgaria\"."
      ],
      "metadata": {
        "id": "pmA8WLg42hp3"
      }
    },
    {
      "cell_type": "code",
      "source": [
        "# define a basic city class\n",
        "class City:\n",
        "    name = \"\"\n",
        "    country = \"\"\n",
        "    elevation = 0\n",
        "    population = 0\n",
        "\n",
        "# create a new instance of the City class and\n",
        "# define each attribute\n",
        "city1 = City()\n",
        "city1.name = \"Cusco\"\n",
        "city1.country = \"Peru\"\n",
        "city1.elevation = 3399\n",
        "city1.population = 358052\n",
        "\n",
        "# create a new instance of the City class and\n",
        "# define each attribute\n",
        "city2 = City()\n",
        "city2.name = \"Sofia\"\n",
        "city2.country = \"Bulgaria\"\n",
        "city2.elevation = 2290\n",
        "city2.population = 1241675\n",
        "\n",
        "# create a new instance of the City class and\n",
        "# define each attribute\n",
        "city3 = City()\n",
        "city3.name = \"Seoul\"\n",
        "city3.country = \"South Korea\"\n",
        "city3.elevation = 38\n",
        "city3.population = 9733509\n",
        "\n",
        "def max_elevation_city(min_population):\n",
        "    # Initialize the variable that will hold\n",
        "    # the information of the city with\n",
        "    # the highest elevation\n",
        "    return_city = City()\n",
        "\n",
        "    # Evaluate the 1st instance to meet the requirements:\n",
        "    # does city #1 have at least min_population and\n",
        "    # is its elevation the highest evaluated so far?\n",
        "    if city1.population >= min_population and city1.elevation > return_city.elevation:\n",
        "        return_city = city1\n",
        "    # Evaluate the 2nd instance to meet the requirements:\n",
        "    # does city #2 have at least min_population and\n",
        "    # is its elevation the highest evaluated so far?\n",
        "    if city2.population >= min_population and city2.elevation > return_city.elevation:\n",
        "        return_city = city2\n",
        "    # Evaluate the 3rd instance to meet the requirements:\n",
        "    # does city #3 have at least min_population and\n",
        "    # is its elevation the highest evaluated so far?\n",
        "    if city3.population >= min_population and city3.elevation > return_city.elevation:\n",
        "        return_city = city3\n",
        "\n",
        "    # Format the return string\n",
        "    if return_city.name:\n",
        "        return f\"{return_city.name}, {return_city.country}\"\n",
        "    else:\n",
        "        return \"\"\n",
        "\n",
        "print(max_elevation_city(100000))  # Should print \"Cusco, Peru\"\n",
        "print(max_elevation_city(1000000))  # Should print \"Sofia, Bulgaria\"\n",
        "print(max_elevation_city(10000000))  # Should print \"\"\n"
      ],
      "metadata": {
        "colab": {
          "base_uri": "https://localhost:8080/"
        },
        "id": "zj56lAOa0L41",
        "outputId": "e6b1a4a8-adc8-4e10-a3a8-c82d466ade7a"
      },
      "execution_count": 9,
      "outputs": [
        {
          "output_type": "stream",
          "name": "stdout",
          "text": [
            "Cusco, Peru\n",
            "Sofia, Bulgaria\n",
            "\n"
          ]
        }
      ]
    },
    {
      "cell_type": "markdown",
      "source": [
        "###Question 5\n",
        "We have two pieces of furniture: a brown wood table and a red leather couch. Fill in the blanks following the creation of each Furniture class instance, so that the describe_furniture function can format a sentence that describes these pieces as follows: \"This piece of furniture is made of {color} {material}\""
      ],
      "metadata": {
        "id": "UE49Ya4b4lp3"
      }
    },
    {
      "cell_type": "code",
      "source": [
        "class Furniture:\n",
        "\tcolor = \"\"\n",
        "\tmaterial = \"\"\n",
        "\n",
        "table = Furniture()\n",
        "table.color = 'brown'\n",
        "table.material = 'wood'\n",
        "\n",
        "couch = Furniture()\n",
        "couch.color = 'red'\n",
        "couch.material = 'leather'\n",
        "\n",
        "def describe_furniture(piece):\n",
        "\treturn (\"This piece of furniture is made of {} {}\".format(piece.color, piece.material))\n",
        "\n",
        "print(describe_furniture(table))\n",
        "# Should be \"This piece of furniture is made of brown wood\"\n",
        "print(describe_furniture(couch))\n",
        "# Should be \"This piece of furniture is made of red leather\""
      ],
      "metadata": {
        "colab": {
          "base_uri": "https://localhost:8080/"
        },
        "id": "n6VuRIcC2jis",
        "outputId": "d3f5fe24-4022-43f4-c21d-5c564dc687da"
      },
      "execution_count": 10,
      "outputs": [
        {
          "output_type": "stream",
          "name": "stdout",
          "text": [
            "This piece of furniture is made of brown wood\n",
            "This piece of furniture is made of red leather\n"
          ]
        }
      ]
    },
    {
      "cell_type": "markdown",
      "source": [
        "    \n",
        "    \n",
        "###Create a Dog class with dog_years based on the Piglet class shown before (one human year is about 7 dog years)."
      ],
      "metadata": {
        "id": "ZnyJ7NFm6ogO"
      }
    },
    {
      "cell_type": "code",
      "source": [
        "class Dog:\n",
        "  years = 0\n",
        "  def dog_years(self):\n",
        "    return self.years * 7\n",
        "\n",
        "fido=Dog()\n",
        "fido.years=3\n",
        "print(fido.dog_years())"
      ],
      "metadata": {
        "colab": {
          "base_uri": "https://localhost:8080/"
        },
        "id": "iJCcWdz64oVR",
        "outputId": "f46ab132-65be-4166-ad7d-f32848730623"
      },
      "execution_count": 18,
      "outputs": [
        {
          "output_type": "stream",
          "name": "stdout",
          "text": [
            "21\n"
          ]
        }
      ]
    },
    {
      "cell_type": "markdown",
      "source": [
        "###In this code, there's a Person class that has an attribute name, which gets set when constructing the object. Fill in the blanks so that 1) when an instance of the class is created, the attribute gets set correctly, and 2) when the greeting() method is called, the greeting states the assigned name."
      ],
      "metadata": {
        "id": "yGn3x_nu-AXS"
      }
    },
    {
      "cell_type": "code",
      "source": [
        "class Person:\n",
        "    def __init__(self, name):\n",
        "        self.name = name\n",
        "    def greeting(self):\n",
        "        # Should return \"hi, my name is \" followed by the name of the Person.\n",
        "        return 'hi, my name is '+ self.name\n",
        "\n",
        "# Create a new instance with a name of your choice\n",
        "some_person = Person('Nazneen')\n",
        "# Call the greeting method\n",
        "print(some_person.greeting())\n"
      ],
      "metadata": {
        "colab": {
          "base_uri": "https://localhost:8080/"
        },
        "id": "z5Z9S2H66r_y",
        "outputId": "c51f3023-bacb-4b99-eda9-fc893c598c20"
      },
      "execution_count": 24,
      "outputs": [
        {
          "output_type": "stream",
          "name": "stdout",
          "text": [
            "hi, my name is Nazneen\n"
          ]
        }
      ]
    },
    {
      "cell_type": "code",
      "source": [
        "class Apple:\n",
        "  def __init__(self, color, flavor):\n",
        "    self.color = color\n",
        "    self.flavor = flavor\n",
        "\n",
        "  def __str__(self):\n",
        "    return \"This apple is {} and its flavor is {}\".format(self.color, self.flavor)\n",
        "\n",
        "jonagold = Apple(\"red\", \"sweet\")\n",
        "print(jonagold)"
      ],
      "metadata": {
        "colab": {
          "base_uri": "https://localhost:8080/"
        },
        "id": "5FGoQ4eO-CAX",
        "outputId": "4195e454-e441-47c8-84f2-9384c4b7499e"
      },
      "execution_count": 25,
      "outputs": [
        {
          "output_type": "stream",
          "name": "stdout",
          "text": [
            "This apple is red and its flavor is sweet\n"
          ]
        }
      ]
    },
    {
      "cell_type": "code",
      "source": [],
      "metadata": {
        "id": "qIx0x5v1_qyB"
      },
      "execution_count": null,
      "outputs": []
    }
  ]
}
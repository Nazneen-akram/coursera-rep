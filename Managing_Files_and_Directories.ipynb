{
  "nbformat": 4,
  "nbformat_minor": 0,
  "metadata": {
    "colab": {
      "provenance": [],
      "authorship_tag": "ABX9TyMQxd4ZFOgH3mBd4dTdQ7Zx",
      "include_colab_link": true
    },
    "kernelspec": {
      "name": "python3",
      "display_name": "Python 3"
    },
    "language_info": {
      "name": "python"
    }
  },
  "cells": [
    {
      "cell_type": "markdown",
      "metadata": {
        "id": "view-in-github",
        "colab_type": "text"
      },
      "source": [
        "<a href=\"https://colab.research.google.com/github/Nazneen-akram/coursera-rep/blob/main/Managing_Files_and_Directories.ipynb\" target=\"_parent\"><img src=\"https://colab.research.google.com/assets/colab-badge.svg\" alt=\"Open In Colab\"/></a>"
      ]
    },
    {
      "cell_type": "markdown",
      "source": [
        "###**Question 1**\n",
        "####The **create_python_script** function creates a new python script in the current working directory, adds the line of comments to it declared  by the **'comments'** variable, and returns the size of the new file. Fill in the gaps to create a script called **\"program.py\"**."
      ],
      "metadata": {
        "id": "ec2i6XmgsFSr"
      }
    },
    {
      "cell_type": "code",
      "source": [
        "import os\n",
        "def create_python_script(filename):\n",
        "  comments = \"# Start of a new Python program\"\n",
        "  with open(filename,\"a\") as files:\n",
        "    files.write(comments)\n",
        "    filesize = os.path.getsize(filename)\n",
        "  return(filesize)\n",
        "\n",
        "print(create_python_script(\"programs.py\"))"
      ],
      "metadata": {
        "colab": {
          "base_uri": "https://localhost:8080/"
        },
        "id": "m7fijNgmsINf",
        "outputId": "c29df9d2-1322-4256-fddf-94d36992a5df"
      },
      "execution_count": 32,
      "outputs": [
        {
          "output_type": "stream",
          "name": "stdout",
          "text": [
            "31\n"
          ]
        }
      ]
    },
    {
      "cell_type": "markdown",
      "source": [
        "###**Question 2**\n",
        "####The **new_directory** function creates a new directory inside the current working directory, then creates a new empty file inside the new directory, and returns the list of files in that directory. Fill in the gaps to create a file **\"script.py\"** in the directory **\"PythonPrograms\"**."
      ],
      "metadata": {
        "id": "_eBVWf9Vupio"
      }
    },
    {
      "cell_type": "code",
      "source": [
        "import os\n",
        "\n",
        "def new_directory(directory, filename):\n",
        "  # Before creating a new directory, check to see if it already exists\n",
        "  if os.path.isdir(directory) == False:\n",
        "    os.mkdir(directory)\n",
        "\n",
        "  # Create the new file inside of the new directory\n",
        "  os.chdir(directory)\n",
        "  with open (filename,\"w\") as file:\n",
        "    pass\n",
        "\n",
        "  # Return the list of files in the new directory\n",
        "  return os.listdir()\n",
        "\n",
        "print(new_directory(\"PythonPrograms\", \"script.py\"))"
      ],
      "metadata": {
        "colab": {
          "base_uri": "https://localhost:8080/"
        },
        "id": "w6aQVdAjusOv",
        "outputId": "d257446e-e317-4b2f-e9b5-fcb5063d7a18"
      },
      "execution_count": 5,
      "outputs": [
        {
          "output_type": "stream",
          "name": "stdout",
          "text": [
            "['script.py']\n"
          ]
        }
      ]
    },
    {
      "cell_type": "markdown",
      "source": [
        "###**Question 4**\n",
        "####The **file_date** function creates a new file in the current working directory, checks the date that the file was modified, and returns just the date portion of the timestamp in the format of **yyyy-mm-dd**. Fill in the gaps to create a file called **\"newfile.txt**\" and check the date that it was modified."
      ],
      "metadata": {
        "id": "6PdGmLYg2C9j"
      }
    },
    {
      "cell_type": "code",
      "source": [
        "import os\n",
        "import datetime\n",
        "\n",
        "def file_date(filename):\n",
        "  # Create the file in the current directory\n",
        "  open(filename,'w')\n",
        "  timestamp = os.path.getmtime(filename)\n",
        "  # Convert the timestamp into a readable format, then into a string\n",
        "  datetime.datetime.fromtimestamp(timestamp)\n",
        "  # Return just the date portion\n",
        "  # Hint: how many characters are in “yyyy-mm-dd”?\n",
        "  return (\"{___}\".format(___))\n",
        "\n",
        "print(file_date(\"newfile.txt\"))\n",
        "# Should be today's date in the format of yyyy-mm-dd"
      ],
      "metadata": {
        "id": "weuVsoEc1eRp"
      },
      "execution_count": null,
      "outputs": []
    },
    {
      "cell_type": "code",
      "source": [
        "timestamp"
      ],
      "metadata": {
        "colab": {
          "base_uri": "https://localhost:8080/"
        },
        "id": "Dc6cak_A3rh8",
        "outputId": "3b8c763c-ef7f-41d2-f25e-8ec1cf1a45b0"
      },
      "execution_count": 7,
      "outputs": [
        {
          "output_type": "execute_result",
          "data": {
            "text/plain": [
              "<method 'timestamp' of 'datetime.datetime' objects>"
            ]
          },
          "metadata": {},
          "execution_count": 7
        }
      ]
    },
    {
      "cell_type": "code",
      "source": [
        "import os\n",
        "import datetime\n",
        "\n",
        "def file_date(filename):\n",
        "  # Create the file in the current directory\n",
        "  open(filename,'w')\n",
        "  timestamp = os.path.getmtime(filename)\n",
        "  # Convert the timestamp into a readable format, then into a string\n",
        "  timestamp = str(datetime.datetime.fromtimestamp(timestamp))\n",
        "  # Return just the date portion\n",
        "  # Hint: how many characters are in “yyyy-mm-dd”?\n",
        "  return (\"{:.10}\".format(timestamp))\n",
        "\n",
        "print(file_date(\"newfile.txt\"))\n",
        "# Should be today's date in the format of yyyy-mm-dd"
      ],
      "metadata": {
        "colab": {
          "base_uri": "https://localhost:8080/"
        },
        "id": "arlrbzpN3tUs",
        "outputId": "d70f7556-2d87-4a70-94bd-464ae517c8d3"
      },
      "execution_count": 17,
      "outputs": [
        {
          "output_type": "stream",
          "name": "stdout",
          "text": [
            "2023-12-14\n"
          ]
        }
      ]
    },
    {
      "cell_type": "markdown",
      "source": [
        "###**Question 5**\n",
        "####The **parent_directory** function returns the name of the directory that's located just above the current working directory. Remember that **'..'** is a relative path alias that means \"go up to the parent directory\". Fill in the gaps to complete this function."
      ],
      "metadata": {
        "id": "YAwqNtEU8o-j"
      }
    },
    {
      "cell_type": "code",
      "source": [
        "import os\n",
        "def parent_directory():\n",
        "  # Create a relative path to the parent\n",
        "  # of the current working directory\n",
        "  relative_parent = os.path.join(os.getcwd(),\"\" )\n",
        "\n",
        "  # Return the absolute path of the parent directory\n",
        "  return os.path.abspath(relative_parent)\n",
        "\n",
        "print(parent_directory())\n",
        "\n",
        "#/content/PythonPrograms/PythonPrograms"
      ],
      "metadata": {
        "colab": {
          "base_uri": "https://localhost:8080/"
        },
        "id": "g10Vse3Q5dN7",
        "outputId": "bae81a7a-f53a-4f10-8033-5be18427beed"
      },
      "execution_count": 28,
      "outputs": [
        {
          "output_type": "stream",
          "name": "stdout",
          "text": [
            "/content/PythonPrograms/PythonPrograms/PythonPrograms\n"
          ]
        }
      ]
    },
    {
      "cell_type": "code",
      "source": [
        "import os\n",
        "def parent_directory():\n",
        "  # Create a relative path to the parent\n",
        "  # of the current working directory\n",
        "  relative_parent = os.path.join(os.getcwd(),'..' ) # go up to the parent directory using double dots ..\n",
        "\n",
        "  # Return the absolute path of the parent directory\n",
        "  return os.path.abspath(relative_parent)\n",
        "\n",
        "print(parent_directory())\n",
        "#/content/PythonPrograms/PythonPrograms"
      ],
      "metadata": {
        "colab": {
          "base_uri": "https://localhost:8080/"
        },
        "id": "aKiH7G4RBTEY",
        "outputId": "52061e20-9d62-4d26-e852-c85a0a5427f9"
      },
      "execution_count": 35,
      "outputs": [
        {
          "output_type": "stream",
          "name": "stdout",
          "text": [
            "/content/PythonPrograms/PythonPrograms\n"
          ]
        }
      ]
    },
    {
      "cell_type": "code",
      "source": [],
      "metadata": {
        "id": "QN6e1sPwEk3y"
      },
      "execution_count": null,
      "outputs": []
    }
  ]
}
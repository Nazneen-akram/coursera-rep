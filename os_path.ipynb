{
  "nbformat": 4,
  "nbformat_minor": 0,
  "metadata": {
    "colab": {
      "provenance": [],
      "authorship_tag": "ABX9TyPbKBxt5Tx1ciEk1WYDXVv9",
      "include_colab_link": true
    },
    "kernelspec": {
      "name": "python3",
      "display_name": "Python 3"
    },
    "language_info": {
      "name": "python"
    }
  },
  "cells": [
    {
      "cell_type": "markdown",
      "metadata": {
        "id": "view-in-github",
        "colab_type": "text"
      },
      "source": [
        "<a href=\"https://colab.research.google.com/github/Nazneen-akram/coursera-rep/blob/main/os_path.ipynb\" target=\"_parent\"><img src=\"https://colab.research.google.com/assets/colab-badge.svg\" alt=\"Open In Colab\"/></a>"
      ]
    },
    {
      "cell_type": "code",
      "execution_count": 2,
      "metadata": {
        "colab": {
          "base_uri": "https://localhost:8080/"
        },
        "id": "s3tjiC9vErUI",
        "outputId": "1905bb21-d7a5-47be-c406-c3eecba0d338"
      },
      "outputs": [
        {
          "output_type": "execute_result",
          "data": {
            "text/plain": [
              "194"
            ]
          },
          "metadata": {},
          "execution_count": 2
        }
      ],
      "source": [
        "import os\n",
        "os.path.getsize(\"spider.txt\")\n",
        "#This code will provide the file size\n"
      ]
    },
    {
      "cell_type": "code",
      "source": [
        "os.path.getmtime(\"spider.txt\")\n",
        "#This code will provide a timestamp for the file\n"
      ],
      "metadata": {
        "colab": {
          "base_uri": "https://localhost:8080/"
        },
        "id": "N3f3CbkWFHf3",
        "outputId": "9187d637-4353-4fbd-f739-92421ac25e69"
      },
      "execution_count": 3,
      "outputs": [
        {
          "output_type": "execute_result",
          "data": {
            "text/plain": [
              "1702452513.2849078"
            ]
          },
          "metadata": {},
          "execution_count": 3
        }
      ]
    },
    {
      "cell_type": "code",
      "source": [
        "import datetime\n",
        "timestamp = os.path.getmtime(\"spider.txt\")\n",
        "datetime.datetime.fromtimestamp(timestamp)\n",
        "#This code will provide the date and time for the file in an easy too understand format\n"
      ],
      "metadata": {
        "colab": {
          "base_uri": "https://localhost:8080/"
        },
        "id": "MHgSv08KFN8v",
        "outputId": "1208c2cf-ddcf-4c42-c20d-4be5e6a8c681"
      },
      "execution_count": 4,
      "outputs": [
        {
          "output_type": "execute_result",
          "data": {
            "text/plain": [
              "datetime.datetime(2023, 12, 13, 7, 28, 33, 284908)"
            ]
          },
          "metadata": {},
          "execution_count": 4
        }
      ]
    },
    {
      "cell_type": "code",
      "source": [
        "os.path.abspath(\"spider.txt\")\n",
        "#This code takes the file name and turns it into an absolute path"
      ],
      "metadata": {
        "colab": {
          "base_uri": "https://localhost:8080/",
          "height": 36
        },
        "id": "bHYpdVD_FUGN",
        "outputId": "822a0daf-56e5-4ac5-b707-fd0be7cbf0fa"
      },
      "execution_count": 5,
      "outputs": [
        {
          "output_type": "execute_result",
          "data": {
            "text/plain": [
              "'/content/spider.txt'"
            ],
            "application/vnd.google.colaboratory.intrinsic+json": {
              "type": "string"
            }
          },
          "metadata": {},
          "execution_count": 5
        }
      ]
    },
    {
      "cell_type": "code",
      "source": [
        "os.path.basename(\"/content/spider.txt\")"
      ],
      "metadata": {
        "colab": {
          "base_uri": "https://localhost:8080/",
          "height": 36
        },
        "id": "ZXPPIxRRFUiE",
        "outputId": "3e3ae7c0-be10-45ba-8d30-0cd1c4f42033"
      },
      "execution_count": 7,
      "outputs": [
        {
          "output_type": "execute_result",
          "data": {
            "text/plain": [
              "'spider.txt'"
            ],
            "application/vnd.google.colaboratory.intrinsic+json": {
              "type": "string"
            }
          },
          "metadata": {},
          "execution_count": 7
        }
      ]
    },
    {
      "cell_type": "code",
      "source": [
        "os.rename(\"spider.txt\",\"spider_poem\")"
      ],
      "metadata": {
        "id": "AvYOSCEDF3n4"
      },
      "execution_count": 9,
      "outputs": []
    },
    {
      "cell_type": "code",
      "source": [
        "with open(\"spider_poem\",\"r\") as f:\n",
        "  for line in f:\n",
        "    print(line)"
      ],
      "metadata": {
        "colab": {
          "base_uri": "https://localhost:8080/"
        },
        "id": "19NsGfQxGJ-2",
        "outputId": "dd4fedbc-47e2-45cd-a366-943f8d27f2ff"
      },
      "execution_count": 12,
      "outputs": [
        {
          "output_type": "stream",
          "name": "stdout",
          "text": [
            "The itsy bitsy spider climbed up the water spout\n",
            "\n",
            "Down came the rain and washed the spider out\n",
            "\n",
            "Out came the sun and dried up all the rain\n",
            "\n",
            "And the itsy bitsy spider climbed up the spout again\n",
            "\n"
          ]
        }
      ]
    },
    {
      "cell_type": "code",
      "source": [
        "import os\n",
        "file= \"file.dat\"\n",
        "if os.path.isfile(file):\n",
        "  print(os.path.isfile(file))\n",
        "  print(os.path.getsize(file))\n",
        "else:\n",
        "  print(os.path.isfile(file))\n",
        "  print(\"File not Found\")"
      ],
      "metadata": {
        "colab": {
          "base_uri": "https://localhost:8080/"
        },
        "id": "PESQ90IuGi80",
        "outputId": "90b5f95f-62d7-4274-cc99-2b4f38f07338"
      },
      "execution_count": 17,
      "outputs": [
        {
          "output_type": "stream",
          "name": "stdout",
          "text": [
            "False\n",
            "File not Found\n"
          ]
        }
      ]
    },
    {
      "cell_type": "markdown",
      "source": [
        "###Because the file does not exist, **getsize()** will never be called and our error message will be printed instead."
      ],
      "metadata": {
        "id": "2MaVjyH-IydS"
      }
    },
    {
      "cell_type": "code",
      "source": [
        "os.mkdir(\"new_dir\")\n",
        "#The os.mkdir(\"new_dir\") function creates a new directory called new_dir"
      ],
      "metadata": {
        "id": "JBAW_8frIbza"
      },
      "execution_count": 18,
      "outputs": []
    },
    {
      "cell_type": "code",
      "source": [
        " os.chdir(\"new_dir\")\n",
        " os.getcwd()\n",
        "#This code snippet changes the current working directory to new_dir. The second line prints the current working directory."
      ],
      "metadata": {
        "colab": {
          "base_uri": "https://localhost:8080/",
          "height": 36
        },
        "id": "KynzHXQTOqO6",
        "outputId": "74855efc-773d-4679-95e8-8f34b02c28d6"
      },
      "execution_count": 19,
      "outputs": [
        {
          "output_type": "execute_result",
          "data": {
            "text/plain": [
              "'/content/new_dir'"
            ],
            "application/vnd.google.colaboratory.intrinsic+json": {
              "type": "string"
            }
          },
          "metadata": {},
          "execution_count": 19
        }
      ]
    },
    {
      "cell_type": "code",
      "source": [
        " os.mkdir(\"newer_dir\")\n",
        ""
      ],
      "metadata": {
        "id": "tlIxM9x2Os9V"
      },
      "execution_count": 21,
      "outputs": []
    },
    {
      "cell_type": "code",
      "source": [
        "os.rmdir(\"newer_dir\")\n",
        "#This code snippet creates a new directory called newer_dir. The second line deletes the newer_dir directory."
      ],
      "metadata": {
        "id": "wnAE8u25O0Kx"
      },
      "execution_count": 22,
      "outputs": []
    },
    {
      "cell_type": "code",
      "source": [
        "!ls"
      ],
      "metadata": {
        "id": "1ibDXSPGO7aM"
      },
      "execution_count": 23,
      "outputs": []
    },
    {
      "cell_type": "code",
      "source": [
        "import os\n",
        "os.chdir(\"/content/sample_data\")\n",
        "os.listdir(\"/content/sample_data\")\n",
        "#This code snippet returns a list of all the files and sub-directories in the website directory."
      ],
      "metadata": {
        "colab": {
          "base_uri": "https://localhost:8080/"
        },
        "id": "4Xgywc9NPIbL",
        "outputId": "b7352539-6313-40c8-bf64-e8f82c66b32d"
      },
      "execution_count": 30,
      "outputs": [
        {
          "output_type": "execute_result",
          "data": {
            "text/plain": [
              "['anscombe.json',\n",
              " 'README.md',\n",
              " 'california_housing_train.csv',\n",
              " 'mnist_train_small.csv',\n",
              " 'california_housing_test.csv',\n",
              " 'mnist_test.csv']"
            ]
          },
          "metadata": {},
          "execution_count": 30
        }
      ]
    },
    {
      "cell_type": "code",
      "source": [
        " dir = \"/content/sample_data\"\n",
        " for name in os.listdir(dir):\n",
        "     fullname = os.path.join(\"\", name)\n",
        "     if os.path.isdir(fullname):\n",
        "          print(\"{} is a directory\".format(fullname))\n",
        "     else:\n",
        "          print(\"{} is a file\".format(fullname))\n"
      ],
      "metadata": {
        "colab": {
          "base_uri": "https://localhost:8080/"
        },
        "id": "L7YzR-ujPAGo",
        "outputId": "f2e1b6e4-f9a1-4f30-d06e-34ca3ac756a4"
      },
      "execution_count": 33,
      "outputs": [
        {
          "output_type": "stream",
          "name": "stdout",
          "text": [
            "anscombe.json is a file\n",
            "README.md is a file\n",
            "california_housing_train.csv is a file\n",
            "mnist_train_small.csv is a file\n",
            "california_housing_test.csv is a file\n",
            "mnist_test.csv is a file\n"
          ]
        }
      ]
    },
    {
      "cell_type": "code",
      "source": [
        "# Create a directory and move a file from one directory to another\n",
        "# using low-level OS functions.\n",
        "\n",
        "import os\n",
        "\n",
        "# Check to see if a directory named \"test1\" exists under the current\n",
        "# directory. If not, create it:\n",
        "dest_dir = os.path.join(os.getcwd(), \"test1\")\n",
        "if not os.path.exists(dest_dir):\n",
        " os.mkdir(dest_dir)\n"
      ],
      "metadata": {
        "id": "r6xNdhPZPD0y"
      },
      "execution_count": 34,
      "outputs": []
    },
    {
      "cell_type": "code",
      "source": [
        "\n",
        "# Construct source and destination paths:\n",
        "src_file = os.path.join(os.getcwd(), \"README.md\")\n",
        "dest_file = os.path.join(os.getcwd(), \"test1\", \"README.md\")\n"
      ],
      "metadata": {
        "id": "EUod_IlqW0PL"
      },
      "execution_count": 39,
      "outputs": []
    },
    {
      "cell_type": "code",
      "source": [
        "dest_file"
      ],
      "metadata": {
        "colab": {
          "base_uri": "https://localhost:8080/",
          "height": 36
        },
        "id": "VW_M4HgkXJbB",
        "outputId": "e8283723-7fc4-49a3-d308-46d37c766032"
      },
      "execution_count": 40,
      "outputs": [
        {
          "output_type": "execute_result",
          "data": {
            "text/plain": [
              "'/content/sample_data/test1/README.md'"
            ],
            "application/vnd.google.colaboratory.intrinsic+json": {
              "type": "string"
            }
          },
          "metadata": {},
          "execution_count": 40
        }
      ]
    },
    {
      "cell_type": "code",
      "source": [
        "src_file"
      ],
      "metadata": {
        "colab": {
          "base_uri": "https://localhost:8080/",
          "height": 36
        },
        "id": "SHMVx8NVXQ3W",
        "outputId": "7963b1b4-4a23-42cd-fd58-41070c939aa2"
      },
      "execution_count": 41,
      "outputs": [
        {
          "output_type": "execute_result",
          "data": {
            "text/plain": [
              "'/content/sample_data/README.md'"
            ],
            "application/vnd.google.colaboratory.intrinsic+json": {
              "type": "string"
            }
          },
          "metadata": {},
          "execution_count": 41
        }
      ]
    },
    {
      "cell_type": "code",
      "source": [
        "# Move the file from its original location to the destination:\n",
        "os.rename(src_file, dest_file)"
      ],
      "metadata": {
        "id": "VmMBzKVjW9RN"
      },
      "execution_count": 42,
      "outputs": []
    },
    {
      "cell_type": "code",
      "source": [
        "src_file"
      ],
      "metadata": {
        "colab": {
          "base_uri": "https://localhost:8080/",
          "height": 36
        },
        "id": "iUT3JIRdXYmy",
        "outputId": "bfc0f194-f004-496c-cb0a-0959791ed274"
      },
      "execution_count": 43,
      "outputs": [
        {
          "output_type": "execute_result",
          "data": {
            "text/plain": [
              "'/content/sample_data/README.md'"
            ],
            "application/vnd.google.colaboratory.intrinsic+json": {
              "type": "string"
            }
          },
          "metadata": {},
          "execution_count": 43
        }
      ]
    },
    {
      "cell_type": "code",
      "source": [
        "dest_file"
      ],
      "metadata": {
        "colab": {
          "base_uri": "https://localhost:8080/",
          "height": 36
        },
        "id": "BvXBv5h-Xmtz",
        "outputId": "ec149800-d9cb-4dc0-b1ce-02250ade6415"
      },
      "execution_count": 44,
      "outputs": [
        {
          "output_type": "execute_result",
          "data": {
            "text/plain": [
              "'/content/sample_data/test1/README.md'"
            ],
            "application/vnd.google.colaboratory.intrinsic+json": {
              "type": "string"
            }
          },
          "metadata": {},
          "execution_count": 44
        }
      ]
    },
    {
      "cell_type": "code",
      "source": [
        "# Create a directory and move a file from one directory to another\n",
        "# using Pathlib.\n",
        "\n",
        "from pathlib import Path\n",
        "\n",
        "# Check to see if the \"test1\" subdirectory exists. If not, create it:\n",
        "dest_dir = Path(\"./test1/\")\n",
        "if not dest_dir.exists():\n",
        "  dest_dir.mkdir()\n",
        "\n",
        "# Construct source and destination paths:\n",
        "src_file = Path(\"./sample_data/README.md\")\n",
        "dest_file = dest_dir / \"README.md\"\n",
        "\n",
        "# Move the file from its original location to the destination:\n",
        "src_file.rename(dest_file)"
      ],
      "metadata": {
        "id": "G_-IdIW8Xp28"
      },
      "execution_count": null,
      "outputs": []
    },
    {
      "cell_type": "markdown",
      "source": [
        "##**File operations**\n",
        "####File names can be thought of as two names separated by a dot. For example, helloworld.txt is the file name and the extension defines the file type. OS provides functions to create, read, update, and delete files. Some of the basic functions include:\n",
        "\n",
        "1. Opening and closing files\n",
        "\n",
        "2. Reading from and writing to files\n",
        "\n",
        "3. Appending to files"
      ],
      "metadata": {
        "id": "18VyKEOuZzh8"
      }
    },
    {
      "cell_type": "markdown",
      "source": [
        "##**Directories**\n",
        "####OS also provides functions to create, read, update, and delete directories, as well as change directories and list files. Knowing how to use these functions is key to working with files. For example, os.listdir( path ) returns a list of all files and subdirectories in a directory."
      ],
      "metadata": {
        "id": "H4Ge7zK1asF_"
      }
    },
    {
      "cell_type": "markdown",
      "source": [
        "##**Permissions**\n",
        "####Having the ability to update file permissions is an important aspect of making installations from a terminal window. The os.chmod() provides the ability to create, read, and update permissions for individuals or groups.\n",
        "\n",
        "##**Things to keep in mind**  \n",
        "####One thing to be aware of is that Python treats text and binary files differently. Because Python is cross-platform, it tries to automatically handle different ASCII line endings. If you’re processing a binary file, make sure to open it in binary mode so Python doesn’t try to “fix” newlines in a binary file.\n",
        "\n",
        "####A best practice is to always close() a file when you’re done reading or writing to it. Even though Python usually closes them for you, it’s a good signal to other people reading your code that you’re done with that file. Make sure to catch any potential errors from filesystem calls, such as permission denied, file not found, and so on. Generally, you wrap them in try/except to handle those errors.\n",
        "\n",
        "##**Key takeaways**\n",
        "####There are several ways to manage files and directories in Python. One way is to use low-level functions in the OS and SYS modules that closely mimic standard Linux commands. Another way is to utilize the Pathlib module, which provides an object-oriented interface to working with the file systems."
      ],
      "metadata": {
        "id": "XIeOJ1nMa0JW"
      }
    }
  ]
}
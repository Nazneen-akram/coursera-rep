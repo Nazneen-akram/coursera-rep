{
  "nbformat": 4,
  "nbformat_minor": 0,
  "metadata": {
    "colab": {
      "provenance": [],
      "authorship_tag": "ABX9TyOjMx5ky0Gy2n2i5Foyfz64",
      "include_colab_link": true
    },
    "kernelspec": {
      "name": "python3",
      "display_name": "Python 3"
    },
    "language_info": {
      "name": "python"
    }
  },
  "cells": [
    {
      "cell_type": "markdown",
      "metadata": {
        "id": "view-in-github",
        "colab_type": "text"
      },
      "source": [
        "<a href=\"https://colab.research.google.com/github/Nazneen-akram/coursera-rep/blob/main/single_line_python.ipynb\" target=\"_parent\"><img src=\"https://colab.research.google.com/assets/colab-badge.svg\" alt=\"Open In Colab\"/></a>"
      ]
    },
    {
      "cell_type": "markdown",
      "source": [
        "#One-line For Loop"
      ],
      "metadata": {
        "id": "x5ykQryCR5Ba"
      }
    },
    {
      "cell_type": "code",
      "source": [
        "mylist = [200, 300, 400, 500]"
      ],
      "metadata": {
        "id": "0dIEPJhnSWrz"
      },
      "execution_count": 2,
      "outputs": []
    },
    {
      "cell_type": "code",
      "source": [
        "result = [x for x in mylist if x > 250]\n",
        "print(result) # [300, 400, 500]"
      ],
      "metadata": {
        "colab": {
          "base_uri": "https://localhost:8080/"
        },
        "id": "p8aIt4tIR6sz",
        "outputId": "b584e582-f744-4b3d-c9ec-cb659705edf4"
      },
      "execution_count": 3,
      "outputs": [
        {
          "output_type": "stream",
          "name": "stdout",
          "text": [
            "[300, 400, 500]\n"
          ]
        }
      ]
    },
    {
      "cell_type": "code",
      "source": [
        "x = 0\n",
        "while x < 5: print(x); x= x + 1"
      ],
      "metadata": {
        "colab": {
          "base_uri": "https://localhost:8080/"
        },
        "id": "ghXRdi9KSQ5u",
        "outputId": "12b5f16d-8449-42cd-908f-3c8b3e5b9c7a"
      },
      "execution_count": 4,
      "outputs": [
        {
          "output_type": "stream",
          "name": "stdout",
          "text": [
            "0\n",
            "1\n",
            "2\n",
            "3\n",
            "4\n"
          ]
        }
      ]
    },
    {
      "cell_type": "code",
      "source": [
        "#if Else In a single line.\n",
        "#Example 1 if else\n",
        "print(\"Yes\") if 8 > 9 else print(\"No\") # No\n",
        "#Example 2 if elif else\n",
        "E = 2\n",
        "print(\"High\") if E == 5 else print(\"Data Studio\") if E == 2 else print(\"Low\") # Data STUDIO\n",
        "\n",
        "#Example 3 only if\n",
        "if 3 > 2: print(\"Exactly\") # Exactly"
      ],
      "metadata": {
        "colab": {
          "base_uri": "https://localhost:8080/"
        },
        "id": "jSsmTUddSuH6",
        "outputId": "59a8c7c0-5849-432c-cff4-ad7395588d67"
      },
      "execution_count": 7,
      "outputs": [
        {
          "output_type": "stream",
          "name": "stdout",
          "text": [
            "No\n",
            "Data Studio\n",
            "Exactly\n"
          ]
        }
      ]
    },
    {
      "cell_type": "code",
      "source": [
        "# Merging dictionaries in one line\n",
        "d1 = { 'A': 1, 'B': 2 }\n",
        "d2 = { 'C': 3, 'D': 4 }\n",
        "#Method1\n",
        "d1.update(d2)\n",
        "print(d1) # {'A': 1, 'B': 2, 'C': 3, 'D': 4}\n"
      ],
      "metadata": {
        "colab": {
          "base_uri": "https://localhost:8080/"
        },
        "id": "wnfjLffrTIlu",
        "outputId": "4e5247fc-ca47-4f82-84ff-83e410e7ce53"
      },
      "execution_count": 8,
      "outputs": [
        {
          "output_type": "stream",
          "name": "stdout",
          "text": [
            "{'A': 1, 'B': 2, 'C': 3, 'D': 4}\n"
          ]
        }
      ]
    },
    {
      "cell_type": "code",
      "source": [
        "#Method2\n",
        "d3 = {**d1, **d2}\n",
        "print(d3) # {'A': 1, 'B': 2, 'C': 3, 'D': 4}"
      ],
      "metadata": {
        "colab": {
          "base_uri": "https://localhost:8080/"
        },
        "id": "r7ENtIdQTYQ2",
        "outputId": "d55549ff-33ef-4e98-9418-9bbfe6c2bec0"
      },
      "execution_count": 9,
      "outputs": [
        {
          "output_type": "stream",
          "name": "stdout",
          "text": [
            "{'A': 1, 'B': 2, 'C': 3, 'D': 4}\n"
          ]
        }
      ]
    },
    {
      "cell_type": "code",
      "source": [
        "#Function in one line\n",
        "#Method1\n",
        "def fun(x): return True if x % 2 == 0 else False\n",
        "print(fun(2)) # False\n",
        "#Method2\n",
        "fun = lambda x : x % 2 == 0\n",
        "print(fun(2)) # True\n",
        "print(fun(3)) # False"
      ],
      "metadata": {
        "colab": {
          "base_uri": "https://localhost:8080/"
        },
        "id": "9Cq_pCvjTZFy",
        "outputId": "23b5152b-8379-48e3-dcb6-546696a06edc"
      },
      "execution_count": 10,
      "outputs": [
        {
          "output_type": "stream",
          "name": "stdout",
          "text": [
            "True\n",
            "True\n",
            "False\n"
          ]
        }
      ]
    },
    {
      "cell_type": "code",
      "source": [
        "# Single-line recursion\n",
        "#Fibonaci Single-line recursion example\n",
        "def Fib(x): return 1 if x in {0, 1} else Fib(x-1) + Fib(x-2)\n",
        "print(Fib(5)) # 8\n",
        "print(Fib(15)) # 987"
      ],
      "metadata": {
        "colab": {
          "base_uri": "https://localhost:8080/"
        },
        "id": "u4JAcSqzTh4-",
        "outputId": "c8a9e916-d881-428e-89cc-1ef3e3cd7ac3"
      },
      "execution_count": 11,
      "outputs": [
        {
          "output_type": "stream",
          "name": "stdout",
          "text": [
            "8\n",
            "987\n"
          ]
        }
      ]
    },
    {
      "cell_type": "code",
      "source": [
        "# Filtering arrays in a single line\n",
        "mylist = [2, 3, 5, 8, 9, 12, 13, 15]\n",
        "#Normal way\n",
        "result = []\n",
        "for x in mylist:\n",
        "    if x % 2 == 0:\n",
        "        result.append(x)\n",
        "print(result) # [2, 8, 12]\n",
        "# One-line method\n",
        "result = [x for x in mylist if x % 2 == 0]\n",
        "print(result) # [2, 8, 12]"
      ],
      "metadata": {
        "colab": {
          "base_uri": "https://localhost:8080/"
        },
        "id": "_b59sGj5T05y",
        "outputId": "b5a65767-10c6-4aa5-e0a5-4f2306824135"
      },
      "execution_count": 12,
      "outputs": [
        {
          "output_type": "stream",
          "name": "stdout",
          "text": [
            "[2, 8, 12]\n",
            "[2, 8, 12]\n"
          ]
        }
      ]
    },
    {
      "cell_type": "code",
      "source": [
        "# Exception handling in one line\n",
        "#Original method\n",
        "try:\n",
        "    print(x)\n",
        "except:\n",
        "    print(\"Error\")\n",
        "#Single line way\n",
        "exec('try:print(x) \\nexcept:print(\"Error\")') # Error"
      ],
      "metadata": {
        "colab": {
          "base_uri": "https://localhost:8080/"
        },
        "id": "nIxR87o_T6WI",
        "outputId": "64b53a19-3dc2-4ec6-c0d0-4d8b4d75740f"
      },
      "execution_count": 13,
      "outputs": [
        {
          "output_type": "stream",
          "name": "stdout",
          "text": [
            "15\n",
            "15\n"
          ]
        }
      ]
    },
    {
      "cell_type": "code",
      "source": [
        "# Dictionary in one line\n",
        "mydict = [\"John\", \"Peter\", \"Mathew\", \"Tom\"]\n",
        "mydict = dict(enumerate(mydict))\n",
        "print(mydict) # {0: 'John', 1: 'Peter', 2: 'Mathew', 3: 'Tom'}"
      ],
      "metadata": {
        "colab": {
          "base_uri": "https://localhost:8080/"
        },
        "id": "1-2YsbGAUDrU",
        "outputId": "18731a78-33b7-4a5a-a29f-20eb96bf1210"
      },
      "execution_count": 14,
      "outputs": [
        {
          "output_type": "stream",
          "name": "stdout",
          "text": [
            "{0: 'John', 1: 'Peter', 2: 'Mathew', 3: 'Tom'}\n"
          ]
        }
      ]
    },
    {
      "cell_type": "code",
      "source": [
        "#Multiple variable assignments in one line.\n",
        "#Single-line method\n",
        "x = 5\n",
        "y = 7\n",
        "z = 10\n",
        "print(x , y, z) # 5 7 10\n",
        "#Single line way\n",
        "a, b, c = 5, 7, 10\n",
        "print(a, b, c) # 5 7 10"
      ],
      "metadata": {
        "colab": {
          "base_uri": "https://localhost:8080/"
        },
        "id": "OCzuSQKoUHNV",
        "outputId": "1036f13d-cd6d-42cd-afef-1a6c5e3e8b1d"
      },
      "execution_count": 15,
      "outputs": [
        {
          "output_type": "stream",
          "name": "stdout",
          "text": [
            "5 7 10\n",
            "5 7 10\n"
          ]
        }
      ]
    },
    {
      "cell_type": "code",
      "source": [
        "#Swap values in one line\n",
        "#Single-line method\n",
        "v1 = 100\n",
        "v2 = 200\n",
        "temp = v1\n",
        "v1 = v2\n",
        "v2 = temp\n",
        "print(v1, v2) # 200 100\n",
        "# One-line value swapping\n",
        "v1, v2 = v2, v1\n",
        "print(v1, v2) # 200 100"
      ],
      "metadata": {
        "colab": {
          "base_uri": "https://localhost:8080/"
        },
        "id": "n4TvL03CUIs4",
        "outputId": "e229838a-0d4c-4ba7-a2b2-c19a5ae61cfb"
      },
      "execution_count": 16,
      "outputs": [
        {
          "output_type": "stream",
          "name": "stdout",
          "text": [
            "200 100\n",
            "100 200\n"
          ]
        }
      ]
    },
    {
      "cell_type": "code",
      "source": [
        "# Sort in one line\n",
        "mylist = [32, 22, 11, 4, 6, 8, 12]\n",
        "# Method1\n",
        "mylist.sort()\n",
        "print(mylist) # # [4, 6, 8, 11, 12, 22, 32]\n",
        "print(sorted(mylist)) # [4, 6, 8, 11, 12, 22, 32]"
      ],
      "metadata": {
        "colab": {
          "base_uri": "https://localhost:8080/"
        },
        "id": "WKSMJimQURow",
        "outputId": "cab46347-d5b9-4301-ce61-423cad16f579"
      },
      "execution_count": 17,
      "outputs": [
        {
          "output_type": "stream",
          "name": "stdout",
          "text": [
            "[4, 6, 8, 11, 12, 22, 32]\n",
            "[4, 6, 8, 11, 12, 22, 32]\n"
          ]
        }
      ]
    },
    {
      "cell_type": "code",
      "source": [
        "#Reading a file in one line\n",
        "#Single-line method\n",
        "with open(\"data.txt\", \"r\") as file:\n",
        "    data = file.readline()\n",
        "    print(data) # Hello world\n",
        "#Single line way\n",
        "data = [line.strip() for line in open(\"data.txt\",\"r\")]\n",
        "print(data) # ['hello world', 'Hello Python']"
      ],
      "metadata": {
        "colab": {
          "base_uri": "https://localhost:8080/",
          "height": 256
        },
        "id": "IGhrQIL3UUuF",
        "outputId": "7a83a9ac-a32c-43e1-a744-7a4e4f129b2f"
      },
      "execution_count": 18,
      "outputs": [
        {
          "output_type": "error",
          "ename": "FileNotFoundError",
          "evalue": "[Errno 2] No such file or directory: 'data.txt'",
          "traceback": [
            "\u001b[0;31m---------------------------------------------------------------------------\u001b[0m",
            "\u001b[0;31mFileNotFoundError\u001b[0m                         Traceback (most recent call last)",
            "\u001b[0;32m<ipython-input-18-6c6e6ffb0d73>\u001b[0m in \u001b[0;36m<cell line: 3>\u001b[0;34m()\u001b[0m\n\u001b[1;32m      1\u001b[0m \u001b[0;31m#Reading a file in one line\u001b[0m\u001b[0;34m\u001b[0m\u001b[0;34m\u001b[0m\u001b[0m\n\u001b[1;32m      2\u001b[0m \u001b[0;31m#Single-line method\u001b[0m\u001b[0;34m\u001b[0m\u001b[0;34m\u001b[0m\u001b[0m\n\u001b[0;32m----> 3\u001b[0;31m \u001b[0;32mwith\u001b[0m \u001b[0mopen\u001b[0m\u001b[0;34m(\u001b[0m\u001b[0;34m\"data.txt\"\u001b[0m\u001b[0;34m,\u001b[0m \u001b[0;34m\"r\"\u001b[0m\u001b[0;34m)\u001b[0m \u001b[0;32mas\u001b[0m \u001b[0mfile\u001b[0m\u001b[0;34m:\u001b[0m\u001b[0;34m\u001b[0m\u001b[0;34m\u001b[0m\u001b[0m\n\u001b[0m\u001b[1;32m      4\u001b[0m     \u001b[0mdata\u001b[0m \u001b[0;34m=\u001b[0m \u001b[0mfile\u001b[0m\u001b[0;34m.\u001b[0m\u001b[0mreadline\u001b[0m\u001b[0;34m(\u001b[0m\u001b[0;34m)\u001b[0m\u001b[0;34m\u001b[0m\u001b[0;34m\u001b[0m\u001b[0m\n\u001b[1;32m      5\u001b[0m     \u001b[0mprint\u001b[0m\u001b[0;34m(\u001b[0m\u001b[0mdata\u001b[0m\u001b[0;34m)\u001b[0m \u001b[0;31m# Hello world\u001b[0m\u001b[0;34m\u001b[0m\u001b[0;34m\u001b[0m\u001b[0m\n",
            "\u001b[0;31mFileNotFoundError\u001b[0m: [Errno 2] No such file or directory: 'data.txt'"
          ]
        }
      ]
    },
    {
      "cell_type": "code",
      "source": [
        "# One-line class\n",
        "#Regular way\n",
        "class Emp:\n",
        "    def __init__(self, name, age):\n",
        "        self.name = name\n",
        "        self.age = age\n",
        "        emp1 = Emp(\"Andrew\", 22)\n",
        "        print(emp1.name, emp1.age) #\n",
        "#Single line way\n",
        "#Method 1 Lambda with Dynamic Attributes\n",
        "\n",
        "Emp = lambda:None; Emp.name = \"Anthony\"; Emp.age = 22\n",
        "print(Emp.name, Emp.age) #\n",
        "\n",
        "#Method 2\n",
        "from collections import namedtuple\n",
        "Emp = namedtuple('Emp', [\"name\", \"age\"]) (\"a44\", 22)\n",
        "print(Emp.name, Emp.age)"
      ],
      "metadata": {
        "colab": {
          "base_uri": "https://localhost:8080/"
        },
        "id": "PTkdSbnMUW8w",
        "outputId": "1372e62f-609b-4bb5-95dd-5fc939434723"
      },
      "execution_count": 22,
      "outputs": [
        {
          "output_type": "stream",
          "name": "stdout",
          "text": [
            "Anthony 22\n",
            "a44 22\n"
          ]
        }
      ]
    },
    {
      "cell_type": "code",
      "source": [
        "# One-line semicolon\n",
        "# exsample 1\n",
        "a = \"Python\"; b = \"Programming\"; c = \"languages\"; print(a, b, c)\n",
        "# print\n",
        "# Python Programming languages"
      ],
      "metadata": {
        "colab": {
          "base_uri": "https://localhost:8080/"
        },
        "id": "hUezOgtgUfdD",
        "outputId": "77dfb874-fb0f-4223-ace9-9f677c85bebd"
      },
      "execution_count": 23,
      "outputs": [
        {
          "output_type": "stream",
          "name": "stdout",
          "text": [
            "Python Programming languages\n"
          ]
        }
      ]
    },
    {
      "cell_type": "code",
      "source": [
        "# One line print\n",
        "#Single-line method\n",
        "for x in range(1, 5):\n",
        "    print(x) # 1 2 3 4\n",
        "#Single line way\n",
        "print(*range(1, 5)) # 1 2 3 4\n",
        "print(*range(1, 6)) # 1 2 3 4 5"
      ],
      "metadata": {
        "colab": {
          "base_uri": "https://localhost:8080/"
        },
        "id": "SEfid8FVU8bQ",
        "outputId": "9bbc2dbd-ae92-4984-c271-3e3a1bab1b23"
      },
      "execution_count": 24,
      "outputs": [
        {
          "output_type": "stream",
          "name": "stdout",
          "text": [
            "1\n",
            "2\n",
            "3\n",
            "4\n",
            "1 2 3 4\n",
            "1 2 3 4 5\n"
          ]
        }
      ]
    },
    {
      "cell_type": "code",
      "source": [
        "#One line map function\n",
        "print(list(map(lambda a: a + 2, [5, 6, 7, 8, 9, 10])))\n",
        "# print\n",
        "# [7, 8, 9, 10, 11, 12]"
      ],
      "metadata": {
        "colab": {
          "base_uri": "https://localhost:8080/"
        },
        "id": "bEe4MdRxU-ZS",
        "outputId": "be83bb70-0568-481a-9d89-39a0a11586bb"
      },
      "execution_count": 25,
      "outputs": [
        {
          "output_type": "stream",
          "name": "stdout",
          "text": [
            "[7, 8, 9, 10, 11, 12]\n"
          ]
        }
      ]
    },
    {
      "cell_type": "code",
      "source": [
        "# Deleting the Mul elements from the first row of the list\n",
        "mylist = [100, 200, 300, 400, 500]\n",
        "del mylist[1::2]\n",
        "print(mylist) # [100, 300, 500]"
      ],
      "metadata": {
        "colab": {
          "base_uri": "https://localhost:8080/"
        },
        "id": "9u-S5a0fVOA8",
        "outputId": "c24ea221-7c17-40e8-97c1-858458d334ac"
      },
      "execution_count": 26,
      "outputs": [
        {
          "output_type": "stream",
          "name": "stdout",
          "text": [
            "[100, 300, 500]\n"
          ]
        }
      ]
    },
    {
      "cell_type": "code",
      "source": [
        "# One line print pattern#\n",
        "# Single-line method\n",
        "for x in range(3):\n",
        "    print('😀')\n",
        "# print\n",
        "# 😀 😀 😀\n",
        "#Single line way\n",
        "print('😀' * 3) # 😀 😀 😀\n",
        "print('😀' * 2) # 😀 😀\n",
        "print('😀' * 1) # 😀"
      ],
      "metadata": {
        "colab": {
          "base_uri": "https://localhost:8080/"
        },
        "id": "2VJwIENIVWTw",
        "outputId": "11bee689-0631-45fa-a469-975880ce4ccd"
      },
      "execution_count": 27,
      "outputs": [
        {
          "output_type": "stream",
          "name": "stdout",
          "text": [
            "😀\n",
            "😀\n",
            "😀\n",
            "😀😀😀\n",
            "😀😀\n",
            "😀\n"
          ]
        }
      ]
    },
    {
      "cell_type": "code",
      "source": [
        "# Find primes in a range in a single line of code\n",
        "print(list(filter(lambda a: all(a % b != 0 for b in range(2, a)),\n",
        "                  range(2,20))))\n",
        "# print\n",
        "# [2, 3, 5, 7, 11, 13, 17, 19]"
      ],
      "metadata": {
        "colab": {
          "base_uri": "https://localhost:8080/"
        },
        "id": "tdaYCPVyVY6w",
        "outputId": "89e53338-c9bb-4c63-d0a6-12cec2200f9f"
      },
      "execution_count": 28,
      "outputs": [
        {
          "output_type": "stream",
          "name": "stdout",
          "text": [
            "[2, 3, 5, 7, 11, 13, 17, 19]\n"
          ]
        }
      ]
    },
    {
      "cell_type": "code",
      "source": [],
      "metadata": {
        "id": "Ky0LJ9E2VbhR"
      },
      "execution_count": null,
      "outputs": []
    }
  ]
}
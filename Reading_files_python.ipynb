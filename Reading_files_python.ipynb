{
  "nbformat": 4,
  "nbformat_minor": 0,
  "metadata": {
    "colab": {
      "provenance": [],
      "authorship_tag": "ABX9TyM9znX+CkIkPjUbfXTDLWwM",
      "include_colab_link": true
    },
    "kernelspec": {
      "name": "python3",
      "display_name": "Python 3"
    },
    "language_info": {
      "name": "python"
    }
  },
  "cells": [
    {
      "cell_type": "markdown",
      "metadata": {
        "id": "view-in-github",
        "colab_type": "text"
      },
      "source": [
        "<a href=\"https://colab.research.google.com/github/Nazneen-akram/coursera-rep/blob/main/Reading_files_python.ipynb\" target=\"_parent\"><img src=\"https://colab.research.google.com/assets/colab-badge.svg\" alt=\"Open In Colab\"/></a>"
      ]
    },
    {
      "cell_type": "markdown",
      "source": [
        "```\n",
        "file = open(\"spider.txt\")```\n",
        "####This line opens the file spider**.txt** in read mode. The ```open()``` function returns a file object which is assigned to the variable file."
      ],
      "metadata": {
        "id": "ibIKtpd-rdNq"
      }
    },
    {
      "cell_type": "code",
      "execution_count": 7,
      "metadata": {
        "colab": {
          "base_uri": "https://localhost:8080/"
        },
        "id": "Az8KXjeKrOvN",
        "outputId": "46336dfd-6a92-439c-de22-b19ba814dcc4"
      },
      "outputs": [
        {
          "output_type": "stream",
          "name": "stdout",
          "text": [
            "The itsy bitsy spider climbed up the water spout\n",
            "\n",
            "Down came the rain and washed the spider out\n",
            "\n",
            "Out came the sun and dried up all the rain\n",
            "And the itsy bitsy spider climbed up the spout again\n",
            "\n"
          ]
        }
      ],
      "source": [
        "file = open(\"spider.txt\")\n",
        "print(file.readline())\n",
        "print(file.readline())\n",
        "print(file.read())\n",
        "file.close()"
      ]
    },
    {
      "cell_type": "markdown",
      "source": [
        "####These lines print the first three lines of the file. The ```readline()``` method reads one line from the file and returns it as a string. The ```read()``` method reads the entire file and returns it as a string. The ```close()``` method closes the file."
      ],
      "metadata": {
        "id": "m-OTTjyGsc6i"
      }
    },
    {
      "cell_type": "code",
      "source": [
        "file = open(\"spider.txt\")\n",
        "print(file.readline())\n",
        "print(file.readline())\n",
        "print(file.read())\n",
        "file.close()\n"
      ],
      "metadata": {
        "colab": {
          "base_uri": "https://localhost:8080/"
        },
        "id": "D-ys_APvsi4C",
        "outputId": "24fc9113-3966-45c3-a195-1a2d7c65811f"
      },
      "execution_count": 9,
      "outputs": [
        {
          "output_type": "stream",
          "name": "stdout",
          "text": [
            "The itsy bitsy spider climbed up the water spout\n",
            "\n",
            "Down came the rain and washed the spider out\n",
            "\n",
            "Out came the sun and dried up all the rain\n",
            "And the itsy bitsy spider climbed up the spout again\n",
            "\n"
          ]
        }
      ]
    },
    {
      "cell_type": "markdown",
      "source": [
        "### The readline() method reads one line, while read() reads until the end of the file."
      ],
      "metadata": {
        "id": "fwWklv4yusG-"
      }
    },
    {
      "cell_type": "code",
      "source": [
        "with open(\"spider.txt\") as file:\n",
        "  print(file.read())"
      ],
      "metadata": {
        "colab": {
          "base_uri": "https://localhost:8080/"
        },
        "id": "F_V1FmVDsoWS",
        "outputId": "5666aba9-62f6-49a4-e91e-3030eed30a4e"
      },
      "execution_count": 12,
      "outputs": [
        {
          "output_type": "stream",
          "name": "stdout",
          "text": [
            "The itsy bitsy spider climbed up the water spout\n",
            "Down came the rain and washed the spider out\n",
            "Out came the sun and dried up all the rain\n",
            "And the itsy bitsy spider climbed up the spout again\n",
            "\n"
          ]
        }
      ]
    },
    {
      "cell_type": "code",
      "source": [
        "with open(\"spider.txt\") as file:\n",
        "    for line in file:\n",
        "        print(line.upper())"
      ],
      "metadata": {
        "colab": {
          "base_uri": "https://localhost:8080/"
        },
        "id": "mV3WNHEOubmB",
        "outputId": "4eb145e8-f992-419d-ba86-2040886c4179"
      },
      "execution_count": 13,
      "outputs": [
        {
          "output_type": "stream",
          "name": "stdout",
          "text": [
            "THE ITSY BITSY SPIDER CLIMBED UP THE WATER SPOUT\n",
            "\n",
            "DOWN CAME THE RAIN AND WASHED THE SPIDER OUT\n",
            "\n",
            "OUT CAME THE SUN AND DRIED UP ALL THE RAIN\n",
            "\n",
            "AND THE ITSY BITSY SPIDER CLIMBED UP THE SPOUT AGAIN\n",
            "\n"
          ]
        }
      ]
    },
    {
      "cell_type": "code",
      "source": [
        "with open(\"spider.txt\") as file:\n",
        "  for line in file:\n",
        "    print(line.strip().upper())"
      ],
      "metadata": {
        "colab": {
          "base_uri": "https://localhost:8080/"
        },
        "id": "APD6FM7gwQOb",
        "outputId": "df99b96a-09ef-48cc-a34e-3e0df4c436b8"
      },
      "execution_count": 16,
      "outputs": [
        {
          "output_type": "stream",
          "name": "stdout",
          "text": [
            "THE ITSY BITSY SPIDER CLIMBED UP THE WATER SPOUT\n",
            "DOWN CAME THE RAIN AND WASHED THE SPIDER OUT\n",
            "OUT CAME THE SUN AND DRIED UP ALL THE RAIN\n",
            "AND THE ITSY BITSY SPIDER CLIMBED UP THE SPOUT AGAIN\n"
          ]
        }
      ]
    },
    {
      "cell_type": "code",
      "source": [
        "file = open(\"spider.txt\")\n",
        "lines = file.readlines()\n",
        "lines.sort()\n",
        "print(lines)"
      ],
      "metadata": {
        "colab": {
          "base_uri": "https://localhost:8080/"
        },
        "id": "ayFJjj-awahV",
        "outputId": "8aa52060-8f1d-4fae-f63c-eea00b9dacc2"
      },
      "execution_count": 17,
      "outputs": [
        {
          "output_type": "stream",
          "name": "stdout",
          "text": [
            "['And the itsy bitsy spider climbed up the spout again\\n', 'Down came the rain and washed the spider out\\n', 'Out came the sun and dried up all the rain\\n', 'The itsy bitsy spider climbed up the water spout\\n']\n"
          ]
        }
      ]
    },
    {
      "cell_type": "markdown",
      "source": [
        "###When using write mode, the old contents get deleted as soon as the file is opened."
      ],
      "metadata": {
        "id": "dTDM4TndbPJl"
      }
    },
    {
      "cell_type": "code",
      "source": [
        "with open(\"spider.txt\",\"w\") as file:\n",
        "  file.write(\"And then he slipped again\")"
      ],
      "metadata": {
        "id": "buLkemPgwp78"
      },
      "execution_count": 2,
      "outputs": []
    },
    {
      "cell_type": "code",
      "source": [
        "file=open(\"spider.txt\")\n",
        "print(file.read())"
      ],
      "metadata": {
        "colab": {
          "base_uri": "https://localhost:8080/"
        },
        "id": "uHXeDJx9aAj6",
        "outputId": "e4ade8da-b5f3-49f0-9844-9a738b6db5c9"
      },
      "execution_count": 3,
      "outputs": [
        {
          "output_type": "stream",
          "name": "stdout",
          "text": [
            "And then he slipped again\n"
          ]
        }
      ]
    },
    {
      "cell_type": "code",
      "source": [
        "file.close()"
      ],
      "metadata": {
        "id": "8yyZ_892aMK2"
      },
      "execution_count": 4,
      "outputs": []
    },
    {
      "cell_type": "code",
      "source": [
        "with open(\"spider.txt\") as file:\n",
        "  print(file.read())"
      ],
      "metadata": {
        "colab": {
          "base_uri": "https://localhost:8080/"
        },
        "id": "xlxjmOBTaaVj",
        "outputId": "acc3a042-b3b7-4c72-bc58-ca63a4fe8776"
      },
      "execution_count": 6,
      "outputs": [
        {
          "output_type": "stream",
          "name": "stdout",
          "text": [
            "And then he slipped again\n"
          ]
        }
      ]
    },
    {
      "cell_type": "markdown",
      "source": [
        "#Reading and writing files\n",
        "\n",
        "###the first argument is a string containing the filename **(sample_data/declaration.txt)**. The second argument identifies the mode or the way in which the file will be used **(rt)**. **“r”** means open for reading, and **“t”** tells Python to expect a text file."
      ],
      "metadata": {
        "id": "dae9_xR8cOi3"
      }
    },
    {
      "cell_type": "code",
      "source": [
        "#with open(\"sample_data/declaration.txt\", \"rt\") as textfile:\n",
        "# for line in textfile:\n",
        "#   print(line)"
      ],
      "metadata": {
        "id": "_HF3ntFnbfcD"
      },
      "execution_count": 7,
      "outputs": []
    },
    {
      "cell_type": "markdown",
      "source": [
        "###the code tells Python to open this file for writing **(“w” mode)**."
      ],
      "metadata": {
        "id": "3bdEIQQjdMH9"
      }
    },
    {
      "cell_type": "code",
      "source": [
        "#f = open(\"sample_data/declaration.txt\", “w”)"
      ],
      "metadata": {
        "id": "gbuEmZhndHBG"
      },
      "execution_count": null,
      "outputs": []
    },
    {
      "cell_type": "markdown",
      "source": [
        "##**Mode**\n",
        "###The mode argument is optional, and it specifies the mode in which the file is opened. If omitted, it defaults to ”r” and that means opening for reading in text mode. The common modes include:\n",
        "\n",
        "###**“r”**  open for reading (default)\n",
        "\n",
        "###**“w”**  open for writing, truncating the file first\n",
        "\n",
        "###**“x”**  open for exclusive creation, failing if the file already exists\n",
        "\n",
        "###**“a”**  open for writing, appending to the end of the file if it exists\n",
        "\n",
        "###**“+”** open for both reading and writing\n",
        "\n",
        "###Attempting to write to a file opened for read **(“r”)** will cause a runtime error."
      ],
      "metadata": {
        "id": "yvRg8wWHdX2Y"
      }
    },
    {
      "cell_type": "code",
      "source": [
        "with open(\"spider.txt\",\"r\") as file:\n",
        "  file.write(\"The itsy bitsy spider climbed up the water spout\\n\")"
      ],
      "metadata": {
        "colab": {
          "base_uri": "https://localhost:8080/",
          "height": 193
        },
        "id": "OAa9wxd5do-Y",
        "outputId": "6c0e87e2-20f6-4210-ca22-3951e55e1662"
      },
      "execution_count": 11,
      "outputs": [
        {
          "output_type": "error",
          "ename": "UnsupportedOperation",
          "evalue": "ignored",
          "traceback": [
            "\u001b[0;31m---------------------------------------------------------------------------\u001b[0m",
            "\u001b[0;31mUnsupportedOperation\u001b[0m                      Traceback (most recent call last)",
            "\u001b[0;32m<ipython-input-11-f20f8c25448d>\u001b[0m in \u001b[0;36m<cell line: 1>\u001b[0;34m()\u001b[0m\n\u001b[1;32m      1\u001b[0m \u001b[0;32mwith\u001b[0m \u001b[0mopen\u001b[0m\u001b[0;34m(\u001b[0m\u001b[0;34m\"spider.txt\"\u001b[0m\u001b[0;34m,\u001b[0m\u001b[0;34m\"r\"\u001b[0m\u001b[0;34m)\u001b[0m \u001b[0;32mas\u001b[0m \u001b[0mfile\u001b[0m\u001b[0;34m:\u001b[0m\u001b[0;34m\u001b[0m\u001b[0;34m\u001b[0m\u001b[0m\n\u001b[0;32m----> 2\u001b[0;31m   \u001b[0mfile\u001b[0m\u001b[0;34m.\u001b[0m\u001b[0mwrite\u001b[0m\u001b[0;34m(\u001b[0m\u001b[0;34m\"The itsy bitsy spider climbed up the water spout\\n\"\u001b[0m\u001b[0;34m)\u001b[0m\u001b[0;34m\u001b[0m\u001b[0;34m\u001b[0m\u001b[0m\n\u001b[0m",
            "\u001b[0;31mUnsupportedOperation\u001b[0m: not writable"
          ]
        }
      ]
    },
    {
      "cell_type": "markdown",
      "source": [
        "###**Encoding**\n",
        "###Python distinguishes between **binary mode (“b”)** and **text mode (“t”)**. By default, files are opened in the text mode, which means you read and write strings from and to the file, which are encoded in a specific encoding. If encoding is not specified, the default is platform-dependent. This means that **locale.getencoding()** is called to get the current locale encoding. If you need to open the text in a specific encoding, you must specify it."
      ],
      "metadata": {
        "id": "oK7sFc0FkkXL"
      }
    },
    {
      "cell_type": "markdown",
      "source": [
        "###he encoding=**“utf-8”** specifies that the file should be opened with UTF-8, the modern de facto standard"
      ],
      "metadata": {
        "id": "_zuLPkpTlG_6"
      }
    },
    {
      "cell_type": "code",
      "source": [
        "#f = open('workfile', 'w', encoding=\"utf-8\")"
      ],
      "metadata": {
        "id": "azPLiXludxw3"
      },
      "execution_count": 12,
      "outputs": []
    },
    {
      "cell_type": "markdown",
      "source": [
        "###**Key takeaways**\n",
        "###To open a file for reading or writing, use **open(filename, mode)**. Two arguments that are needed include the file name and the mode. Python will encode the file as **text (“t”)** by default unless a specific encoding is specified."
      ],
      "metadata": {
        "id": "tLrKZ3j4lPAZ"
      }
    }
  ]
}
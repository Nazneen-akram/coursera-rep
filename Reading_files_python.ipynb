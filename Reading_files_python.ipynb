{
  "nbformat": 4,
  "nbformat_minor": 0,
  "metadata": {
    "colab": {
      "provenance": [],
      "authorship_tag": "ABX9TyNXKUHRTBiFE11DePTdw9Hq",
      "include_colab_link": true
    },
    "kernelspec": {
      "name": "python3",
      "display_name": "Python 3"
    },
    "language_info": {
      "name": "python"
    }
  },
  "cells": [
    {
      "cell_type": "markdown",
      "metadata": {
        "id": "view-in-github",
        "colab_type": "text"
      },
      "source": [
        "<a href=\"https://colab.research.google.com/github/Nazneen-akram/coursera-rep/blob/main/Reading_files_python.ipynb\" target=\"_parent\"><img src=\"https://colab.research.google.com/assets/colab-badge.svg\" alt=\"Open In Colab\"/></a>"
      ]
    },
    {
      "cell_type": "markdown",
      "source": [
        "```\n",
        "file = open(\"spider.txt\")```\n",
        "####This line opens the file spider**.txt** in read mode. The ```open()``` function returns a file object which is assigned to the variable file."
      ],
      "metadata": {
        "id": "ibIKtpd-rdNq"
      }
    },
    {
      "cell_type": "code",
      "execution_count": 7,
      "metadata": {
        "colab": {
          "base_uri": "https://localhost:8080/"
        },
        "id": "Az8KXjeKrOvN",
        "outputId": "46336dfd-6a92-439c-de22-b19ba814dcc4"
      },
      "outputs": [
        {
          "output_type": "stream",
          "name": "stdout",
          "text": [
            "The itsy bitsy spider climbed up the water spout\n",
            "\n",
            "Down came the rain and washed the spider out\n",
            "\n",
            "Out came the sun and dried up all the rain\n",
            "And the itsy bitsy spider climbed up the spout again\n",
            "\n"
          ]
        }
      ],
      "source": [
        "file = open(\"spider.txt\")\n",
        "print(file.readline())\n",
        "print(file.readline())\n",
        "print(file.read())\n",
        "file.close()"
      ]
    },
    {
      "cell_type": "markdown",
      "source": [
        "####These lines print the first three lines of the file. The ```readline()``` method reads one line from the file and returns it as a string. The ```read()``` method reads the entire file and returns it as a string. The ```close()``` method closes the file."
      ],
      "metadata": {
        "id": "m-OTTjyGsc6i"
      }
    },
    {
      "cell_type": "code",
      "source": [
        "file = open(\"spider.txt\")\n",
        "print(file.readline())\n",
        "print(file.readline())\n",
        "print(file.read())\n",
        "file.close()\n"
      ],
      "metadata": {
        "colab": {
          "base_uri": "https://localhost:8080/"
        },
        "id": "D-ys_APvsi4C",
        "outputId": "24fc9113-3966-45c3-a195-1a2d7c65811f"
      },
      "execution_count": 9,
      "outputs": [
        {
          "output_type": "stream",
          "name": "stdout",
          "text": [
            "The itsy bitsy spider climbed up the water spout\n",
            "\n",
            "Down came the rain and washed the spider out\n",
            "\n",
            "Out came the sun and dried up all the rain\n",
            "And the itsy bitsy spider climbed up the spout again\n",
            "\n"
          ]
        }
      ]
    },
    {
      "cell_type": "markdown",
      "source": [
        "### The readline() method reads one line, while read() reads until the end of the file."
      ],
      "metadata": {
        "id": "fwWklv4yusG-"
      }
    },
    {
      "cell_type": "code",
      "source": [
        "with open(\"spider.txt\") as file:\n",
        "  print(file.read())"
      ],
      "metadata": {
        "colab": {
          "base_uri": "https://localhost:8080/"
        },
        "id": "F_V1FmVDsoWS",
        "outputId": "5666aba9-62f6-49a4-e91e-3030eed30a4e"
      },
      "execution_count": 12,
      "outputs": [
        {
          "output_type": "stream",
          "name": "stdout",
          "text": [
            "The itsy bitsy spider climbed up the water spout\n",
            "Down came the rain and washed the spider out\n",
            "Out came the sun and dried up all the rain\n",
            "And the itsy bitsy spider climbed up the spout again\n",
            "\n"
          ]
        }
      ]
    },
    {
      "cell_type": "code",
      "source": [],
      "metadata": {
        "id": "mV3WNHEOubmB"
      },
      "execution_count": null,
      "outputs": []
    }
  ]
}
{
  "nbformat": 4,
  "nbformat_minor": 0,
  "metadata": {
    "colab": {
      "provenance": [],
      "authorship_tag": "ABX9TyOa0SxogB3tWt9Q4P0f6n6B",
      "include_colab_link": true
    },
    "kernelspec": {
      "name": "python3",
      "display_name": "Python 3"
    },
    "language_info": {
      "name": "python"
    }
  },
  "cells": [
    {
      "cell_type": "markdown",
      "metadata": {
        "id": "view-in-github",
        "colab_type": "text"
      },
      "source": [
        "<a href=\"https://colab.research.google.com/github/Nazneen-akram/coursera-rep/blob/main/Python_automation_(recursion).ipynb\" target=\"_parent\"><img src=\"https://colab.research.google.com/assets/colab-badge.svg\" alt=\"Open In Colab\"/></a>"
      ]
    },
    {
      "cell_type": "markdown",
      "source": [
        "## Recursion\n",
        "#### **Exercise 1**\n",
        "####The function sum_positive_numbers should return the sum of all positive numbers between the number n received and 1. For example, when n is 3 it should return 1+2+3=6, and when n is 5 it should return 1+2+3+4+5=15. Fill in the gaps to make this work:"
      ],
      "metadata": {
        "id": "1JJeCvC91MkM"
      }
    },
    {
      "cell_type": "code",
      "execution_count": 2,
      "metadata": {
        "colab": {
          "base_uri": "https://localhost:8080/"
        },
        "id": "z1ZkonK91IpD",
        "outputId": "9e379777-2a68-43a6-c94b-cd25920466e4"
      },
      "outputs": [
        {
          "output_type": "stream",
          "name": "stdout",
          "text": [
            "6\n",
            "15\n"
          ]
        }
      ],
      "source": [
        "def sum_positive_numbers(n):\n",
        "    # The base case is n being smaller than 1\n",
        "    if n < 1:\n",
        "        return n\n",
        "\n",
        "    # The recursive case is adding this number to\n",
        "    # the sum of the numbers smaller than this one.\n",
        "    return n + sum_positive_numbers(n-1)\n",
        "\n",
        "print(sum_positive_numbers(3)) # Should be 6\n",
        "print(sum_positive_numbers(5)) # Should be 15"
      ]
    },
    {
      "cell_type": "markdown",
      "source": [
        "####**Exercise 2:**\n",
        "####Fill in the blanks to make the is_power_of function return whether the number is a power of the given base. Note: base is assumed to be a positive number. Tip: for functions that return a boolean value, you can return the result of a comparison.\n"
      ],
      "metadata": {
        "id": "foeTF5JP4mLZ"
      }
    },
    {
      "cell_type": "code",
      "source": [
        "def is_power_of(number, base):\n",
        "  # Base case: when number is smaller than base.\n",
        "  if number < base:\n",
        "    # If number is equal to 1, it's a power (base**0).\n",
        "    return number==1\n",
        "\n",
        "  # Recursive case: keep dividing number by base.\n",
        "  return is_power_of(number//base,base)\n",
        "\n",
        "print(is_power_of(8,2)) # Should be True\n",
        "print(is_power_of(64,4)) # Should be True\n",
        "print(is_power_of(70,10)) # Should be False"
      ],
      "metadata": {
        "colab": {
          "base_uri": "https://localhost:8080/"
        },
        "id": "ntufKPXG1wX0",
        "outputId": "2125f27b-8388-43a3-e487-551473cac43b"
      },
      "execution_count": 13,
      "outputs": [
        {
          "output_type": "stream",
          "name": "stdout",
          "text": [
            "True\n",
            "True\n",
            "False\n"
          ]
        }
      ]
    },
    {
      "cell_type": "code",
      "source": [
        "# This function will accept an integer variable \"end\" and count by 10\n",
        "# from 0 to the \"end\" value.\n",
        "def count_by_10(end):\n",
        "    # Initializeq the \"count\" variable as a string.\n",
        "    count = \"\"\n",
        "\n",
        "    # The range function parameters instruct Python to start the count\n",
        "    # at 0 and stop at the variable given as the upper end of the range.\n",
        "    # Since the value of the high end of a range is excluded by default,\n",
        "    # you can make Python include the \"end\" value by adding +1 to it.\n",
        "    # The third parameter tells Python to increment the count by 10.\n",
        "    for number in range(0,end+1,10):\n",
        "\n",
        "        # Although the variable \"count\" will hold a count of integers,\n",
        "        # this example will be converted to a string using \"str(number)\"\n",
        "        # in order to display the incremental count from 0 to the \"end\"\n",
        "        # value on the same line with a space \" \" separating each\n",
        "        # number.\n",
        "        count += str(number) + \" \"\n",
        "\n",
        "    # The .strip() method will trim the final space \" \" from the end of\n",
        "    # the string \"count\"\n",
        "    return count.strip()\n",
        "\n",
        "\n",
        "# Call the function with 1 integer parameter.\n",
        "print(count_by_10(100))\n",
        "# Should print 0 10 20 30 40 50 60 70 80 90 100"
      ],
      "metadata": {
        "colab": {
          "base_uri": "https://localhost:8080/"
        },
        "id": "9I3p1j8Hj9-V",
        "outputId": "0e0f575f-8fd9-4694-897b-21d2de65fa60"
      },
      "execution_count": 17,
      "outputs": [
        {
          "output_type": "stream",
          "name": "stdout",
          "text": [
            "0 10 20 30 40 50 60 70 80 90 100\n"
          ]
        }
      ]
    },
    {
      "cell_type": "code",
      "source": [
        "#This function uses a set of nested for loops with the range() function\n",
        "# to create a matrix of numbers. The upper range value in the range()\n",
        "# function should be included in the matrix. The matrix should consist\n",
        "# of a set of numbers that fill both rows and columns.\n",
        "def matrix(initial_number, end_of_first_row):\n",
        "\n",
        "\n",
        "    # It is an optional code style to assign the long variable names in the\n",
        "    # function parameters to shorter variable names.\n",
        "    n1 = initial_number\n",
        "    n2 = end_of_first_row+1  # include the upper range value with +1\n",
        "\n",
        "    # The first for loop will create the columns.\n",
        "    for column in range(n1, n2):\n",
        "\n",
        "        # The nested for loop will create the rows.\n",
        "        for row in range(n1, n2):\n",
        "\n",
        "            # To make the matrix of numbers easier to read, include a space\n",
        "            # between each number in the rows until the loop reaches the\n",
        "            # end of the row. You can override the default behavior of the\n",
        "            # print() function (which inserts a new line character after\n",
        "            # the print command runs) by using the \"end=\" \"\" parameter\n",
        "            # inside the print() function.\n",
        "              print(column*row, end=\" \")\n",
        "\n",
        "        # The row ends when the upper range value is encountered within the\n",
        "        # nested for loop. The outer (column) for loop should insert a new line\n",
        "        # to create the next row. Use the print() function new line default\n",
        "        # behavior with an empty print() function:\n",
        "        print()\n",
        "\n",
        "\n",
        "# Call the function with 2 integer parameters.\n",
        "matrix(1, 4)\n",
        "# Should print:\n",
        "# 1 2 3 4\n",
        "# 2 4 6 8\n",
        "# 3 6 9 12\n",
        "# 4 8 12 16\n"
      ],
      "metadata": {
        "colab": {
          "base_uri": "https://localhost:8080/"
        },
        "id": "D8NdY-N1j_fO",
        "outputId": "bc5e4b97-67be-4985-a472-89d03c654427"
      },
      "execution_count": 19,
      "outputs": [
        {
          "output_type": "stream",
          "name": "stdout",
          "text": [
            "1 2 3 4 \n",
            "2 4 6 8 \n",
            "3 6 9 12 \n",
            "4 8 12 16 \n"
          ]
        }
      ]
    },
    {
      "cell_type": "code",
      "source": [
        "# For this example, the outer for loop uses an end of range index of\n",
        "# 10. The value of index 10 will be 10-1, or 9.\n",
        "for outer_loop in range(10):\n",
        "\n",
        "    # Using the \"outer_loop\" variable as the end of range for the\n",
        "    # inner loop, means the end of range index will be 9. The value\n",
        "    # of index 9 will be 9-1, or 8.\n",
        "    for inner_loop in range(outer_loop):\n",
        "\n",
        "        # The printed result is the value of \"inner_loop\". Since\n",
        "        # there aren’t any calculations in this loop, there is a\n",
        "        # simple shortcut for solving what the final value printed\n",
        "        # by the \"inner_loop\" will be. The solution is to simply use\n",
        "        # the value of the \"inner_loop\" index, which is 8.\n",
        "        print(inner_loop)"
      ],
      "metadata": {
        "colab": {
          "base_uri": "https://localhost:8080/"
        },
        "id": "ogm9wiUQkRGQ",
        "outputId": "4f2237da-e0af-477a-bc72-c9b7a9d24fbb"
      },
      "execution_count": 20,
      "outputs": [
        {
          "output_type": "stream",
          "name": "stdout",
          "text": [
            "0\n",
            "0\n",
            "1\n",
            "0\n",
            "1\n",
            "2\n",
            "0\n",
            "1\n",
            "2\n",
            "3\n",
            "0\n",
            "1\n",
            "2\n",
            "3\n",
            "4\n",
            "0\n",
            "1\n",
            "2\n",
            "3\n",
            "4\n",
            "5\n",
            "0\n",
            "1\n",
            "2\n",
            "3\n",
            "4\n",
            "5\n",
            "6\n",
            "0\n",
            "1\n",
            "2\n",
            "3\n",
            "4\n",
            "5\n",
            "6\n",
            "7\n",
            "0\n",
            "1\n",
            "2\n",
            "3\n",
            "4\n",
            "5\n",
            "6\n",
            "7\n",
            "8\n"
          ]
        }
      ]
    },
    {
      "cell_type": "code",
      "source": [
        "# This function should count down by -2 from 11 to 1, so that it only\n",
        "# prints odd numbers.\n",
        "\n",
        "# This range(11, -2) tells the for loop to start at 11 and end at index\n",
        "# position -2 (which corresponds to the numeric value of -1). Since the\n",
        "# third incremental or decremental value is missing, the loop will\n",
        "# increment by the default of +1 instead of the intended -2 decrement.\n",
        "# Starting at index position 11 and incrementing by +1 will end the loop\n",
        "# automatically, because the index is not counting down towards -2 as\n",
        "# the end of the range.\n",
        "\n",
        "# To fix this problem, the range() needs three parameters:\n",
        "# First parameter should be the starting index position of 11.\n",
        "# Second parameter should be the ending index position of 0 (value 1).\n",
        "# Third parameter should be decrementing by -2.\n",
        "# So, the range should be configured as range(11, 0, -2).\n",
        "\n",
        "# Fix this loop with the corrected range parameters and click Run.\n",
        "for n in range(11, 0,-2):\n",
        "    if n % 2 != 0:\n",
        "        print(n, end=\" \")\n",
        "\n",
        "# Should print: 11, 9, 7, 5, 3, 1 once the problem is fixed.\n"
      ],
      "metadata": {
        "colab": {
          "base_uri": "https://localhost:8080/"
        },
        "id": "NgazoQDBkbeb",
        "outputId": "5fa2390c-0b0c-4c23-b805-60499b2f09b8"
      },
      "execution_count": 22,
      "outputs": [
        {
          "output_type": "stream",
          "name": "stdout",
          "text": [
            "11 9 7 5 3 1 "
          ]
        }
      ]
    },
    {
      "cell_type": "code",
      "source": [
        "# For this example, the while loop will count down by threes starting\n",
        "# from 18 and ending at 0.\n",
        "starting_number = 18\n",
        "\n",
        "# The while loop will continue to loop until it reaches 0.\n",
        "while starting_number >= 0:\n",
        "\n",
        "    # To make the sequence of numbers easier to read, include a space\n",
        "    # between each number in the sequence. You can override the default\n",
        "    # behavior of the print() function by using the \"end=\" parameter with\n",
        "    # the print() function. The syntax for adding a space is: end=\" \"\n",
        "    print(starting_number, end=\" \")\n",
        "\n",
        "    # Decrement the \"starting_number\" variable by -3.\n",
        "    starting_number -= 3\n",
        "\n",
        "# Should print 18 15 12 9 6 3 0"
      ],
      "metadata": {
        "colab": {
          "base_uri": "https://localhost:8080/"
        },
        "id": "1htxnEgjkhQJ",
        "outputId": "e05112fe-eece-4534-878a-6c71388a5301"
      },
      "execution_count": 23,
      "outputs": [
        {
          "output_type": "stream",
          "name": "stdout",
          "text": [
            "18 15 12 9 6 3 0 "
          ]
        }
      ]
    },
    {
      "cell_type": "code",
      "source": [
        "# This function accepts a CEO's salary as a variable.\n",
        "# It counts the number of digits in the salary and\n",
        "# returns the sentence like:\n",
        "# \"The CEO has a 6-figure salary.\"\n",
        "def X_figure(salary):\n",
        "\n",
        "    # Initializes the counter as an integer.\n",
        "    tally = 0\n",
        "\n",
        "    # The if-statement checks if the variable \"salary\"\n",
        "    # is equal to 0.\n",
        "    if salary == 0:\n",
        "        # If true, then it increments the counter to\n",
        "        # show there is 1 digit in 0.\n",
        "        tally += 1\n",
        "\n",
        "    # The while loop starts to run while the \"salary\"\n",
        "    # is greater than or equal to 1 (the loop will\n",
        "    # not run if the \"salary\" is 0).\n",
        "    while salary >= 1:\n",
        "\n",
        "        # The body of the while loop counts the digits\n",
        "        # in \"salary\" by counting the number of times\n",
        "        # \"salary\" can be divided by 10 until \"salary\"\n",
        "        # is no longer >= 1.\n",
        "        salary = salary/10\n",
        "\n",
        "        # Add 1 to the counter to tally the number of\n",
        "        # times the loop runs.\n",
        "        tally += 1\n",
        "\n",
        "    # Return the results of the \"tally\" of the number\n",
        "    # of digits in \"salary\".\n",
        "    return tally\n",
        "\n",
        "# Call the X_figure function with 1 parameter, converted to a string,\n",
        "# inside a print function with additional strings.\n",
        "print(\"The CEO has a \" + str(X_figure(2300000)) + \"-figure salary.\")\n",
        "\n",
        "# Should print\"The CEO has a 7-figure salary.\""
      ],
      "metadata": {
        "colab": {
          "base_uri": "https://localhost:8080/"
        },
        "id": "NUgNGFMulGUz",
        "outputId": "55fbbf76-37b3-446d-d349-ba0d454f6430"
      },
      "execution_count": 24,
      "outputs": [
        {
          "output_type": "stream",
          "name": "stdout",
          "text": [
            "The CEO has a 7-figure salary.\n"
          ]
        }
      ]
    },
    {
      "cell_type": "code",
      "source": [
        "# This function will accept two integer variables: the floor\n",
        "# number that a passenger \"enter\"s an elevator and the floor\n",
        "# number the passenger is going to \"exit\". Then, the function\n",
        "# counts up or down from the two floor numbers.\n",
        "def elevator_floor(enter, exit):\n",
        "    # The \"floor\" variable will be used as a counter and to\n",
        "    # print the floor numbers. The \"elevator_direction\"\n",
        "    # variable will hold the string \"Going up: \" or\n",
        "    # \"Going down: \" plus the count up or down of the\n",
        "    # \"floor\" numbers.\n",
        "    floor = enter\n",
        "    elevator_direction = \"\"\n",
        "\n",
        "    # If the passenger enters the elevator on a floor that\n",
        "    # is higher than the destination floor:\n",
        "    if enter > exit:\n",
        "\n",
        "        # Then the \"elevator_direction\" string will be\n",
        "        # initialized with the string \"Going down: \".\n",
        "        elevator_direction = \"Going down: \"\n",
        "\n",
        "        # While the \"floor\" number is greater than or\n",
        "        # equal to the exit floor number:\n",
        "        while floor >= exit:\n",
        "            # The \"floor\" number is converted to a string\n",
        "            # and is appended to the string variable\n",
        "            # \"elevator_direction\".\n",
        "            elevator_direction += str(floor)\n",
        "\n",
        "            # If the \"floor\" number is still greater than\n",
        "            # the exit floor number:\n",
        "            if floor > exit:\n",
        "\n",
        "                # A pipe | character is added between each\n",
        "                # floor number in the string variable\n",
        "                # \"elevator_direction\" to provide a visual\n",
        "                # divider between numbers. The if-statement\n",
        "                # above (if floor > exit) prevents the pipe\n",
        "                # character from appearing after the \"floor\"\n",
        "                # number is no longer greater than the \"exit\"\n",
        "                # variable.\n",
        "                elevator_direction += \" | \"\n",
        "\n",
        "                # Decrement the \"floor\" number as the elevator\n",
        "                # goes down.\n",
        "            floor -= 1\n",
        "\n",
        "    # Else, it is implied that the passenger is entering the\n",
        "    # elevator on a floor that is lower than the destination\n",
        "    # floor.\n",
        "    else:\n",
        "\n",
        "        # The \"elevator_direction\" string will be initialized\n",
        "        # with the string \"Going up: \".\n",
        "        elevator_direction = \"Going up: \"\n",
        "\n",
        "        # While the \"floor\" number is less than or equal to the\n",
        "        # \"exit\" floor number:\n",
        "        while floor <= exit:\n",
        "\n",
        "            # Convert the the \"floor\" number to a string and append\n",
        "            # it to the string variable \"elevator_direction\".\n",
        "            elevator_direction += str(floor)\n",
        "\n",
        "            # If the entry floor number is still less than the exit\n",
        "            # floor number:\n",
        "            if floor < exit:\n",
        "\n",
        "                # The pipe | character is added between each\n",
        "                # floor number in the string variable\n",
        "                # \"elevator_direction\" to provide a visual\n",
        "                # divider between numbers. The if-statement\n",
        "                # above (if floor < exit) prevents the pipe\n",
        "                # character from appearing after the \"floor\"\n",
        "                # number is no longer less than the \"exit\"\n",
        "                # variable.\n",
        "                elevator_direction += \" | \"\n",
        "\n",
        "            # Increments the \"floor\" number as the elevator goes up.\n",
        "            floor += 1\n",
        "\n",
        "    # Returns the string holding the elevator direction (Going down or\n",
        "    # Going up) along with the floor countdown or count up.\n",
        "    return elevator_direction\n",
        "\n",
        "\n",
        "# Call the function with 2 integer parameters.\n",
        "print(elevator_floor(1,4)) # Should print Going up: 1 | 2 | 3 | 4\n",
        "print(elevator_floor(6,2)) # Should print Going down: 6 | 5 | 4 | 3 | 2\n"
      ],
      "metadata": {
        "colab": {
          "base_uri": "https://localhost:8080/"
        },
        "id": "2kaoraFRlLbW",
        "outputId": "2dfc60a5-0d26-469e-f919-af83605c67e6"
      },
      "execution_count": 25,
      "outputs": [
        {
          "output_type": "stream",
          "name": "stdout",
          "text": [
            "Going up: 1 | 2 | 3 | 4\n",
            "Going down: 6 | 5 | 4 | 3 | 2\n"
          ]
        }
      ]
    },
    {
      "cell_type": "markdown",
      "source": [
        "#### Question 1\n",
        "Fill in the blanks to print the even numbers from 2 to 12."
      ],
      "metadata": {
        "id": "YDJMCeUolzjv"
      }
    },
    {
      "cell_type": "code",
      "source": [
        "number = 2 # Initialize the variable\n",
        "while number <13: # Complete the while loop condition\n",
        "    print(number, end=\" \")\n",
        "    number += 2 # Increment the variable\n",
        "\n",
        "# Should print 2 4 6 8 10 12"
      ],
      "metadata": {
        "colab": {
          "base_uri": "https://localhost:8080/"
        },
        "id": "3ibnIJ66lbOK",
        "outputId": "dc24ed7b-3611-497f-ab74-a05b0ce79138"
      },
      "execution_count": 26,
      "outputs": [
        {
          "output_type": "stream",
          "name": "stdout",
          "text": [
            "2 4 6 8 10 12 "
          ]
        }
      ]
    },
    {
      "cell_type": "markdown",
      "source": [
        "#### Find and correct the error in the for loop below.  The loop should print every even number from 2 to 12."
      ],
      "metadata": {
        "id": "jaNskpK5l8Fo"
      }
    },
    {
      "cell_type": "code",
      "source": [
        "for number in range(2,12+1,2):\n",
        "    print(number)\n",
        "\n",
        "# Should print:\n",
        "# 2\n",
        "# 4\n",
        "# 6\n",
        "# 8\n",
        "# 10\n",
        "# 12"
      ],
      "metadata": {
        "colab": {
          "base_uri": "https://localhost:8080/"
        },
        "id": "GDKXNEvAl1Nj",
        "outputId": "efd15e83-47b2-447e-bf70-960a69ca800a"
      },
      "execution_count": 29,
      "outputs": [
        {
          "output_type": "stream",
          "name": "stdout",
          "text": [
            "2\n",
            "4\n",
            "6\n",
            "8\n",
            "10\n",
            "12\n"
          ]
        }
      ]
    },
    {
      "cell_type": "markdown",
      "source": [
        "Fill in the blanks to complete the “factorial” function. This function will accept an integer variable “n” through the function parameters and produce the factorials of this number (by multiplying this value by every number less than the original number [n*(n-1)], excluding 0).  To do this, the function should:\n",
        "\n",
        "accept an integer variable “n” through the function parameters;\n",
        "\n",
        "initialize a variable “result” to the value of the “n” variable;\n",
        "\n",
        "iterate over the values of “n” using a while loop until “n” is equal to 0;\n",
        "\n",
        "starting at n-1, multiply the result by the current “n” value;\n",
        "\n",
        "decrement “n” by -1.\n",
        "\n",
        " For example, factorial 3 would return the value of 3*2*1, which would be 6.\n",
        "\n",
        " ```\n",
        "def factorial(n):\n",
        "    result = n\n",
        "    start = n\n",
        "    n -= 1\n",
        "    while ___: # The while loop should execute as long as n is greater than 0\n",
        "        result *= n # Multiply the current result by the current value of n\n",
        "        ___ # Decrement the appropriate variable by -1\n",
        "    return result\n",
        "\n",
        "\n",
        "print(factorial(3)) # Should print 6\n",
        "print(factorial(9)) # Should print 362880\n",
        "print(factorial(1)) # Should print 1\n",
        " ```"
      ],
      "metadata": {
        "id": "gRBjYowtmQSL"
      }
    },
    {
      "cell_type": "code",
      "source": [
        "def factorial(n):\n",
        "    result = n\n",
        "    start = n\n",
        "    n -= 1\n",
        "    while ___: # The while loop should execute as long as n is greater than 0\n",
        "        result *= n # Multiply the current result by the current value of n\n",
        "        ___ # Decrement the appropriate variable by -1\n",
        "    return result\n",
        "\n",
        "\n",
        "print(factorial(3)) # Should print 6\n",
        "print(factorial(9)) # Should print 362880\n",
        "print(factorial(1)) # Should print 1"
      ],
      "metadata": {
        "id": "vgyY-mnWmWOK"
      },
      "execution_count": null,
      "outputs": []
    }
  ]
}
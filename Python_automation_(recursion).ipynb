{
  "nbformat": 4,
  "nbformat_minor": 0,
  "metadata": {
    "colab": {
      "provenance": [],
      "authorship_tag": "ABX9TyMkE0x/Snrwabcda0/Whq6o",
      "include_colab_link": true
    },
    "kernelspec": {
      "name": "python3",
      "display_name": "Python 3"
    },
    "language_info": {
      "name": "python"
    }
  },
  "cells": [
    {
      "cell_type": "markdown",
      "metadata": {
        "id": "view-in-github",
        "colab_type": "text"
      },
      "source": [
        "<a href=\"https://colab.research.google.com/github/Nazneen-akram/coursera-rep/blob/main/Python_automation_(recursion).ipynb\" target=\"_parent\"><img src=\"https://colab.research.google.com/assets/colab-badge.svg\" alt=\"Open In Colab\"/></a>"
      ]
    },
    {
      "cell_type": "markdown",
      "source": [
        "## Recursion\n",
        "#### **Exercise 1**\n",
        "####The function sum_positive_numbers should return the sum of all positive numbers between the number n received and 1. For example, when n is 3 it should return 1+2+3=6, and when n is 5 it should return 1+2+3+4+5=15. Fill in the gaps to make this work:"
      ],
      "metadata": {
        "id": "1JJeCvC91MkM"
      }
    },
    {
      "cell_type": "code",
      "execution_count": 2,
      "metadata": {
        "colab": {
          "base_uri": "https://localhost:8080/"
        },
        "id": "z1ZkonK91IpD",
        "outputId": "9e379777-2a68-43a6-c94b-cd25920466e4"
      },
      "outputs": [
        {
          "output_type": "stream",
          "name": "stdout",
          "text": [
            "6\n",
            "15\n"
          ]
        }
      ],
      "source": [
        "def sum_positive_numbers(n):\n",
        "    # The base case is n being smaller than 1\n",
        "    if n < 1:\n",
        "        return n\n",
        "\n",
        "    # The recursive case is adding this number to\n",
        "    # the sum of the numbers smaller than this one.\n",
        "    return n + sum_positive_numbers(n-1)\n",
        "\n",
        "print(sum_positive_numbers(3)) # Should be 6\n",
        "print(sum_positive_numbers(5)) # Should be 15"
      ]
    },
    {
      "cell_type": "markdown",
      "source": [
        "####**Exercise 2:**\n",
        "####Fill in the blanks to make the is_power_of function return whether the number is a power of the given base. Note: base is assumed to be a positive number. Tip: for functions that return a boolean value, you can return the result of a comparison.\n"
      ],
      "metadata": {
        "id": "foeTF5JP4mLZ"
      }
    },
    {
      "cell_type": "code",
      "source": [
        "def is_power_of(number, base):\n",
        "  # Base case: when number is smaller than base.\n",
        "  if number < base:\n",
        "    # If number is equal to 1, it's a power (base**0).\n",
        "    return number==1\n",
        "\n",
        "  # Recursive case: keep dividing number by base.\n",
        "  return is_power_of(number//base,base)\n",
        "\n",
        "print(is_power_of(8,2)) # Should be True\n",
        "print(is_power_of(64,4)) # Should be True\n",
        "print(is_power_of(70,10)) # Should be False"
      ],
      "metadata": {
        "colab": {
          "base_uri": "https://localhost:8080/"
        },
        "id": "ntufKPXG1wX0",
        "outputId": "2125f27b-8388-43a3-e487-551473cac43b"
      },
      "execution_count": 13,
      "outputs": [
        {
          "output_type": "stream",
          "name": "stdout",
          "text": [
            "True\n",
            "True\n",
            "False\n"
          ]
        }
      ]
    }
  ]
}
{
  "nbformat": 4,
  "nbformat_minor": 0,
  "metadata": {
    "colab": {
      "provenance": [],
      "authorship_tag": "ABX9TyNnc2xXC1r+BCtFqn8BtfPA",
      "include_colab_link": true
    },
    "kernelspec": {
      "name": "python3",
      "display_name": "Python 3"
    },
    "language_info": {
      "name": "python"
    }
  },
  "cells": [
    {
      "cell_type": "markdown",
      "metadata": {
        "id": "view-in-github",
        "colab_type": "text"
      },
      "source": [
        "<a href=\"https://colab.research.google.com/github/Nazneen-akram/coursera-rep/blob/main/Raising_errors.ipynb\" target=\"_parent\"><img src=\"https://colab.research.google.com/assets/colab-badge.svg\" alt=\"Open In Colab\"/></a>"
      ]
    },
    {
      "cell_type": "code",
      "execution_count": null,
      "metadata": {
        "id": "vfha6YxyEH7p"
      },
      "outputs": [],
      "source": [
        "#!/usr/bin/env python3\n",
        "\n",
        "def validate_user(username, minlen):\n",
        "  if minlen < 1:\n",
        "    raise ValueError(\"minlen must be at least 1\")\n",
        "\n",
        "  if len(username) < minlen:\n",
        "    return False\n",
        "  if not username.isalnum():\n",
        "    return False\n",
        "  return True"
      ]
    },
    {
      "cell_type": "code",
      "source": [
        "from validations import validate_user\n",
        "validate_user(\"\", -1)"
      ],
      "metadata": {
        "id": "RRxgqq1aEYci"
      },
      "execution_count": null,
      "outputs": []
    },
    {
      "cell_type": "code",
      "source": [
        "from validations import validate_user\n",
        "validate_user(\"\", 1)\n",
        "validate_user(\"myuser\", 1)\n"
      ],
      "metadata": {
        "id": "ztwmHkt7EY7N"
      },
      "execution_count": null,
      "outputs": []
    },
    {
      "cell_type": "code",
      "source": [
        "from validations import validate_user\n",
        "validate_user(88, 1)"
      ],
      "metadata": {
        "id": "KPU-JRqBEaXh"
      },
      "execution_count": null,
      "outputs": []
    },
    {
      "cell_type": "code",
      "source": [
        "#!/usr/bin/env python3\n",
        "\n",
        "def validate_user(username, minlen):\n",
        "  assert type(username) == str, \"username must be a string\"\n",
        "  if minlen < 1:\n",
        "    raise ValueError(\"minlen must be at least 1\")\n",
        "\n",
        "  if len(username) < minlen:\n",
        "    return False\n",
        "  if not username.isalnum():\n",
        "    return False\n",
        "  return True"
      ],
      "metadata": {
        "id": "5qdsZNW9EdIB"
      },
      "execution_count": null,
      "outputs": []
    }
  ]
}
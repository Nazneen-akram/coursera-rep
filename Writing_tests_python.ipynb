{
  "nbformat": 4,
  "nbformat_minor": 0,
  "metadata": {
    "colab": {
      "provenance": [],
      "authorship_tag": "ABX9TyPXu/apV6ZwpiCoC9yWyn3m",
      "include_colab_link": true
    },
    "kernelspec": {
      "name": "python3",
      "display_name": "Python 3"
    },
    "language_info": {
      "name": "python"
    }
  },
  "cells": [
    {
      "cell_type": "markdown",
      "metadata": {
        "id": "view-in-github",
        "colab_type": "text"
      },
      "source": [
        "<a href=\"https://colab.research.google.com/github/Nazneen-akram/coursera-rep/blob/main/Writing_tests_python.ipynb\" target=\"_parent\"><img src=\"https://colab.research.google.com/assets/colab-badge.svg\" alt=\"Open In Colab\"/></a>"
      ]
    },
    {
      "cell_type": "code",
      "execution_count": 1,
      "metadata": {
        "colab": {
          "base_uri": "https://localhost:8080/",
          "height": 145
        },
        "id": "2UdJfiEYCJi_",
        "outputId": "d92c1cbc-c347-4b20-88f9-d771e8dae90b"
      },
      "outputs": [
        {
          "output_type": "error",
          "ename": "SyntaxError",
          "evalue": "ignored",
          "traceback": [
            "\u001b[0;36m  File \u001b[0;32m\"<ipython-input-1-2e8603611417>\"\u001b[0;36m, line \u001b[0;32m29\u001b[0m\n\u001b[0;31m    chmod +x rearrange_test.py\u001b[0m\n\u001b[0m             ^\u001b[0m\n\u001b[0;31mSyntaxError\u001b[0m\u001b[0;31m:\u001b[0m invalid syntax\n"
          ]
        }
      ],
      "source": [
        "#!/usr/bin/env python3\n",
        "\n",
        "import re\n",
        "\n",
        "def rearrange_name(name):\n",
        "  result = re.search(r\"^([\\w .]*), ([\\w .]*)$\", name)\n",
        "  return \"{} {}\".format(result[2], result[1])\n",
        "\n",
        "\n",
        "\n",
        "#!/usr/bin/env python3\n",
        "\n",
        "import unittest\n",
        "\n",
        "from rearrange import rearrange_name\n",
        "\n",
        "class TestRearrange(unittest.TestCase):\n",
        "\n",
        "  def test_basic(self):\n",
        "    testcase = \"Lovelace, Ada\"\n",
        "    expected = \"Ada Lovelace\"\n",
        "    self.assertEqual(rearrange_name(testcase), expected)\n",
        "\n",
        "# Run the tests\n",
        "unittest.main()\n",
        "\n",
        "\n",
        "\n",
        "chmod +x rearrange_test.py\n",
        "./rearrange_test.py"
      ]
    },
    {
      "cell_type": "code",
      "source": [
        "from rearrange import rearrange_name\n",
        "import unittest\n",
        "\n",
        "class TestRearrange(unittest.TestCase):\n",
        "\n",
        "  def test_basic(self):\n",
        "    testcase = \"Lovelace, Ada\"\n",
        "    expected = \"Ada Lovelace\"\n",
        "    self.assertEqual(rearrange_name(testcase), expected)\n",
        "\n",
        "  def test_empty(self):\n",
        "    testcase = \"\"\n",
        "    expected = \"\"\n",
        "    self.assertEqual(rearrange_name(testcase), expected)\n",
        "\n",
        "  def test_double_name(self):\n",
        "    testcase = \"Hopper, Grace M.\"\n",
        "    expected = \"Grace M. Hopper\"\n",
        "    self.assertEqual(rearrange_name(testcase), expected)\n",
        "\n",
        "  def test_one_name(self):\n",
        "    testcase = \"Voltaire\"\n",
        "    expected = \"Voltaire\"\n",
        "    self.assertEqual(rearrange_name(testcase), expected)\n",
        "\n",
        "# Run the tests\n",
        "unittest.main()\n"
      ],
      "metadata": {
        "id": "X_zrsWXtCM0G"
      },
      "execution_count": null,
      "outputs": []
    },
    {
      "cell_type": "code",
      "source": [
        "import re\n",
        "\n",
        "def rearrange_name(name):\n",
        "  result = re.search(r\"^([\\w .]*), ([\\w .]*)$\", name)\n",
        "  if result is None:\n",
        "    return name\n",
        "  return \"{} {}\".format(result[2], result[1])"
      ],
      "metadata": {
        "id": "mWv_O0UKCg6H"
      },
      "execution_count": null,
      "outputs": []
    },
    {
      "cell_type": "code",
      "source": [
        "./rearrange_test.py"
      ],
      "metadata": {
        "id": "305-4POtCieA"
      },
      "execution_count": null,
      "outputs": []
    },
    {
      "cell_type": "code",
      "source": [
        "import unittest\n",
        "\n",
        "\n",
        "class TestStringMethods(unittest.TestCase):\n",
        "\n",
        "\n",
        "    def test_upper(self):\n",
        "        self.assertEqual('foo'.upper(), 'FOO')\n",
        "\n",
        "\n",
        "    def test_isupper(self):\n",
        "        self.assertTrue('FOO'.isupper())\n",
        "        self.assertFalse('Foo'.isupper())\n",
        "\n",
        "\n",
        "    def test_split(self):\n",
        "        s = 'hello world'\n",
        "        self.assertEqual(s.split(), ['hello', 'world'])\n",
        "        # check that s.split fails when the separator is not a string\n",
        "        with self.assertRaises(TypeError):\n",
        "            s.split(2)\n",
        "\n",
        "\n",
        "if __name__ == '__main__':\n",
        "    unittest.main()"
      ],
      "metadata": {
        "id": "hCGqbBTjCv8L"
      },
      "execution_count": null,
      "outputs": []
    }
  ]
}
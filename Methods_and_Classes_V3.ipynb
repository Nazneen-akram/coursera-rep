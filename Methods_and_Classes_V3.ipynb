{
  "cells": [
    {
      "cell_type": "markdown",
      "metadata": {
        "id": "view-in-github",
        "colab_type": "text"
      },
      "source": [
        "<a href=\"https://colab.research.google.com/github/Nazneen-akram/coursera-rep/blob/main/Methods_and_Classes_V3.ipynb\" target=\"_parent\"><img src=\"https://colab.research.google.com/assets/colab-badge.svg\" alt=\"Open In Colab\"/></a>"
      ]
    },
    {
      "cell_type": "markdown",
      "metadata": {
        "id": "v86jYqUkDhrS"
      },
      "source": [
        "# Practice Notebook: Methods and Classes"
      ]
    },
    {
      "cell_type": "markdown",
      "metadata": {
        "id": "YYsu055LDhrX"
      },
      "source": [
        "The code below defines an *Elevator* class. The elevator has a current floor, it also has a top and a bottom floor that are the minimum and maximum floors it can go to. Fill in the blanks to make the elevator go through the floors requested."
      ]
    },
    {
      "cell_type": "code",
      "execution_count": 20,
      "metadata": {
        "id": "mtgEI3apDhrd"
      },
      "outputs": [],
      "source": [
        "class Elevator:\n",
        "    def __init__(self, bottom, top, current):\n",
        "        \"\"\"Initializes the Elevator instance.\"\"\"\n",
        "        self.bottom = bottom\n",
        "        self.top = top\n",
        "        self.current = current\n",
        "\n",
        "    def __str__(self):\n",
        "      \"\"\"Returns the current floor\"\"\"\n",
        "      return 'Current Floor: ' + str(self.current)\n",
        "\n",
        "    def up(self):\n",
        "        \"\"\"Makes the elevator go up one floor.\"\"\"\n",
        "        if self.current < self.top:\n",
        "            self.current += 1\n",
        "\n",
        "    def down(self):\n",
        "        \"\"\"Makes the elevator go down one floor.\"\"\"\n",
        "        if self.current > self.bottom:\n",
        "            self.current -= 1\n",
        "\n",
        "    def go_to(self, floor):\n",
        "        \"\"\"Makes the elevator go to the specific floor.\"\"\"\n",
        "        if self.bottom <= floor <= self.top:\n",
        "            self.current = floor\n",
        "\n",
        "# Example usage\n",
        "elevator = Elevator(-1, 10, 0)"
      ]
    },
    {
      "cell_type": "markdown",
      "metadata": {
        "id": "QY614Uq1Dhrh"
      },
      "source": [
        "This class is pretty empty and doesn't do much.  To test whether your *Elevator* class is working correctly, run the code blocks below."
      ]
    },
    {
      "cell_type": "code",
      "execution_count": 11,
      "metadata": {
        "colab": {
          "base_uri": "https://localhost:8080/"
        },
        "id": "j9LVkUbiDhri",
        "outputId": "4aa64332-4726-43ee-adff-906a8d722ab0"
      },
      "outputs": [
        {
          "output_type": "execute_result",
          "data": {
            "text/plain": [
              "1"
            ]
          },
          "metadata": {},
          "execution_count": 11
        }
      ],
      "source": [
        "elevator.up()\n",
        "elevator.current #should output 1"
      ]
    },
    {
      "cell_type": "code",
      "execution_count": 12,
      "metadata": {
        "colab": {
          "base_uri": "https://localhost:8080/"
        },
        "id": "keDx_J9HDhri",
        "outputId": "fd763938-1c34-4236-d5c9-70e2439c2782"
      },
      "outputs": [
        {
          "output_type": "execute_result",
          "data": {
            "text/plain": [
              "0"
            ]
          },
          "metadata": {},
          "execution_count": 12
        }
      ],
      "source": [
        "elevator.down()\n",
        "elevator.current #should output 0"
      ]
    },
    {
      "cell_type": "code",
      "execution_count": 13,
      "metadata": {
        "colab": {
          "base_uri": "https://localhost:8080/"
        },
        "id": "gYSUoq7EDhrq",
        "outputId": "02433676-a745-4068-a93f-465e81a065bc"
      },
      "outputs": [
        {
          "output_type": "execute_result",
          "data": {
            "text/plain": [
              "10"
            ]
          },
          "metadata": {},
          "execution_count": 13
        }
      ],
      "source": [
        "elevator.go_to(10)\n",
        "elevator.current #should output 10"
      ]
    },
    {
      "cell_type": "markdown",
      "metadata": {
        "id": "v_o1QxThDhrr"
      },
      "source": [
        "If you get a **<font color =red>NameError</font>** message, be sure to run the *Elevator* class definition code block first. If you get an **<font color =red>AttributeError</font>** message, be sure to initialize *self.current* in your *Elevator* class."
      ]
    },
    {
      "cell_type": "markdown",
      "metadata": {
        "id": "4PZiewCDDhrs"
      },
      "source": [
        "Once you've made the above methods output 1, 0 and 10, you've successfully coded the *Elevator* class and its methods. Great work!\n",
        "<br><br>\n",
        "For the up and down methods, did you take into account the top and bottom floors? Keep in mind that the elevator shouldn't go above the top floor or below the bottom floor. To check that out, try the code below and verify if it's working as expected. If it's not, then go back and modify the methods so that this code behaves correctly."
      ]
    },
    {
      "cell_type": "code",
      "execution_count": 14,
      "metadata": {
        "colab": {
          "base_uri": "https://localhost:8080/"
        },
        "id": "qh3j1eghDhrt",
        "outputId": "fa8b23ef-c20b-4e69-afda-d3b788214111"
      },
      "outputs": [
        {
          "output_type": "stream",
          "name": "stdout",
          "text": [
            "9\n",
            "1\n"
          ]
        }
      ],
      "source": [
        "# Go to the top floor. Try to go up, it should stay. Then go down.\n",
        "elevator.go_to(10)\n",
        "elevator.up()\n",
        "elevator.down()\n",
        "print(elevator.current) # should be 9\n",
        "# Go to the bottom floor. Try to go down, it should stay. Then go up.\n",
        "elevator.go_to(-1)\n",
        "elevator.down()\n",
        "elevator.down()\n",
        "elevator.up()\n",
        "elevator.up()\n",
        "print(elevator.current) # should be 1"
      ]
    },
    {
      "cell_type": "markdown",
      "metadata": {
        "id": "Amb2u-1HDhrv"
      },
      "source": [
        "Now add the __str__ method to your *Elevator* class definition above so that when printing the elevator using the **print( )** method, we get the current floor together with a message. For example, in the 5th floor it should say \"Current floor: 5\""
      ]
    },
    {
      "cell_type": "code",
      "execution_count": 15,
      "metadata": {
        "colab": {
          "base_uri": "https://localhost:8080/"
        },
        "id": "HLMLmA14Dhrw",
        "outputId": "3e8ead5a-8b6c-4f19-80d0-104b3e4cf05c"
      },
      "outputs": [
        {
          "output_type": "stream",
          "name": "stdout",
          "text": [
            "<__main__.Elevator object at 0x7ac0bc5b7850>\n"
          ]
        }
      ],
      "source": [
        "elevator.go_to(5)\n",
        "print(elevator)"
      ]
    },
    {
      "cell_type": "code",
      "source": [
        "elevator.go_to(5)\n",
        "print(elevator)"
      ],
      "metadata": {
        "colab": {
          "base_uri": "https://localhost:8080/"
        },
        "id": "K1ROs5awF525",
        "outputId": "a58ea0d4-bf13-4afc-b0ce-c5cb6d7632e8"
      },
      "execution_count": 21,
      "outputs": [
        {
          "output_type": "stream",
          "name": "stdout",
          "text": [
            "Current Floor: 5\n"
          ]
        }
      ]
    },
    {
      "cell_type": "markdown",
      "metadata": {
        "id": "XZ7ydDpADhr2"
      },
      "source": [
        "Remember, Python uses the default method, that prints the position where the object is stored in the computer’s memory.  If your output is something like: <br>\n",
        "> <__main__.Elevator object at 0x7ff6a9ff3fd0>\n",
        "\n",
        "Then you will need to add the special __str__ method, which returns the string that you want to print.  Try again until you get the desired output, \"Current floor: 5\"."
      ]
    },
    {
      "cell_type": "markdown",
      "metadata": {
        "id": "DINhPGqpDhr4"
      },
      "source": [
        "Once you have successfully produced the desired output, you are all done with this practice notebook. Awesome!"
      ]
    }
  ],
  "metadata": {
    "kernelspec": {
      "display_name": "Python 3",
      "language": "python",
      "name": "python3"
    },
    "language_info": {
      "codemirror_mode": {
        "name": "ipython",
        "version": 3
      },
      "file_extension": ".py",
      "mimetype": "text/x-python",
      "name": "python",
      "nbconvert_exporter": "python",
      "pygments_lexer": "ipython3",
      "version": "3.6.7"
    },
    "colab": {
      "provenance": [],
      "include_colab_link": true
    }
  },
  "nbformat": 4,
  "nbformat_minor": 0
}
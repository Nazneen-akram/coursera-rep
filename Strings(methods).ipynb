{
  "nbformat": 4,
  "nbformat_minor": 0,
  "metadata": {
    "colab": {
      "provenance": [],
      "authorship_tag": "ABX9TyPWgFZrdbDMSVVbnvFUXS7N",
      "include_colab_link": true
    },
    "kernelspec": {
      "name": "python3",
      "display_name": "Python 3"
    },
    "language_info": {
      "name": "python"
    }
  },
  "cells": [
    {
      "cell_type": "markdown",
      "metadata": {
        "id": "view-in-github",
        "colab_type": "text"
      },
      "source": [
        "<a href=\"https://colab.research.google.com/github/Nazneen-akram/coursera-rep/blob/main/Strings(methods).ipynb\" target=\"_parent\"><img src=\"https://colab.research.google.com/assets/colab-badge.svg\" alt=\"Open In Colab\"/></a>"
      ]
    },
    {
      "cell_type": "markdown",
      "source": [
        "####Using the index method, find out the position of \"x\" in **\"supercalifragilisticexpialidocious\"**.\n",
        "\n",
        "```\n",
        "word = \"supercalifragilisticexpialidocious\"\n",
        "print()\n",
        "\n",
        "```"
      ],
      "metadata": {
        "id": "zTONxXZYGHuS"
      }
    },
    {
      "cell_type": "code",
      "source": [
        "word = \"supercalifragilisticexpialidocious\"\n",
        "print(word.index('x'))"
      ],
      "metadata": {
        "colab": {
          "base_uri": "https://localhost:8080/"
        },
        "id": "Uu5Km_f6GJfB",
        "outputId": "7249fc7e-e7c5-4a0a-de7f-b896720e7767"
      },
      "execution_count": 2,
      "outputs": [
        {
          "output_type": "stream",
          "name": "stdout",
          "text": [
            "21\n"
          ]
        }
      ]
    },
    {
      "cell_type": "code",
      "source": [
        "print(word.index('cali'))"
      ],
      "metadata": {
        "colab": {
          "base_uri": "https://localhost:8080/"
        },
        "id": "O9pmyzYJJKtX",
        "outputId": "2080a03b-aba4-4fbb-ce33-3edc7dfb0b09"
      },
      "execution_count": 9,
      "outputs": [
        {
          "output_type": "stream",
          "name": "stdout",
          "text": [
            "5\n"
          ]
        }
      ]
    },
    {
      "cell_type": "markdown",
      "source": [
        "####Substring contained in string?"
      ],
      "metadata": {
        "id": "zmGmcoH3HKyv"
      }
    },
    {
      "cell_type": "code",
      "source": [
        "pets = 'Cats & Dogs'\n",
        "\n",
        "'Cats' in pets"
      ],
      "metadata": {
        "colab": {
          "base_uri": "https://localhost:8080/"
        },
        "id": "AiW25YjBGseF",
        "outputId": "8fa2b751-8b39-4bb9-9e4c-67ebe216c3f8"
      },
      "execution_count": 3,
      "outputs": [
        {
          "output_type": "execute_result",
          "data": {
            "text/plain": [
              "True"
            ]
          },
          "metadata": {},
          "execution_count": 3
        }
      ]
    },
    {
      "cell_type": "code",
      "source": [
        "'Dragons' in pets"
      ],
      "metadata": {
        "colab": {
          "base_uri": "https://localhost:8080/"
        },
        "id": "eixpfpkbHwUw",
        "outputId": "e5b8d0c4-1903-404e-a64a-740fd1e7d379"
      },
      "execution_count": 7,
      "outputs": [
        {
          "output_type": "execute_result",
          "data": {
            "text/plain": [
              "False"
            ]
          },
          "metadata": {},
          "execution_count": 7
        }
      ]
    },
    {
      "cell_type": "code",
      "source": [
        "def replace_domain(email,old_domain,new_domain):\n",
        "  if old_domain in email:\n",
        "    index = email.index('@')\n",
        "    new_email = email[:index] + '@' + new_domain\n",
        "    return new_email\n",
        "\n",
        "\n",
        "replace_domain(\"nazneen.akram@email.com\",\"email.com\",\"email.edu\")"
      ],
      "metadata": {
        "colab": {
          "base_uri": "https://localhost:8080/",
          "height": 36
        },
        "id": "fRqaLIOEH0ga",
        "outputId": "0fd4e054-300f-44a7-a698-210753becaa3"
      },
      "execution_count": 14,
      "outputs": [
        {
          "output_type": "execute_result",
          "data": {
            "text/plain": [
              "'nazneen.akram@email.edu'"
            ],
            "application/vnd.google.colaboratory.intrinsic+json": {
              "type": "string"
            }
          },
          "metadata": {},
          "execution_count": 14
        }
      ]
    },
    {
      "cell_type": "code",
      "source": [
        "#We can locate the index that contains the letter g using animals.index(\"g\"), which will return the index; in this case 8\n",
        "animals = \"lions tigers and bears\"\n",
        "animals.index(\"g\")"
      ],
      "metadata": {
        "colab": {
          "base_uri": "https://localhost:8080/"
        },
        "id": "phVkQe9EJar3",
        "outputId": "f3cbb583-bac0-49d6-f808-3a078de7b04c"
      },
      "execution_count": 16,
      "outputs": [
        {
          "output_type": "execute_result",
          "data": {
            "text/plain": [
              "8"
            ]
          },
          "metadata": {},
          "execution_count": 16
        }
      ]
    },
    {
      "cell_type": "code",
      "source": [
        "#We can also use substrings to locate the index where the substring begins. animals.index(\"bears\") would return 17, since that’s the start of the substring\n",
        "animals = \"lions tigers and bears\"\n",
        "animals.index(\"bears\")"
      ],
      "metadata": {
        "colab": {
          "base_uri": "https://localhost:8080/"
        },
        "id": "mE8Wl3lNKHvT",
        "outputId": "6592bfd2-e5a0-4a2c-8f3e-63a35761b705"
      },
      "execution_count": 17,
      "outputs": [
        {
          "output_type": "execute_result",
          "data": {
            "text/plain": [
              "17"
            ]
          },
          "metadata": {},
          "execution_count": 17
        }
      ]
    },
    {
      "cell_type": "code",
      "source": [
        "# If we try to locate a substring that doesn't exist in the string, we’ll receive a ValueError explaining that the substring was not found.\n",
        "animals = \"lions tigers and bears\"\n",
        "animals.index(\"horses\")"
      ],
      "metadata": {
        "colab": {
          "base_uri": "https://localhost:8080/",
          "height": 219
        },
        "id": "vmt14DB5KSxH",
        "outputId": "59373aea-c806-4423-9e94-9d4c3bb8c534"
      },
      "execution_count": 18,
      "outputs": [
        {
          "output_type": "error",
          "ename": "ValueError",
          "evalue": "ignored",
          "traceback": [
            "\u001b[0;31m---------------------------------------------------------------------------\u001b[0m",
            "\u001b[0;31mValueError\u001b[0m                                Traceback (most recent call last)",
            "\u001b[0;32m<ipython-input-18-0d96f3919a48>\u001b[0m in \u001b[0;36m<cell line: 3>\u001b[0;34m()\u001b[0m\n\u001b[1;32m      1\u001b[0m \u001b[0;31m# If we try to locate a substring that doesn't exist in the string, we’ll receive a ValueError explaining that the substring was not found.\u001b[0m\u001b[0;34m\u001b[0m\u001b[0;34m\u001b[0m\u001b[0m\n\u001b[1;32m      2\u001b[0m \u001b[0manimals\u001b[0m \u001b[0;34m=\u001b[0m \u001b[0;34m\"lions tigers and bears\"\u001b[0m\u001b[0;34m\u001b[0m\u001b[0;34m\u001b[0m\u001b[0m\n\u001b[0;32m----> 3\u001b[0;31m \u001b[0manimals\u001b[0m\u001b[0;34m.\u001b[0m\u001b[0mindex\u001b[0m\u001b[0;34m(\u001b[0m\u001b[0;34m\"horses\"\u001b[0m\u001b[0;34m)\u001b[0m\u001b[0;34m\u001b[0m\u001b[0;34m\u001b[0m\u001b[0m\n\u001b[0m",
            "\u001b[0;31mValueError\u001b[0m: substring not found"
          ]
        }
      ]
    },
    {
      "cell_type": "code",
      "source": [
        "#We can avoid a ValueError by first checking if the substring exists in the string. This can be done using the in keyword.\n",
        "animals = \"lions tigers and bears\"\n",
        "\"horses\" in animals"
      ],
      "metadata": {
        "colab": {
          "base_uri": "https://localhost:8080/"
        },
        "id": "PHi2bLpTK0PS",
        "outputId": "aa3860fc-060c-45a7-e41a-34ebee7bd9b4"
      },
      "execution_count": 19,
      "outputs": [
        {
          "output_type": "execute_result",
          "data": {
            "text/plain": [
              "False"
            ]
          },
          "metadata": {},
          "execution_count": 19
        }
      ]
    },
    {
      "cell_type": "code",
      "source": [
        "#If we did \"tigers\" in animals, we'd get True, since this substring is contained in our string.\n",
        "animals = \"lions tigers and bears\"\n",
        "\"tigers\" in animals"
      ],
      "metadata": {
        "colab": {
          "base_uri": "https://localhost:8080/"
        },
        "id": "HtpZHjhMK88x",
        "outputId": "ee32bfa5-d8b8-44c0-fc68-1561c960486a"
      },
      "execution_count": 20,
      "outputs": [
        {
          "output_type": "execute_result",
          "data": {
            "text/plain": [
              "True"
            ]
          },
          "metadata": {},
          "execution_count": 20
        }
      ]
    },
    {
      "cell_type": "code",
      "source": [
        "#join method of string\n",
        "\" \".join([\"This\",\"is\",\"a\",\"sentence\"])"
      ],
      "metadata": {
        "colab": {
          "base_uri": "https://localhost:8080/",
          "height": 36
        },
        "id": "bw2Q9vw6LI8L",
        "outputId": "1e426b64-00ab-459e-f919-f359f42020cd"
      },
      "execution_count": 1,
      "outputs": [
        {
          "output_type": "execute_result",
          "data": {
            "text/plain": [
              "'This is a sentence'"
            ],
            "application/vnd.google.colaboratory.intrinsic+json": {
              "type": "string"
            }
          },
          "metadata": {},
          "execution_count": 1
        }
      ]
    },
    {
      "cell_type": "markdown",
      "source": [
        "####Modify the student_grade function using the format method, so that it returns the phrase \"X received Y% on the exam\". For example, student_grade(\"Reed\", 80) should return \"Reed received 80% on the exam\"."
      ],
      "metadata": {
        "id": "qJmKo_0b-VrM"
      }
    },
    {
      "cell_type": "code",
      "source": [
        "def student_grade(name, grade):\n",
        "\treturn f\"{name} received {grade}% on the exam\"\n",
        "\n",
        "print(student_grade(\"Reed\", 80))\n",
        "print(student_grade(\"Paige\", 92))\n",
        "print(student_grade(\"Jesse\", 85))"
      ],
      "metadata": {
        "colab": {
          "base_uri": "https://localhost:8080/"
        },
        "id": "n5y2dET_8tal",
        "outputId": "600b62a3-22d2-4f4b-b2fd-f9a6658d0f33"
      },
      "execution_count": 2,
      "outputs": [
        {
          "output_type": "stream",
          "name": "stdout",
          "text": [
            "Reed received 80% on the exam\n",
            "Paige received 92% on the exam\n",
            "Jesse received 85% on the exam\n"
          ]
        }
      ]
    },
    {
      "cell_type": "code",
      "source": [
        "# string.replace(old, new)\n",
        "text = \"Hello world\"\n",
        "new_text = text.replace(\"world\", \"Bing\") # replace \"world\" with \"Bing\"\n",
        "print(new_text)\n"
      ],
      "metadata": {
        "colab": {
          "base_uri": "https://localhost:8080/"
        },
        "id": "p7e7YXrv-W9N",
        "outputId": "8f4385e0-15ff-41f8-8f61-fa6a372d63b9"
      },
      "execution_count": 4,
      "outputs": [
        {
          "output_type": "stream",
          "name": "stdout",
          "text": [
            "Hello Bing\n"
          ]
        }
      ]
    },
    {
      "cell_type": "code",
      "source": [
        "# \"base string with {} placeholders\".format(variables)\n",
        "\n",
        "example = \"format() method\"\n",
        "\n",
        "formatted_string = \"this is an example of using the {} on a string\".format(example)\n",
        "\n",
        "print(formatted_string)\n",
        "\n",
        "\"\"\"Outputs:\n",
        "this is an example of using the format() method on a string\n",
        "\"\"\""
      ],
      "metadata": {
        "colab": {
          "base_uri": "https://localhost:8080/",
          "height": 55
        },
        "id": "DUUC6vLl_03J",
        "outputId": "6220f7af-3fae-4184-f7ff-dd19682a106e"
      },
      "execution_count": 5,
      "outputs": [
        {
          "output_type": "stream",
          "name": "stdout",
          "text": [
            "this is an example of using the format() method on a string\n"
          ]
        },
        {
          "output_type": "execute_result",
          "data": {
            "text/plain": [
              "'Outputs:\\nthis is an example of using the format() method on a string\\n'"
            ],
            "application/vnd.google.colaboratory.intrinsic+json": {
              "type": "string"
            }
          },
          "metadata": {},
          "execution_count": 5
        }
      ]
    },
    {
      "cell_type": "code",
      "source": [
        "#If the placeholders indicate a number, they’re replaced by the variable corresponding to that order (starting at zero).\n",
        "# \"{0} {1}\".format(first, second)\n",
        "\n",
        "first = \"apple\"\n",
        "second = \"banana\"\n",
        "third = \"carrot\"\n",
        "\n",
        "formatted_string = \"{0} {2} {1}\".format(first, second, third)\n",
        "\n",
        "print(formatted_string)\n",
        "\n",
        "\"\"\"Outputs:\n",
        "apple carrot banana\n",
        "\"\"\""
      ],
      "metadata": {
        "colab": {
          "base_uri": "https://localhost:8080/",
          "height": 55
        },
        "id": "0JaZJC7iAYy5",
        "outputId": "a3d070a9-8eb3-44d7-c926-7b20b922c81f"
      },
      "execution_count": 6,
      "outputs": [
        {
          "output_type": "stream",
          "name": "stdout",
          "text": [
            "apple carrot banana\n"
          ]
        },
        {
          "output_type": "execute_result",
          "data": {
            "text/plain": [
              "'Outputs:\\napple carrot banana\\n'"
            ],
            "application/vnd.google.colaboratory.intrinsic+json": {
              "type": "string"
            }
          },
          "metadata": {},
          "execution_count": 6
        }
      ]
    },
    {
      "cell_type": "code",
      "source": [
        "#If the placeholders include a colon, what comes after the colon is a formatting expression. See below for the expression reference.\n",
        "# {:d} integer value\n",
        "var1=10.25\n",
        "print('{var1:d}.format(10.5)')\n",
        "#'{:d}'.format(10.5) → '10'"
      ],
      "metadata": {
        "colab": {
          "base_uri": "https://localhost:8080/"
        },
        "id": "uKoNi7-rAoE9",
        "outputId": "522836a1-6837-4913-982b-3890a45a7b52"
      },
      "execution_count": 12,
      "outputs": [
        {
          "output_type": "stream",
          "name": "stdout",
          "text": [
            "{var1:d}.format(10.5)\n"
          ]
        }
      ]
    },
    {
      "cell_type": "code",
      "source": [
        "item= 'Banana'\n",
        "amount = 1\n",
        "price = 2.555\n",
        "\"Item: %s - Amount: %d - Price: %.2f\" % (item, amount, price)"
      ],
      "metadata": {
        "colab": {
          "base_uri": "https://localhost:8080/",
          "height": 36
        },
        "id": "s2lG0V0MBJSd",
        "outputId": "8df91dcf-4ed4-4320-92ee-74ca9286d067"
      },
      "execution_count": 15,
      "outputs": [
        {
          "output_type": "execute_result",
          "data": {
            "text/plain": [
              "'Item: Banana - Amount: 1 - Price: 2.56'"
            ],
            "application/vnd.google.colaboratory.intrinsic+json": {
              "type": "string"
            }
          },
          "metadata": {},
          "execution_count": 15
        }
      ]
    },
    {
      "cell_type": "code",
      "source": [],
      "metadata": {
        "id": "cWBRKK9ZCBBh"
      },
      "execution_count": null,
      "outputs": []
    }
  ]
}
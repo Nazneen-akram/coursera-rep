{
  "nbformat": 4,
  "nbformat_minor": 0,
  "metadata": {
    "colab": {
      "provenance": [],
      "authorship_tag": "ABX9TyNo2fMmoqOPQ9dq2UT2DPxN",
      "include_colab_link": true
    },
    "kernelspec": {
      "name": "python3",
      "display_name": "Python 3"
    },
    "language_info": {
      "name": "python"
    }
  },
  "cells": [
    {
      "cell_type": "markdown",
      "metadata": {
        "id": "view-in-github",
        "colab_type": "text"
      },
      "source": [
        "<a href=\"https://colab.research.google.com/github/Nazneen-akram/coursera-rep/blob/main/Strings(methods).ipynb\" target=\"_parent\"><img src=\"https://colab.research.google.com/assets/colab-badge.svg\" alt=\"Open In Colab\"/></a>"
      ]
    },
    {
      "cell_type": "markdown",
      "source": [
        "####Using the index method, find out the position of \"x\" in **\"supercalifragilisticexpialidocious\"**.\n",
        "\n",
        "```\n",
        "word = \"supercalifragilisticexpialidocious\"\n",
        "print()\n",
        "\n",
        "```"
      ],
      "metadata": {
        "id": "zTONxXZYGHuS"
      }
    },
    {
      "cell_type": "code",
      "source": [
        "word = \"supercalifragilisticexpialidocious\"\n",
        "print(word.index('x'))"
      ],
      "metadata": {
        "colab": {
          "base_uri": "https://localhost:8080/"
        },
        "id": "Uu5Km_f6GJfB",
        "outputId": "7249fc7e-e7c5-4a0a-de7f-b896720e7767"
      },
      "execution_count": 2,
      "outputs": [
        {
          "output_type": "stream",
          "name": "stdout",
          "text": [
            "21\n"
          ]
        }
      ]
    },
    {
      "cell_type": "code",
      "source": [
        "print(word.index('cali'))"
      ],
      "metadata": {
        "colab": {
          "base_uri": "https://localhost:8080/"
        },
        "id": "O9pmyzYJJKtX",
        "outputId": "2080a03b-aba4-4fbb-ce33-3edc7dfb0b09"
      },
      "execution_count": 9,
      "outputs": [
        {
          "output_type": "stream",
          "name": "stdout",
          "text": [
            "5\n"
          ]
        }
      ]
    },
    {
      "cell_type": "markdown",
      "source": [
        "####Substring contained in string?"
      ],
      "metadata": {
        "id": "zmGmcoH3HKyv"
      }
    },
    {
      "cell_type": "code",
      "source": [
        "pets = 'Cats & Dogs'\n",
        "\n",
        "'Cats' in pets"
      ],
      "metadata": {
        "colab": {
          "base_uri": "https://localhost:8080/"
        },
        "id": "AiW25YjBGseF",
        "outputId": "8fa2b751-8b39-4bb9-9e4c-67ebe216c3f8"
      },
      "execution_count": 3,
      "outputs": [
        {
          "output_type": "execute_result",
          "data": {
            "text/plain": [
              "True"
            ]
          },
          "metadata": {},
          "execution_count": 3
        }
      ]
    },
    {
      "cell_type": "code",
      "source": [
        "'Dragons' in pets"
      ],
      "metadata": {
        "colab": {
          "base_uri": "https://localhost:8080/"
        },
        "id": "eixpfpkbHwUw",
        "outputId": "e5b8d0c4-1903-404e-a64a-740fd1e7d379"
      },
      "execution_count": 7,
      "outputs": [
        {
          "output_type": "execute_result",
          "data": {
            "text/plain": [
              "False"
            ]
          },
          "metadata": {},
          "execution_count": 7
        }
      ]
    },
    {
      "cell_type": "code",
      "source": [
        "def replace_domain(email,old_domain,new_domain):\n",
        "  if old_domain in email:\n",
        "    index = email.index('@')\n",
        "    new_email = email[:index] + '@' + new_domain\n",
        "    return new_email\n",
        "\n",
        "\n",
        "replace_domain(\"nazneen.akram@email.com\",\"email.com\",\"email.edu\")"
      ],
      "metadata": {
        "colab": {
          "base_uri": "https://localhost:8080/",
          "height": 36
        },
        "id": "fRqaLIOEH0ga",
        "outputId": "0fd4e054-300f-44a7-a698-210753becaa3"
      },
      "execution_count": 14,
      "outputs": [
        {
          "output_type": "execute_result",
          "data": {
            "text/plain": [
              "'nazneen.akram@email.edu'"
            ],
            "application/vnd.google.colaboratory.intrinsic+json": {
              "type": "string"
            }
          },
          "metadata": {},
          "execution_count": 14
        }
      ]
    },
    {
      "cell_type": "code",
      "source": [
        "#We can locate the index that contains the letter g using animals.index(\"g\"), which will return the index; in this case 8\n",
        "animals = \"lions tigers and bears\"\n",
        "animals.index(\"g\")"
      ],
      "metadata": {
        "colab": {
          "base_uri": "https://localhost:8080/"
        },
        "id": "phVkQe9EJar3",
        "outputId": "f3cbb583-bac0-49d6-f808-3a078de7b04c"
      },
      "execution_count": 16,
      "outputs": [
        {
          "output_type": "execute_result",
          "data": {
            "text/plain": [
              "8"
            ]
          },
          "metadata": {},
          "execution_count": 16
        }
      ]
    },
    {
      "cell_type": "code",
      "source": [
        "#We can also use substrings to locate the index where the substring begins. animals.index(\"bears\") would return 17, since that’s the start of the substring\n",
        "animals = \"lions tigers and bears\"\n",
        "animals.index(\"bears\")"
      ],
      "metadata": {
        "colab": {
          "base_uri": "https://localhost:8080/"
        },
        "id": "mE8Wl3lNKHvT",
        "outputId": "6592bfd2-e5a0-4a2c-8f3e-63a35761b705"
      },
      "execution_count": 17,
      "outputs": [
        {
          "output_type": "execute_result",
          "data": {
            "text/plain": [
              "17"
            ]
          },
          "metadata": {},
          "execution_count": 17
        }
      ]
    },
    {
      "cell_type": "code",
      "source": [
        "# If we try to locate a substring that doesn't exist in the string, we’ll receive a ValueError explaining that the substring was not found.\n",
        "animals = \"lions tigers and bears\"\n",
        "animals.index(\"horses\")"
      ],
      "metadata": {
        "colab": {
          "base_uri": "https://localhost:8080/",
          "height": 219
        },
        "id": "vmt14DB5KSxH",
        "outputId": "59373aea-c806-4423-9e94-9d4c3bb8c534"
      },
      "execution_count": 18,
      "outputs": [
        {
          "output_type": "error",
          "ename": "ValueError",
          "evalue": "ignored",
          "traceback": [
            "\u001b[0;31m---------------------------------------------------------------------------\u001b[0m",
            "\u001b[0;31mValueError\u001b[0m                                Traceback (most recent call last)",
            "\u001b[0;32m<ipython-input-18-0d96f3919a48>\u001b[0m in \u001b[0;36m<cell line: 3>\u001b[0;34m()\u001b[0m\n\u001b[1;32m      1\u001b[0m \u001b[0;31m# If we try to locate a substring that doesn't exist in the string, we’ll receive a ValueError explaining that the substring was not found.\u001b[0m\u001b[0;34m\u001b[0m\u001b[0;34m\u001b[0m\u001b[0m\n\u001b[1;32m      2\u001b[0m \u001b[0manimals\u001b[0m \u001b[0;34m=\u001b[0m \u001b[0;34m\"lions tigers and bears\"\u001b[0m\u001b[0;34m\u001b[0m\u001b[0;34m\u001b[0m\u001b[0m\n\u001b[0;32m----> 3\u001b[0;31m \u001b[0manimals\u001b[0m\u001b[0;34m.\u001b[0m\u001b[0mindex\u001b[0m\u001b[0;34m(\u001b[0m\u001b[0;34m\"horses\"\u001b[0m\u001b[0;34m)\u001b[0m\u001b[0;34m\u001b[0m\u001b[0;34m\u001b[0m\u001b[0m\n\u001b[0m",
            "\u001b[0;31mValueError\u001b[0m: substring not found"
          ]
        }
      ]
    },
    {
      "cell_type": "code",
      "source": [
        "#We can avoid a ValueError by first checking if the substring exists in the string. This can be done using the in keyword.\n",
        "animals = \"lions tigers and bears\"\n",
        "\"horses\" in animals"
      ],
      "metadata": {
        "colab": {
          "base_uri": "https://localhost:8080/"
        },
        "id": "PHi2bLpTK0PS",
        "outputId": "aa3860fc-060c-45a7-e41a-34ebee7bd9b4"
      },
      "execution_count": 19,
      "outputs": [
        {
          "output_type": "execute_result",
          "data": {
            "text/plain": [
              "False"
            ]
          },
          "metadata": {},
          "execution_count": 19
        }
      ]
    },
    {
      "cell_type": "code",
      "source": [
        "#If we did \"tigers\" in animals, we'd get True, since this substring is contained in our string.\n",
        "animals = \"lions tigers and bears\"\n",
        "\"tigers\" in animals"
      ],
      "metadata": {
        "colab": {
          "base_uri": "https://localhost:8080/"
        },
        "id": "HtpZHjhMK88x",
        "outputId": "ee32bfa5-d8b8-44c0-fc68-1561c960486a"
      },
      "execution_count": 20,
      "outputs": [
        {
          "output_type": "execute_result",
          "data": {
            "text/plain": [
              "True"
            ]
          },
          "metadata": {},
          "execution_count": 20
        }
      ]
    },
    {
      "cell_type": "code",
      "source": [
        "#join method of string\n",
        "\" \".join([\"This\",\"is\",\"a\",\"sentence\"])"
      ],
      "metadata": {
        "colab": {
          "base_uri": "https://localhost:8080/",
          "height": 36
        },
        "id": "bw2Q9vw6LI8L",
        "outputId": "1e426b64-00ab-459e-f919-f359f42020cd"
      },
      "execution_count": 1,
      "outputs": [
        {
          "output_type": "execute_result",
          "data": {
            "text/plain": [
              "'This is a sentence'"
            ],
            "application/vnd.google.colaboratory.intrinsic+json": {
              "type": "string"
            }
          },
          "metadata": {},
          "execution_count": 1
        }
      ]
    },
    {
      "cell_type": "markdown",
      "source": [
        "####Modify the student_grade function using the format method, so that it returns the phrase \"X received Y% on the exam\". For example, student_grade(\"Reed\", 80) should return \"Reed received 80% on the exam\"."
      ],
      "metadata": {
        "id": "qJmKo_0b-VrM"
      }
    },
    {
      "cell_type": "code",
      "source": [
        "def student_grade(name, grade):\n",
        "\treturn f\"{name} received {grade}% on the exam\"\n",
        "\n",
        "print(student_grade(\"Reed\", 80))\n",
        "print(student_grade(\"Paige\", 92))\n",
        "print(student_grade(\"Jesse\", 85))"
      ],
      "metadata": {
        "colab": {
          "base_uri": "https://localhost:8080/"
        },
        "id": "n5y2dET_8tal",
        "outputId": "600b62a3-22d2-4f4b-b2fd-f9a6658d0f33"
      },
      "execution_count": 2,
      "outputs": [
        {
          "output_type": "stream",
          "name": "stdout",
          "text": [
            "Reed received 80% on the exam\n",
            "Paige received 92% on the exam\n",
            "Jesse received 85% on the exam\n"
          ]
        }
      ]
    },
    {
      "cell_type": "code",
      "source": [
        "# string.replace(old, new)\n",
        "text = \"Hello world\"\n",
        "new_text = text.replace(\"world\", \"Bing\") # replace \"world\" with \"Bing\"\n",
        "print(new_text)\n"
      ],
      "metadata": {
        "colab": {
          "base_uri": "https://localhost:8080/"
        },
        "id": "p7e7YXrv-W9N",
        "outputId": "8f4385e0-15ff-41f8-8f61-fa6a372d63b9"
      },
      "execution_count": 4,
      "outputs": [
        {
          "output_type": "stream",
          "name": "stdout",
          "text": [
            "Hello Bing\n"
          ]
        }
      ]
    },
    {
      "cell_type": "code",
      "source": [
        "# \"base string with {} placeholders\".format(variables)\n",
        "\n",
        "example = \"format() method\"\n",
        "\n",
        "formatted_string = \"this is an example of using the {} on a string\".format(example)\n",
        "\n",
        "print(formatted_string)\n",
        "\n",
        "\"\"\"Outputs:\n",
        "this is an example of using the format() method on a string\n",
        "\"\"\""
      ],
      "metadata": {
        "colab": {
          "base_uri": "https://localhost:8080/",
          "height": 55
        },
        "id": "DUUC6vLl_03J",
        "outputId": "6220f7af-3fae-4184-f7ff-dd19682a106e"
      },
      "execution_count": 5,
      "outputs": [
        {
          "output_type": "stream",
          "name": "stdout",
          "text": [
            "this is an example of using the format() method on a string\n"
          ]
        },
        {
          "output_type": "execute_result",
          "data": {
            "text/plain": [
              "'Outputs:\\nthis is an example of using the format() method on a string\\n'"
            ],
            "application/vnd.google.colaboratory.intrinsic+json": {
              "type": "string"
            }
          },
          "metadata": {},
          "execution_count": 5
        }
      ]
    },
    {
      "cell_type": "code",
      "source": [
        "#If the placeholders indicate a number, they’re replaced by the variable corresponding to that order (starting at zero).\n",
        "# \"{0} {1}\".format(first, second)\n",
        "\n",
        "first = \"apple\"\n",
        "second = \"banana\"\n",
        "third = \"carrot\"\n",
        "\n",
        "formatted_string = \"{0} {2} {1}\".format(first, second, third)\n",
        "\n",
        "print(formatted_string)\n",
        "\n",
        "\"\"\"Outputs:\n",
        "apple carrot banana\n",
        "\"\"\""
      ],
      "metadata": {
        "colab": {
          "base_uri": "https://localhost:8080/",
          "height": 55
        },
        "id": "0JaZJC7iAYy5",
        "outputId": "a3d070a9-8eb3-44d7-c926-7b20b922c81f"
      },
      "execution_count": 6,
      "outputs": [
        {
          "output_type": "stream",
          "name": "stdout",
          "text": [
            "apple carrot banana\n"
          ]
        },
        {
          "output_type": "execute_result",
          "data": {
            "text/plain": [
              "'Outputs:\\napple carrot banana\\n'"
            ],
            "application/vnd.google.colaboratory.intrinsic+json": {
              "type": "string"
            }
          },
          "metadata": {},
          "execution_count": 6
        }
      ]
    },
    {
      "cell_type": "code",
      "source": [
        "#If the placeholders include a colon, what comes after the colon is a formatting expression. See below for the expression reference.\n",
        "# {:d} integer value\n",
        "var1=10.25\n",
        "print('{var1:d}.format(10.5)')\n",
        "#'{:d}'.format(10.5) → '10'"
      ],
      "metadata": {
        "colab": {
          "base_uri": "https://localhost:8080/"
        },
        "id": "uKoNi7-rAoE9",
        "outputId": "522836a1-6837-4913-982b-3890a45a7b52"
      },
      "execution_count": 12,
      "outputs": [
        {
          "output_type": "stream",
          "name": "stdout",
          "text": [
            "{var1:d}.format(10.5)\n"
          ]
        }
      ]
    },
    {
      "cell_type": "code",
      "source": [
        "item= 'Banana'\n",
        "amount = 1\n",
        "price = 2.555\n",
        "\"Item: %s - Amount: %d - Price: %.2f\" % (item, amount, price)"
      ],
      "metadata": {
        "colab": {
          "base_uri": "https://localhost:8080/",
          "height": 36
        },
        "id": "s2lG0V0MBJSd",
        "outputId": "8df91dcf-4ed4-4320-92ee-74ca9286d067"
      },
      "execution_count": 15,
      "outputs": [
        {
          "output_type": "execute_result",
          "data": {
            "text/plain": [
              "'Item: Banana - Amount: 1 - Price: 2.56'"
            ],
            "application/vnd.google.colaboratory.intrinsic+json": {
              "type": "string"
            }
          },
          "metadata": {},
          "execution_count": 15
        }
      ]
    },
    {
      "cell_type": "code",
      "source": [
        "# define a dictionary with two keys and values\n",
        "data = {\"name\": \"Alice\", \"age\": 25}\n",
        "# define a string with placeholders\n",
        "template = \"Hello, %(name)s. You are %(age)d years old.\"\n",
        "# create a new string by replacing the placeholders with the values from the dictionary\n",
        "message = template % data\n",
        "# print the new string\n",
        "print(message)\n"
      ],
      "metadata": {
        "colab": {
          "base_uri": "https://localhost:8080/"
        },
        "id": "cWBRKK9ZCBBh",
        "outputId": "668d379b-6d5c-45e1-ec22-bc2536329b8f"
      },
      "execution_count": 20,
      "outputs": [
        {
          "output_type": "stream",
          "name": "stdout",
          "text": [
            "Hello, Alice. You are 25 years old.\n"
          ]
        }
      ]
    },
    {
      "cell_type": "code",
      "source": [
        "# This function checks a given schedule entry for an old date and, if\n",
        "# found, the function replaces it with a new date.\n",
        "def replace_date(schedule, old_date, new_date):\n",
        "\n",
        "    # Check if the given \"old_date\" appears at the end of the given\n",
        "    # string variable \"schedule\".\n",
        "    if schedule.endswith(old_date):\n",
        "\n",
        "        # If True, the body of the if-block will run. The variable \"n\" is\n",
        "        # used to hold the slicing index position. The len() function\n",
        "        # is used to measure the length of the string \"new_date\".\n",
        "        p = len(old_date)\n",
        "\n",
        "        # The \"new_schedule\" string holds the updated string with the\n",
        "        # old date replaced by the new date. The schedule[:-p] part of\n",
        "        # the code trims the \"old_date\" substring from \"schedule\"\n",
        "        # starting at the final index position (or right-side) counting\n",
        "        # towards the left the same number of index positions as\n",
        "        # calculated from len(old_date). Then, the code schedule[-p:]\n",
        "        # starts the indexing position at the slot where the first\n",
        "        # character of the \"old_date\" used to be positioned. The\n",
        "        # .replace(old_date, new_date) code inserts the \"new_date\" into\n",
        "        # the position where the \"old_date\" used to exist.\n",
        "        new_schedule = schedule[:-p] + schedule[-p:].replace(old_date, new_date)\n",
        "\n",
        "        # Returns the schedule with the new date.\n",
        "        return new_schedule\n",
        "\n",
        "    # If the schedule does not end with the old date, then return the\n",
        "    # original sentence without any modifications.\n",
        "    return schedule\n",
        "\n",
        "\n",
        "print(replace_date(\"Last year’s annual report will be released in March 2023\", \"2023\", \"2024\"))\n",
        "# Should display \"Last year’s annual report will be released in March 2024\"\n",
        "print(replace_date(\"In April, the CEO will hold a conference\", \"April\", \"May\"))\n",
        "# Should display \"In April, the CEO will hold a conference\"\n",
        "print(replace_date(\"The convention is scheduled for October\", \"October\", \"June\"))\n",
        "# Should display \"The convention is scheduled for June\"\n"
      ],
      "metadata": {
        "colab": {
          "base_uri": "https://localhost:8080/"
        },
        "id": "i4UTXQHMCgq2",
        "outputId": "63071fc1-c614-4996-9c1f-5bdd422948eb"
      },
      "execution_count": 21,
      "outputs": [
        {
          "output_type": "stream",
          "name": "stdout",
          "text": [
            "Last year’s annual report will be released in March 2024\n",
            "In April, the CEO will hold a conference\n",
            "The convention is scheduled for June\n"
          ]
        }
      ]
    },
    {
      "cell_type": "code",
      "source": [
        "def is_palindrome(input_string):\n",
        "    # Two variables are initialized as string date types using empty\n",
        "    # quotes: \"reverse_string\" to hold the \"input_string\" in reverse\n",
        "    # order and \"new_string\" to hold the \"input_string\" minus the\n",
        "    # spaces between words, if any are found.\n",
        "    new_string = \"\"\n",
        "    reverse_string = \"\"\n",
        "\n",
        "    # Complete the for loop to iterate through each letter of the\n",
        "    # \"input_string\"\n",
        "    for letter in input_string:\n",
        "\n",
        "        # The if-statement checks if the \"letter\" is not a space.\n",
        "        if letter != \" \":\n",
        "\n",
        "            # If True, add the \"letter\" to the end of \"new_string\" and\n",
        "            # to the front of \"reverse_string\". If False (if a space\n",
        "            # is detected), no action is needed. Exit the if-block.\n",
        "            new_string = new_string + letter.lower()\n",
        "            reverse_string = letter.lower() + reverse_string\n",
        "\n",
        "    # Complete the if-statement to compare the \"new_string\" to the\n",
        "    # \"reverse_string\". Remember that Python is case-sensitive when\n",
        "    # creating the string comparison code.\n",
        "    if new_string == reverse_string:\n",
        "\n",
        "        # If True, the \"input_string\" contains a palindrome.\n",
        "        return True\n",
        "\n",
        "    # Otherwise, return False.\n",
        "    return False\n",
        "\n",
        "\n",
        "print(is_palindrome(\"Never Odd or Even\")) # Should be True\n",
        "print(is_palindrome(\"abc\")) # Should be False\n",
        "print(is_palindrome(\"kayak\")) # Should be True"
      ],
      "metadata": {
        "colab": {
          "base_uri": "https://localhost:8080/"
        },
        "id": "a6F_EvgaDv3z",
        "outputId": "ea7594de-c961-43de-953e-7c6ba1c7db61"
      },
      "execution_count": 22,
      "outputs": [
        {
          "output_type": "stream",
          "name": "stdout",
          "text": [
            "True\n",
            "False\n",
            "True\n"
          ]
        }
      ]
    },
    {
      "cell_type": "markdown",
      "source": [
        "####Using the format method, fill in the gaps in the convert_distance function so that it returns the phrase \"X miles equals Y km\", with Y having only 1 decimal place. For example, convert_distance(12) should return \"12 miles equals 19.2 km\"."
      ],
      "metadata": {
        "id": "B_jHYsirIknj"
      }
    },
    {
      "cell_type": "code",
      "source": [
        "def convert_distance(miles):\n",
        "    km = miles * 1.6\n",
        "    result = \"{} miles equals {:.1f} km\".format(miles,km)\n",
        "    return result\n",
        "\n",
        "\n",
        "print(convert_distance(12)) # Should be: 12 miles equals 19.2 km\n",
        "print(convert_distance(5.5)) # Should be: 5.5 miles equals 8.8 km\n",
        "print(convert_distance(11)) # Should be: 11 miles equals 17.6 km"
      ],
      "metadata": {
        "colab": {
          "base_uri": "https://localhost:8080/"
        },
        "id": "dro3bUyXHQOT",
        "outputId": "4f9ce348-5e2f-4ecf-856d-21a6c8fdf2b5"
      },
      "execution_count": 23,
      "outputs": [
        {
          "output_type": "stream",
          "name": "stdout",
          "text": [
            "12 miles equals 19.2 km\n",
            "5.5 miles equals 8.8 km\n",
            "11 miles equals 17.6 km\n"
          ]
        }
      ]
    },
    {
      "cell_type": "markdown",
      "source": [
        "####Question 3\n",
        "If we have a string variable named Weather = \"Rainfall\", which of the following will print the substring \"Rain\" or all characters before the \"f\"?"
      ],
      "metadata": {
        "id": "PtBKlEudIwda"
      }
    },
    {
      "cell_type": "code",
      "source": [
        "Weather = \"Rainfall\"\n",
        "print(Weather[:4])"
      ],
      "metadata": {
        "colab": {
          "base_uri": "https://localhost:8080/"
        },
        "id": "2ikOlN1ZIlt-",
        "outputId": "0fdc0346-c69c-49e5-9b5e-82636d006b86"
      },
      "execution_count": 25,
      "outputs": [
        {
          "output_type": "stream",
          "name": "stdout",
          "text": [
            "Rain\n"
          ]
        }
      ]
    },
    {
      "cell_type": "markdown",
      "source": [
        "####Question 4\n",
        "Fill in the gaps in the nametag function so that it uses the format method to return first_name and the first initial of last_name followed by a period. For example, nametag(\"Jane\", \"Smith\") should return \"Jane S.\""
      ],
      "metadata": {
        "id": "yMxkTKeIJEIH"
      }
    },
    {
      "cell_type": "code",
      "source": [
        "def nametag(first_name, last_name):\n",
        "    return(\"{} {:.1}\".format(first_name,last_name[0]))\n",
        "\n",
        "\n",
        "print(nametag(\"Jane\", \"Smith\"))\n",
        "# Should display \"Jane S.\"\n",
        "print(nametag(\"Francesco\", \"Rinaldi\"))\n",
        "# Should display \"Francesco R.\"\n",
        "print(nametag(\"Jean-Luc\", \"Grand-Pierre\"))\n",
        "# Should display \"Jean-Luc G.\"\n"
      ],
      "metadata": {
        "colab": {
          "base_uri": "https://localhost:8080/"
        },
        "id": "22m2-LdJI5Se",
        "outputId": "b6406ee7-bfdc-4749-aa08-4a779c72b246"
      },
      "execution_count": 26,
      "outputs": [
        {
          "output_type": "stream",
          "name": "stdout",
          "text": [
            "Jane S\n",
            "Francesco R\n",
            "Jean-Luc G\n"
          ]
        }
      ]
    },
    {
      "cell_type": "code",
      "source": [],
      "metadata": {
        "id": "NPDPqCObMIMS"
      },
      "execution_count": null,
      "outputs": []
    },
    {
      "cell_type": "markdown",
      "source": [
        "####Question 5\n",
        "The replace_ending function replaces a specified substring at the end of a given sentence with a new substring. If the specified substring does not appear at the end of the given sentence, no action is performed and the original sentence is returned. If there is more than one occurrence of the specified substring in the sentence, only the substring at the end of the sentence is replaced. For example, replace_ending(\"abcabc\", \"abc\", \"xyz\") should return abcxyz, not xyzxyz or xyzabc. The string comparison is case-sensitive, so replace_ending(\"abcabc\", \"ABC\", \"xyz\") should return abcabc (no changes made).  \n",
        "\n",
        "```\n",
        "def replace_ending(sentence, old, new):\n",
        "    # Check if the old substring is at the end of the sentence\n",
        "    if ___:\n",
        "        # Using i as the slicing index, combine the part\n",
        "        # of the sentence up to the matched string at the\n",
        "        # end with the new string\n",
        "        i = ___\n",
        "        new_sentence = ___\n",
        "        return new_sentence\n",
        "\n",
        "\n",
        "    # Return the original sentence if there is no match\n",
        "    return sentence\n",
        "    \n",
        "print(replace_ending(\"It's raining cats and cats\", \"cats\", \"dogs\"))\n",
        "# Should display \"It's raining cats and dogs\"\n",
        "print(replace_ending(\"She sells seashells by the seashore\", \"seashells\", \"donuts\"))\n",
        "# Should display \"She sells seashells by the seashore\"\n",
        "print(replace_ending(\"The weather is nice in May\", \"may\", \"april\"))\n",
        "# Should display \"The weather is nice in May\"\n",
        "print(replace_ending(\"The weather is nice in May\", \"May\", \"April\"))\n",
        "# Should display \"The weather is nice in April\"\n",
        "\n",
        "```"
      ],
      "metadata": {
        "id": "-dZWvI41MX7L"
      }
    },
    {
      "cell_type": "code",
      "source": [
        "def replace_ending(sentence, old, new):\n",
        "    # Check if the old substring is at the end of the sentence\n",
        "    if sentence.split()[-1]==old:\n",
        "        # Using i as the slicing index, combine the part\n",
        "        # of the sentence up to the matched string at the\n",
        "        # end with the new string\n",
        "        i = len(old)\n",
        "        new_sentence = sentence[:-i] + new\n",
        "        return new_sentence\n",
        "\n",
        "\n",
        "    # Return the original sentence if there is no match\n",
        "    return sentence\n",
        "\n",
        "print(replace_ending(\"It's raining cats and cats\", \"cats\", \"dogs\"))\n",
        "# Should display \"It's raining cats and dogs\"\n",
        "print(replace_ending(\"She sells seashells by the seashore\", \"seashells\", \"donuts\"))\n",
        "# Should display \"She sells seashells by the seashore\"\n",
        "print(replace_ending(\"The weather is nice in May\", \"may\", \"april\"))\n",
        "# Should display \"The weather is nice in May\"\n",
        "print(replace_ending(\"The weather is nice in May\", \"May\", \"April\"))\n",
        "# Should display \"The weather is nice in April\"\n"
      ],
      "metadata": {
        "colab": {
          "base_uri": "https://localhost:8080/"
        },
        "id": "AI6W1SMNMcst",
        "outputId": "d46d9f89-6c52-4917-efc0-88f8e1ab03dd"
      },
      "execution_count": 62,
      "outputs": [
        {
          "output_type": "stream",
          "name": "stdout",
          "text": [
            "It's raining cats and dogs\n",
            "She sells seashells by the seashore\n",
            "The weather is nice in May\n",
            "The weather is nice in April\n"
          ]
        }
      ]
    },
    {
      "cell_type": "markdown",
      "source": [
        "#### Using the \"split\" string method from the preceding lesson, complete the get_word function to return the {n}th word from a passed sentence. For example, get_word(\"This is a lesson about lists\", 4) should return \"lesson\", which is the 4th word in this sentence. Hint: remember that list indexes start at 0, not 1.\n",
        "```\n",
        "def get_word(sentence, n):\n",
        "\t# Only proceed if n is positive\n",
        "\tif n > 0:\n",
        "\t\twords = ___\n",
        "\t\t# Only proceed if n is not more than the number of words\n",
        "\t\tif n <= len(words):\n",
        "\t\t\treturn(___)\n",
        "\treturn(\"\")\n",
        "\n",
        "print(get_word(\"This is a lesson about lists\", 4)) # Should print: lesson\n",
        "print(get_word(\"This is a lesson about lists\", -4)) # Nothing\n",
        "print(get_word(\"Now we are cooking!\", 1)) # Should print: Now\n",
        "print(get_word(\"Now we are cooking!\", 5)) # Nothing\n",
        "```\n"
      ],
      "metadata": {
        "id": "dOIRFfwVobwI"
      }
    },
    {
      "cell_type": "code",
      "source": [
        "def get_word(sentence, n):\n",
        "    # Only proceed if n is positive\n",
        "    if n > 0:\n",
        "        words = sentence.split()\n",
        "        # Only proceed if n is not more than the number of words\n",
        "        if n <= len(words):\n",
        "            return(words[n-1])\n",
        "    return(\"\")\n",
        "\n",
        "print(get_word(\"This is a lesson about lists\", 4)) # Should print: lesson\n",
        "print(get_word(\"This is a lesson about lists\", -4)) # Nothing\n",
        "print(get_word(\"Now we are cooking!\", 1)) # Should print: Now\n",
        "print(get_word(\"Now we are cooking!\", 5)) # Nothing"
      ],
      "metadata": {
        "id": "Z1PDHXQsoqec",
        "outputId": "194fd97d-3291-44cd-a2bf-2a4dec2ebc7d",
        "colab": {
          "base_uri": "https://localhost:8080/"
        }
      },
      "execution_count": 2,
      "outputs": [
        {
          "output_type": "stream",
          "name": "stdout",
          "text": [
            "lesson\n",
            "\n",
            "Now\n",
            "\n"
          ]
        }
      ]
    },
    {
      "cell_type": "markdown",
      "source": [
        "####Question\n",
        "\n",
        "Let's use tuples to store information about a file: its name, its type and its size in bytes. Fill in the gaps in this code to return the size in kilobytes (a kilobyte is 1024 bytes) up to 2 decimal places."
      ],
      "metadata": {
        "id": "gx0SXrRfv2Sw"
      }
    },
    {
      "cell_type": "code",
      "source": [
        "def file_size(file_info):\n",
        "\tname, file_type, byte_size= file_info\n",
        "\treturn(\"{:.2f}\".format(byte_size / 1024))\n",
        "\n",
        "print(file_size(('Class Assignment', 'docx', 17875))) # Should print 17.46\n",
        "print(file_size(('Notes', 'txt', 496))) # Should print 0.48\n",
        "print(file_size(('Program', 'py', 1239))) # Should print 1.21"
      ],
      "metadata": {
        "id": "zBZDbhYxpaBt",
        "outputId": "05f5a2ff-c2c2-46ee-d1e4-5aff063ee099",
        "colab": {
          "base_uri": "https://localhost:8080/"
        }
      },
      "execution_count": 3,
      "outputs": [
        {
          "output_type": "stream",
          "name": "stdout",
          "text": [
            "17.46\n",
            "0.48\n",
            "1.21\n"
          ]
        }
      ]
    },
    {
      "cell_type": "markdown",
      "source": [
        "####Try out the enumerate function for yourself in this quick exercise. Complete the **skip_elements** function to return every other element from the list, this time using the enumerate function to check if an element is in an even position or an odd position.\n",
        "\n",
        "```\n",
        "def skip_elements(elements):\n",
        "\t# code goes here\n",
        "\n",
        "\treturn ___\n",
        "\n",
        "print(skip_elements([\"a\", \"b\", \"c\", \"d\", \"e\", \"f\", \"g\"])) # Should be ['a', 'c', 'e', 'g']\n",
        "print(skip_elements(['Orange', 'Pineapple', 'Strawberry', 'Kiwi', 'Peach'])) # Should be ['Orange', 'Strawberry', 'Peach']\n",
        "```"
      ],
      "metadata": {
        "id": "4PVT5llSyje9"
      }
    },
    {
      "cell_type": "code",
      "source": [
        "def skip_elements(elements):\n",
        "    # code goes here\n",
        "    rem_element = []\n",
        "    for count, name in enumerate(elements):\n",
        "        if count % 2 == 0:\n",
        "            rem_element.append(name)\n",
        "    return rem_element\n",
        "\n",
        "print(skip_elements([\"a\", \"b\", \"c\", \"d\", \"e\", \"f\", \"g\"])) # Should be ['a', 'c', 'e', 'g']\n",
        "print(skip_elements(['Orange', 'Pineapple', 'Strawberry', 'Kiwi', 'Peach'])) # Should be ['Orange', 'Strawberry', 'Peach']\n"
      ],
      "metadata": {
        "id": "bFOqKRVBv3dY",
        "outputId": "003a0862-3fe4-43ef-bbe8-69e724b71275",
        "colab": {
          "base_uri": "https://localhost:8080/"
        }
      },
      "execution_count": 23,
      "outputs": [
        {
          "output_type": "stream",
          "name": "stdout",
          "text": [
            "['a', 'c', 'e', 'g']\n",
            "['Orange', 'Strawberry', 'Peach']\n"
          ]
        }
      ]
    },
    {
      "cell_type": "code",
      "source": [],
      "metadata": {
        "id": "d0ITg3HVyk9y"
      },
      "execution_count": null,
      "outputs": []
    }
  ]
}
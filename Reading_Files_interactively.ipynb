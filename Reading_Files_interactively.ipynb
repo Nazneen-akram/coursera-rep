{
  "nbformat": 4,
  "nbformat_minor": 0,
  "metadata": {
    "colab": {
      "provenance": [],
      "authorship_tag": "ABX9TyM1oth34ShNYr0W88lU7oL+",
      "include_colab_link": true
    },
    "kernelspec": {
      "name": "python3",
      "display_name": "Python 3"
    },
    "language_info": {
      "name": "python"
    }
  },
  "cells": [
    {
      "cell_type": "markdown",
      "metadata": {
        "id": "view-in-github",
        "colab_type": "text"
      },
      "source": [
        "<a href=\"https://colab.research.google.com/github/Nazneen-akram/coursera-rep/blob/main/Reading_Files_interactively.ipynb\" target=\"_parent\"><img src=\"https://colab.research.google.com/assets/colab-badge.svg\" alt=\"Open In Colab\"/></a>"
      ]
    },
    {
      "cell_type": "code",
      "execution_count": 2,
      "metadata": {
        "colab": {
          "base_uri": "https://localhost:8080/"
        },
        "id": "ygzEdFaI4r0K",
        "outputId": "3b184f0f-695a-4057-96a2-a749d99a3dd6"
      },
      "outputs": [
        {
          "output_type": "stream",
          "name": "stdout",
          "text": [
            "Welcome to this time converter\n",
            "Enter the number of hours: 1\n",
            "Enter the number of minutes: 30\n",
            "Enter the number of seconds: 10\n",
            "That's 5410 seconds\n",
            "\n",
            "Do you want to do another conversion? [y to continue] n\n",
            "Goodbye!\n"
          ]
        }
      ],
      "source": [
        "def to_seconds(hours, minutes, seconds):\n",
        "    return hours*3600+minutes*60+seconds\n",
        "\n",
        "print(\"Welcome to this time converter\")\n",
        "\n",
        "cont = \"y\"\n",
        "while(cont.lower() == \"y\"):\n",
        "    hours = int(input(\"Enter the number of hours: \"))\n",
        "    minutes = int(input(\"Enter the number of minutes: \"))\n",
        "    seconds = int(input(\"Enter the number of seconds: \"))\n",
        "\n",
        "    print(\"That's {} seconds\".format(to_seconds(hours, minutes, seconds)))\n",
        "    print()\n",
        "    cont = input(\"Do you want to do another conversion? [y to continue] \")\n",
        "\n",
        "print(\"Goodbye!\")"
      ]
    },
    {
      "cell_type": "code",
      "source": [
        "#cat streams.py\n",
        "#!/usr/bin/env python3\n",
        "\n",
        "data = input(\"This will come from STDIN: \")\n",
        "print(\"Now we write it to STDOUT: \" + data)\n",
        "print(\"Now we generate an error to STDERR: \" + data + 1)\n",
        "\n",
        "./streams.py\n",
        "This will come from STDIN: Python Rocks!\n",
        "Now we write it to STDOUT: Python Rocks!\n",
        "\n",
        "cat greeting.txt\n",
        "Well hello there, STDOUT\n",
        "\n",
        "cat greeting.txt\n",
        "Well hello there, STDOUT\n",
        "\n",
        "ls -z"
      ],
      "metadata": {
        "colab": {
          "base_uri": "https://localhost:8080/",
          "height": 141
        },
        "id": "Vp5Hqg7m4t-y",
        "outputId": "30820b42-c982-4408-f536-4fd05f350086"
      },
      "execution_count": 4,
      "outputs": [
        {
          "output_type": "error",
          "ename": "SyntaxError",
          "evalue": "ignored",
          "traceback": [
            "\u001b[0;36m  File \u001b[0;32m\"<ipython-input-4-02036ab996f0>\"\u001b[0;36m, line \u001b[0;32m8\u001b[0m\n\u001b[0;31m    ./streams.py\u001b[0m\n\u001b[0m    ^\u001b[0m\n\u001b[0;31mSyntaxError\u001b[0m\u001b[0;31m:\u001b[0m invalid syntax\n"
          ]
        }
      ]
    },
    {
      "cell_type": "code",
      "source": [
        "echo $PATH\n",
        "/usr/local/sbin:/usr/local/bin:/usr/sbin:/usr/bin:/sbin:/bin\n",
        "cat variables.py\n",
        "#!/usr/bin/env python3\n",
        "import os\n",
        "print(\"HOME: \" + os.environ.get(\"HOME\", \"\"))\n",
        "print(\"SHELL: \" + os.environ.get(\"SHELL\", \"\"))\n",
        "print(\"FRUIT: \" + os.environ.get(\"FRUIT\", \"\"))\n",
        "./variables.py\n",
        "export FRUIT=Pineapple\n",
        "./variables.py"
      ],
      "metadata": {
        "id": "0_pm727a6BSy"
      },
      "execution_count": null,
      "outputs": []
    },
    {
      "cell_type": "code",
      "source": [
        "cat parameters.py\n",
        "#!/usr/bin/env python3\n",
        "import sys\n",
        "print(sys.argv)\n",
        "\n",
        "./parameters.py\n",
        "['./parameters.py']\n",
        "\n",
        "./parameters.py one two three\n",
        "['./parameters.py', 'one', 'two', 'three']\n",
        "\n",
        "\n",
        "wc variables.py\n",
        "7 19 174 variables.py\n",
        "echo $?\n",
        "0\n",
        "\n",
        "wc notpresent.sh\n",
        "wc: notpresent.sh: No such file or directory\n",
        "echo $?\n",
        "1\n",
        "\n",
        "#!/usr/bin/env python3\n",
        "\n",
        "import os\n",
        "import sys\n",
        "\n",
        "filename = sys.argv[1]\n",
        "\n",
        "if not os.path.exists(filename):\n",
        "    with open(filename, \"w\") as f:\n",
        "        f.write(\"New file created\\n\")\n",
        "else:\n",
        "    print(\"Error, the file {} already exists!\".format(filename))\n",
        "    sys.exit(1)\n",
        "\n",
        "./create_file.py example\n",
        "echo $?\n",
        "0\n",
        "\n",
        "cat example\n",
        "New file created\n",
        "./create_file.py example\n",
        "Error, the file example already exists!\n",
        "echo $?\n",
        "1"
      ],
      "metadata": {
        "id": "A_11v66C7jT4"
      },
      "execution_count": null,
      "outputs": []
    }
  ]
}
{
  "nbformat": 4,
  "nbformat_minor": 0,
  "metadata": {
    "colab": {
      "provenance": [],
      "authorship_tag": "ABX9TyPvTopviO+L8zUESJA41GnF",
      "include_colab_link": true
    },
    "kernelspec": {
      "name": "python3",
      "display_name": "Python 3"
    },
    "language_info": {
      "name": "python"
    }
  },
  "cells": [
    {
      "cell_type": "markdown",
      "metadata": {
        "id": "view-in-github",
        "colab_type": "text"
      },
      "source": [
        "<a href=\"https://colab.research.google.com/github/Nazneen-akram/coursera-rep/blob/main/Reading_Files_interactively.ipynb\" target=\"_parent\"><img src=\"https://colab.research.google.com/assets/colab-badge.svg\" alt=\"Open In Colab\"/></a>"
      ]
    },
    {
      "cell_type": "code",
      "execution_count": 2,
      "metadata": {
        "colab": {
          "base_uri": "https://localhost:8080/"
        },
        "id": "ygzEdFaI4r0K",
        "outputId": "3b184f0f-695a-4057-96a2-a749d99a3dd6"
      },
      "outputs": [
        {
          "output_type": "stream",
          "name": "stdout",
          "text": [
            "Welcome to this time converter\n",
            "Enter the number of hours: 1\n",
            "Enter the number of minutes: 30\n",
            "Enter the number of seconds: 10\n",
            "That's 5410 seconds\n",
            "\n",
            "Do you want to do another conversion? [y to continue] n\n",
            "Goodbye!\n"
          ]
        }
      ],
      "source": [
        "def to_seconds(hours, minutes, seconds):\n",
        "    return hours*3600+minutes*60+seconds\n",
        "\n",
        "print(\"Welcome to this time converter\")\n",
        "\n",
        "cont = \"y\"\n",
        "while(cont.lower() == \"y\"):\n",
        "    hours = int(input(\"Enter the number of hours: \"))\n",
        "    minutes = int(input(\"Enter the number of minutes: \"))\n",
        "    seconds = int(input(\"Enter the number of seconds: \"))\n",
        "\n",
        "    print(\"That's {} seconds\".format(to_seconds(hours, minutes, seconds)))\n",
        "    print()\n",
        "    cont = input(\"Do you want to do another conversion? [y to continue] \")\n",
        "\n",
        "print(\"Goodbye!\")"
      ]
    },
    {
      "cell_type": "code",
      "source": [
        "#cat streams.py\n",
        "#!/usr/bin/env python3\n",
        "\n",
        "data = input(\"This will come from STDIN: \")\n",
        "print(\"Now we write it to STDOUT: \" + data)\n",
        "print(\"Now we generate an error to STDERR: \" + data + 1)\n",
        "\n",
        "./streams.py\n",
        "This will come from STDIN: Python Rocks!\n",
        "Now we write it to STDOUT: Python Rocks!\n",
        "\n",
        "cat greeting.txt\n",
        "Well hello there, STDOUT\n",
        "\n",
        "cat greeting.txt\n",
        "Well hello there, STDOUT\n",
        "\n",
        "ls -z"
      ],
      "metadata": {
        "colab": {
          "base_uri": "https://localhost:8080/",
          "height": 145
        },
        "id": "Vp5Hqg7m4t-y",
        "outputId": "30820b42-c982-4408-f536-4fd05f350086"
      },
      "execution_count": 4,
      "outputs": [
        {
          "output_type": "error",
          "ename": "SyntaxError",
          "evalue": "ignored",
          "traceback": [
            "\u001b[0;36m  File \u001b[0;32m\"<ipython-input-4-02036ab996f0>\"\u001b[0;36m, line \u001b[0;32m8\u001b[0m\n\u001b[0;31m    ./streams.py\u001b[0m\n\u001b[0m    ^\u001b[0m\n\u001b[0;31mSyntaxError\u001b[0m\u001b[0;31m:\u001b[0m invalid syntax\n"
          ]
        }
      ]
    },
    {
      "cell_type": "code",
      "source": [
        "echo $PATH\n",
        "/usr/local/sbin:/usr/local/bin:/usr/sbin:/usr/bin:/sbin:/bin\n",
        "cat variables.py\n",
        "#!/usr/bin/env python3\n",
        "import os\n",
        "print(\"HOME: \" + os.environ.get(\"HOME\", \"\"))\n",
        "print(\"SHELL: \" + os.environ.get(\"SHELL\", \"\"))\n",
        "print(\"FRUIT: \" + os.environ.get(\"FRUIT\", \"\"))\n",
        "./variables.py\n",
        "export FRUIT=Pineapple\n",
        "./variables.py"
      ],
      "metadata": {
        "id": "0_pm727a6BSy"
      },
      "execution_count": null,
      "outputs": []
    },
    {
      "cell_type": "code",
      "source": [
        "cat parameters.py\n",
        "#!/usr/bin/env python3\n",
        "import sys\n",
        "print(sys.argv)\n",
        "\n",
        "./parameters.py\n",
        "['./parameters.py']\n",
        "\n",
        "./parameters.py one two three\n",
        "['./parameters.py', 'one', 'two', 'three']\n",
        "\n",
        "\n",
        "wc variables.py\n",
        "7 19 174 variables.py\n",
        "echo $?\n",
        "0\n",
        "\n",
        "wc notpresent.sh\n",
        "wc: notpresent.sh: No such file or directory\n",
        "echo $?\n",
        "1\n",
        "\n",
        "#!/usr/bin/env python3\n",
        "\n",
        "import os\n",
        "import sys\n",
        "\n",
        "filename = sys.argv[1]\n",
        "\n",
        "if not os.path.exists(filename):\n",
        "    with open(filename, \"w\") as f:\n",
        "        f.write(\"New file created\\n\")\n",
        "else:\n",
        "    print(\"Error, the file {} already exists!\".format(filename))\n",
        "    sys.exit(1)\n",
        "\n",
        "./create_file.py example\n",
        "echo $?\n",
        "0\n",
        "\n",
        "cat example\n",
        "New file created\n",
        "./create_file.py example\n",
        "Error, the file example already exists!\n",
        "echo $?\n",
        "1"
      ],
      "metadata": {
        "id": "A_11v66C7jT4"
      },
      "execution_count": null,
      "outputs": []
    },
    {
      "cell_type": "code",
      "source": [
        "my_number = raw_input('Please Enter a Number: \\n')\n",
        "\n",
        "print(my_number)\n"
      ],
      "metadata": {
        "colab": {
          "base_uri": "https://localhost:8080/",
          "height": 219
        },
        "id": "fRlOJLWf70eS",
        "outputId": "96304d39-2b50-4a2e-eb07-6a8e9db2c818"
      },
      "execution_count": 6,
      "outputs": [
        {
          "output_type": "error",
          "ename": "NameError",
          "evalue": "ignored",
          "traceback": [
            "\u001b[0;31m---------------------------------------------------------------------------\u001b[0m",
            "\u001b[0;31mNameError\u001b[0m                                 Traceback (most recent call last)",
            "\u001b[0;32m<ipython-input-6-8b231f369bbb>\u001b[0m in \u001b[0;36m<cell line: 1>\u001b[0;34m()\u001b[0m\n\u001b[0;32m----> 1\u001b[0;31m \u001b[0mmy_number\u001b[0m \u001b[0;34m=\u001b[0m \u001b[0mraw_input\u001b[0m\u001b[0;34m(\u001b[0m\u001b[0;34m'Please Enter a Number: \\n'\u001b[0m\u001b[0;34m)\u001b[0m\u001b[0;34m\u001b[0m\u001b[0;34m\u001b[0m\u001b[0m\n\u001b[0m\u001b[1;32m      2\u001b[0m \u001b[0;34m\u001b[0m\u001b[0m\n\u001b[1;32m      3\u001b[0m \u001b[0mprint\u001b[0m\u001b[0;34m(\u001b[0m\u001b[0mmy_number\u001b[0m\u001b[0;34m)\u001b[0m\u001b[0;34m\u001b[0m\u001b[0;34m\u001b[0m\u001b[0m\n",
            "\u001b[0;31mNameError\u001b[0m: name 'raw_input' is not defined"
          ]
        }
      ]
    },
    {
      "cell_type": "code",
      "source": [
        ">>> my_raw_input = raw_input('Please Enter a Number: \\n')\n",
        "Please Enter a Number:\n",
        "123 + 1  # This is treated like a raw string.\n",
        ">>> my_input = input('Please Enter a Number: \\n')\n",
        "Please Enter a Number:\n",
        "123 + 1 # This is treated like an expression.\n",
        ">>> print(my_raw_input)\n",
        "123 + 1\n",
        ">>> print(my_input)\n",
        "124 # See that the expression was evaluated!"
      ],
      "metadata": {
        "id": "0MKywTrY705K"
      },
      "execution_count": null,
      "outputs": []
    },
    {
      "cell_type": "code",
      "source": [
        "#Python 3\n",
        ">>> my_number = input('Please Enter a Number: \\n')\n",
        "Please Enter a Number:\n",
        "123 + 1\n",
        ">>> print(my_number)\n",
        "123 + 1\n",
        ">>> type(my_number)\n",
        "<class 'str'>\n"
      ],
      "metadata": {
        "id": "PFuM2Hz179BA"
      },
      "execution_count": null,
      "outputs": []
    },
    {
      "cell_type": "code",
      "source": [
        ">>> my_number = input('Please Enter a Number: \\n')\n",
        "Please Enter a Number:\n",
        "123 + 1\n",
        ">>> print(my_number)\n",
        "123 + 1\n",
        ">>> eval(my_number)\n",
        "124"
      ],
      "metadata": {
        "id": "z9UWTRKN8BtK"
      },
      "execution_count": null,
      "outputs": []
    },
    {
      "cell_type": "code",
      "source": [
        "import subprocess\n",
        "subprocess.run([\"date\"])"
      ],
      "metadata": {
        "id": "5G3QZuVA80J2"
      },
      "execution_count": null,
      "outputs": []
    },
    {
      "cell_type": "code",
      "source": [
        "import subprocess\n",
        "subprocess.run([\"date\"])\n",
        "subprocess.run([\"sleep\", \"2\"])"
      ],
      "metadata": {
        "id": "lqSZYDk48020"
      },
      "execution_count": null,
      "outputs": []
    },
    {
      "cell_type": "code",
      "source": [
        "import subprocess\n",
        "subprocess.run([\"date\"])\n",
        "subprocess.run([\"sleep\", \"2\"])\n",
        "result = subprocess.run([\"ls\", \"this_file_does_not_exist\"])\n",
        "print(result.returncode)"
      ],
      "metadata": {
        "id": "Iq8BqHCP83VD"
      },
      "execution_count": null,
      "outputs": []
    },
    {
      "cell_type": "code",
      "source": [
        "result = subprocess.run([\"host\", \"8.8.8.8\"], capture_output=True)\n",
        "\n",
        "\n",
        "\n",
        "result = subprocess.run([\"host\", \"8.8.8.8\"], capture_output=True)\n",
        "print(result.returncode)\n",
        "\n",
        "\n",
        "\n",
        "result = subprocess.run([\"host\", \"8.8.8.8\"], capture_output=True)\n",
        "print(result.stdout)\n",
        "\n",
        "\n",
        "\n",
        "result = subprocess.run([\"host\", \"8.8.8.8\"], capture_output=True)\n",
        "print(result.stdout.decode().split())"
      ],
      "metadata": {
        "id": "4h7RCoOj9HWt"
      },
      "execution_count": null,
      "outputs": []
    },
    {
      "cell_type": "code",
      "source": [
        "import subprocess\n",
        "result = subprocess.run([\"rm\", \"does_not_exist\"], capture_output=True)\n",
        "\n",
        "\n",
        "import subprocess\n",
        "result = subprocess.run([\"rm\", \"does_not_exist\"], capture_output=True)\n",
        "print(result.returncode)\n",
        "\n",
        "import subprocess\n",
        "result = subprocess.run([\"rm\", \"does_not_exist\"], capture_output=True)\n",
        "print(result.returncode)\n",
        "print(result.stdout)\n",
        "print(result.stderr)"
      ],
      "metadata": {
        "id": "WylTDLQQ9H3I"
      },
      "execution_count": null,
      "outputs": []
    },
    {
      "cell_type": "code",
      "source": [
        "import os\n",
        "import subprocess\n",
        "\n",
        "my_env = os.environ.copy()\n",
        "my_env[\"PATH\"] = os.pathsep.join([\"/opt/myapp/\", my_env[\"PATH\"]])\n",
        "\n",
        "result = subprocess.run([\"myapp\"], env=my_env)"
      ],
      "metadata": {
        "id": "9kZZHbl_9R9o"
      },
      "execution_count": null,
      "outputs": []
    },
    {
      "cell_type": "code",
      "source": [
        "#!/bin/env/python3\n",
        "\n",
        "import sys\n",
        "\n",
        "logfile = sys.argv[1]\n",
        "with open(logfile) as f:\n",
        "  for line in f:\n",
        "    print(line.strip())\n",
        "\n",
        "\n",
        "\n",
        "#!/bin/env/python3\n",
        "\n",
        "import sys\n",
        "\n",
        "logfile = sys.argv[1]\n",
        "with open(logfile) as f:\n",
        "  for line in f:\n",
        "    if \"CRON\" not in line:\n",
        "      continue\n",
        "    print(line.strip())\n",
        "\n",
        "\n",
        "\n",
        "import re\n",
        "pattern = r\"USER \\((\\w+)\\)$\"\n",
        "line = \"Jul 6 14:03:01 computer.name CRON[29440]: USER (naughty_user)\"\n",
        "result = re.search(pattern, line)\n",
        "print(result[1])\n",
        "\n",
        "\n",
        "\n",
        "#!/bin/env/python3\n",
        "\n",
        "import re\n",
        "import sys\n",
        "\n",
        "logfile = sys.argv[1]\n",
        "with open(logfile) as f:\n",
        "  for line in f:\n",
        "    if \"CRON\" not in line:\n",
        "      continue\n",
        "    pattern = r\"USER \\((.+)\\)$\"\n",
        "    result = re.search(pattern, line)\n",
        "    print(result[1])\n",
        "\n",
        "\n",
        "chmod +x check_cron.py\n",
        "./check_cron.py syslog"
      ],
      "metadata": {
        "id": "Pu5XWI_k-E7U"
      },
      "execution_count": null,
      "outputs": []
    },
    {
      "cell_type": "code",
      "source": [
        "import re\n",
        "def show_time_of_pid(line):\n",
        "  pattern = r\"\\bJul 6 \\d{2}:\\d{2}:\\d{2} \\w+\\.name \\w+\\[(\\d+)\\]:\"\n",
        "  result = re.search(pattern, line)\n",
        "  return result\n",
        "\n",
        "print(show_time_of_pid(\"Jul 6 14:01:23 computer.name CRON[29440]: USER (good_user)\")) # Jul 6 14:01:23 pid:29440\n",
        "\n",
        "print(show_time_of_pid(\"Jul 6 14:02:08 computer.name jam_tag=psim[29187]: (UUID:006)\")) # Jul 6 14:02:08 pid:29187\n",
        "\n",
        "print(show_time_of_pid(\"Jul 6 14:02:09 computer.name jam_tag=psim[29187]: (UUID:007)\")) # Jul 6 14:02:09 pid:29187\n",
        "\n",
        "print(show_time_of_pid(\"Jul 6 14:03:01 computer.name CRON[29440]: USER (naughty_user)\")) # Jul 6 14:03:01 pid:29440\n",
        "\n",
        "print(show_time_of_pid(\"Jul 6 14:03:40 computer.name cacheclient[29807]: start syncing from \\\"0xDEADBEEF\\\"\")) # Jul 6 14:03:40 pid:29807\n",
        "\n",
        "print(show_time_of_pid(\"Jul 6 14:04:01 computer.name CRON[29440]: USER (naughty_user)\")) # Jul 6 14:04:01 pid:29440\n",
        "\n",
        "print(show_time_of_pid(\"Jul 6 14:05:01 computer.name CRON[29440]: USER (naughty_user)\")) # Jul 6 14:05:01 pid:29440"
      ],
      "metadata": {
        "colab": {
          "base_uri": "https://localhost:8080/"
        },
        "id": "Fr63M2nC-OHP",
        "outputId": "5bfca57f-c3df-4fd8-b349-2979648f3258"
      },
      "execution_count": 8,
      "outputs": [
        {
          "output_type": "stream",
          "name": "stdout",
          "text": [
            "<re.Match object; span=(0, 41), match='Jul 6 14:01:23 computer.name CRON[29440]:'>\n",
            "None\n",
            "None\n",
            "<re.Match object; span=(0, 41), match='Jul 6 14:03:01 computer.name CRON[29440]:'>\n",
            "<re.Match object; span=(0, 48), match='Jul 6 14:03:40 computer.name cacheclient[29807]:'>\n",
            "<re.Match object; span=(0, 41), match='Jul 6 14:04:01 computer.name CRON[29440]:'>\n",
            "<re.Match object; span=(0, 41), match='Jul 6 14:05:01 computer.name CRON[29440]:'>\n"
          ]
        }
      ]
    },
    {
      "cell_type": "code",
      "source": [
        "usernames = {}\n",
        "name = \"good_user\"\n",
        "usernames[name] = usernames.get(name, 0) + 1\n",
        "print(usernames)\n",
        "usernames[name] = usernames.get(name, 0) + 1\n",
        "print(usernames)"
      ],
      "metadata": {
        "colab": {
          "base_uri": "https://localhost:8080/"
        },
        "id": "JzxcHEi4-oVh",
        "outputId": "beccdaa6-478e-41f9-98ff-9f36e2a38ed7"
      },
      "execution_count": 9,
      "outputs": [
        {
          "output_type": "stream",
          "name": "stdout",
          "text": [
            "{'good_user': 1}\n",
            "{'good_user': 2}\n"
          ]
        }
      ]
    },
    {
      "cell_type": "code",
      "source": [
        "#!/bin/env/python3\n",
        "\n",
        "import re\n",
        "import sys\n",
        "\n",
        "logfile = sys.argv[1]\n",
        "usernames = {}\n",
        "with open(logfile) as f:\n",
        "  for line in f:\n",
        "    if \"CRON\" not in line:\n",
        "      continue\n",
        "    pattern = r\"USER \\((\\w+)\\)$\"\n",
        "    result = re.search(pattern, line)\n",
        "\n",
        "    if result is None:\n",
        "      continue\n",
        "    name = result[1]\n",
        "    usernames[name] = usernames.get(name, 0) + 1\n",
        "\n",
        "print(usernames)"
      ],
      "metadata": {
        "colab": {
          "base_uri": "https://localhost:8080/",
          "height": 256
        },
        "id": "wcZxkcxV_YDV",
        "outputId": "04108877-45e6-41cf-9f60-0b53730d5181"
      },
      "execution_count": 10,
      "outputs": [
        {
          "output_type": "error",
          "ename": "FileNotFoundError",
          "evalue": "ignored",
          "traceback": [
            "\u001b[0;31m---------------------------------------------------------------------------\u001b[0m",
            "\u001b[0;31mFileNotFoundError\u001b[0m                         Traceback (most recent call last)",
            "\u001b[0;32m<ipython-input-10-6f2b8b7b8bf0>\u001b[0m in \u001b[0;36m<cell line: 8>\u001b[0;34m()\u001b[0m\n\u001b[1;32m      6\u001b[0m \u001b[0mlogfile\u001b[0m \u001b[0;34m=\u001b[0m \u001b[0msys\u001b[0m\u001b[0;34m.\u001b[0m\u001b[0margv\u001b[0m\u001b[0;34m[\u001b[0m\u001b[0;36m1\u001b[0m\u001b[0;34m]\u001b[0m\u001b[0;34m\u001b[0m\u001b[0;34m\u001b[0m\u001b[0m\n\u001b[1;32m      7\u001b[0m \u001b[0musernames\u001b[0m \u001b[0;34m=\u001b[0m \u001b[0;34m{\u001b[0m\u001b[0;34m}\u001b[0m\u001b[0;34m\u001b[0m\u001b[0;34m\u001b[0m\u001b[0m\n\u001b[0;32m----> 8\u001b[0;31m \u001b[0;32mwith\u001b[0m \u001b[0mopen\u001b[0m\u001b[0;34m(\u001b[0m\u001b[0mlogfile\u001b[0m\u001b[0;34m)\u001b[0m \u001b[0;32mas\u001b[0m \u001b[0mf\u001b[0m\u001b[0;34m:\u001b[0m\u001b[0;34m\u001b[0m\u001b[0;34m\u001b[0m\u001b[0m\n\u001b[0m\u001b[1;32m      9\u001b[0m   \u001b[0;32mfor\u001b[0m \u001b[0mline\u001b[0m \u001b[0;32min\u001b[0m \u001b[0mf\u001b[0m\u001b[0;34m:\u001b[0m\u001b[0;34m\u001b[0m\u001b[0;34m\u001b[0m\u001b[0m\n\u001b[1;32m     10\u001b[0m     \u001b[0;32mif\u001b[0m \u001b[0;34m\"CRON\"\u001b[0m \u001b[0;32mnot\u001b[0m \u001b[0;32min\u001b[0m \u001b[0mline\u001b[0m\u001b[0;34m:\u001b[0m\u001b[0;34m\u001b[0m\u001b[0;34m\u001b[0m\u001b[0m\n",
            "\u001b[0;31mFileNotFoundError\u001b[0m: [Errno 2] No such file or directory: '-f'"
          ]
        }
      ]
    },
    {
      "cell_type": "code",
      "source": [
        "from typing import List\n",
        "\n",
        "\n",
        "class CakeFactory:\n",
        "\tdef __init__(self, cake_type: str, size: str):\n",
        "    \tself.cake_type = cake_type\n",
        "    \tself.size = size\n",
        "    \tself.toppings = []\n",
        "\n",
        "    \t# Price based on cake type and size\n",
        "    \tself.price = 10 if self.cake_type == \"chocolate\" else 8\n",
        "    \tself.price += 2 if self.size == \"medium\" else 4 if self.size == \"large\" else 0\n",
        "\n",
        "\n",
        "\tdef add_topping(self, topping: str):\n",
        "    \tself.toppings.append(topping)\n",
        "    \t# Adding 1 to the price for each topping\n",
        "    \tself.price += 1\n",
        "\n",
        "\n",
        "\tdef check_ingredients(self) -> List[str]:\n",
        "    \tingredients = ['flour', 'sugar', 'eggs']\n",
        "    \tingredients.append('cocoa') if self.cake_type == \"chocolate\" else ingredients.append('vanilla extract')\n",
        "    \tingredients += self.toppings\n",
        "    \treturn ingredients\n",
        "\n",
        "\n",
        "\tdef check_price(self) -> float:\n",
        "    \treturn self.price\n",
        "\n",
        "\n",
        "# Example of creating a cake and adding toppings\n",
        "cake = CakeFactory(\"chocolate\", \"medium\")\n",
        "cake.add_topping(\"sprinkles\")\n",
        "cake.add_topping(\"cherries\")\n",
        "cake_ingredients = cake.check_ingredients()\n",
        "cake_price = cake.check_price()\n",
        "\n",
        "\n",
        "cake_ingredients, cake_price\n",
        "\n",
        "\n",
        "\n",
        "\n",
        "OUTPUT:\n",
        "(['flour', 'sugar', 'eggs', 'cocoa', 'sprinkles', 'cherries'], 14)"
      ],
      "metadata": {
        "id": "pzir-i4W_ax_"
      },
      "execution_count": null,
      "outputs": []
    },
    {
      "cell_type": "code",
      "source": [
        "import unittest\n",
        "\n",
        "\n",
        "class TestCakeFactory(unittest.TestCase):\n",
        "\tdef test_create_cake(self):\n",
        "    \tcake = CakeFactory(\"vanilla\", \"small\")\n",
        "    \tself.assertEqual(cake.cake_type, \"vanilla\")\n",
        "    \tself.assertEqual(cake.size, \"small\")\n",
        "    \tself.assertEqual(cake.price, 8) # Vanilla cake, small size\n",
        "\n",
        "\n",
        "\tdef test_add_topping(self):\n",
        "    \tcake = CakeFactory(\"chocolate\", \"large\")\n",
        "    \tcake.add_topping(\"sprinkles\")\n",
        "    \tself.assertIn(\"sprinkles\", cake.toppings)\n",
        "\n",
        "\n",
        "\tdef test_check_ingredients(self):\n",
        "    \tcake = CakeFactory(\"chocolate\", \"medium\")\n",
        "    \tcake.add_topping(\"cherries\")\n",
        "    \tingredients = cake.check_ingredients()\n",
        "    \tself.assertIn(\"cocoa\", ingredients)\n",
        "    \tself.assertIn(\"cherries\", ingredients)\n",
        "    \tself.assertNotIn(\"vanilla extract\", ingredients)\n",
        "\n",
        "\n",
        "\tdef test_check_price(self):\n",
        "    \tcake = CakeFactory(\"vanilla\", \"large\")\n",
        "    \tcake.add_topping(\"sprinkles\")\n",
        "    \tcake.add_topping(\"cherries\")\n",
        "    \tprice = cake.check_price()\n",
        "    \tself.assertEqual(price, 13) # Vanilla cake, large size + 2 toppings\n",
        "\n",
        "\n",
        "# Running the unittests\n",
        "unittest.TextTestRunner().run(unittest.TestLoader().loadTestsFromTestCase(TestCakeFactory))\n",
        "\n",
        "\n",
        "OUTPUT:\n",
        "\n",
        "\n",
        "Ran 4 tests in 0.009s\n",
        "\n",
        "\n",
        "FAILED (failures=1)\n",
        "\n",
        "\n",
        "RESULT\n",
        "<unittest.runner.TextTestResult run=4 errors=0 failures=1>"
      ],
      "metadata": {
        "id": "b3ySuXSQBbXo"
      },
      "execution_count": null,
      "outputs": []
    },
    {
      "cell_type": "code",
      "source": [
        "# Fixing the test_check_price method\n",
        "class TestCakeFactory(unittest.TestCase):\n",
        "\t# ... Other tests remain the same\n",
        "\n",
        "\n",
        "\tdef test_check_price(self):\n",
        "    \tcake = CakeFactory(\"vanilla\", \"large\")\n",
        "    \tcake.add_topping(\"sprinkles\")\n",
        "    \tcake.add_topping(\"cherries\")\n",
        "    \tprice = cake.check_price()\n",
        "    \tself.assertEqual(price, 14) # Vanilla cake, large size + 2 toppings\n",
        "\n",
        "\n",
        "# Re-running the unittests\n",
        "unittest.TextTestRunner().run(unittest.TestLoader().loadTestsFromTestCase(TestCakeFactory))"
      ],
      "metadata": {
        "id": "4DFAYKCjBc2E"
      },
      "execution_count": null,
      "outputs": []
    },
    {
      "cell_type": "code",
      "source": [
        "Ran 1 test in 0.004s\n",
        "\n",
        "\n",
        "OK\n",
        "\n",
        "\n",
        "RESULT\n",
        "\n",
        "\n",
        "<unittest.runner.TextTestResult run=1 errors=0 failures=0>"
      ],
      "metadata": {
        "id": "xMtI50okBess"
      },
      "execution_count": null,
      "outputs": []
    },
    {
      "cell_type": "code",
      "source": [
        "import pytest\n",
        "class Fruit:\n",
        "    def __init__(self, name):\n",
        "        self.name = name\n",
        "        self.cubed = False\n",
        "\n",
        "\n",
        "    def cube(self):\n",
        "        self.cubed = True\n",
        "\n",
        "\n",
        "class FruitSalad:\n",
        "    def __init__(self, *fruit_bowl):\n",
        "        self.fruit = fruit_bowl\n",
        "        self._cube_fruit()\n",
        "\n",
        "\n",
        "    def _cube_fruit(self):\n",
        "        for fruit in self.fruit:\n",
        "            fruit.cube()\n",
        "\n",
        "\n",
        "# Arrange\n",
        "@pytest.fixture\n",
        "def fruit_bowl():\n",
        "    return [Fruit(\"apple\"), Fruit(\"banana\")]\n",
        "\n",
        "\n",
        "def test_fruit_salad(fruit_bowl):\n",
        "    # Act\n",
        "    fruit_salad = FruitSalad(*fruit_bowl)\n",
        "\n",
        "\n",
        "    # Assert\n",
        "    assert all(fruit.cubed for fruit in fruit_salad.fruit)"
      ],
      "metadata": {
        "id": "YkLiEdBDBhuF"
      },
      "execution_count": null,
      "outputs": []
    },
    {
      "cell_type": "code",
      "source": [
        "#!/usr/bin/env python3\n",
        "import re\n",
        "def rearrange_name(name):\n",
        "  result = re.search(r\"^([\\w .]*), ([\\w .]*)$\", name)\n",
        "  return \"{} {}\".format(result[2], result[1])\n",
        "from rearrange import rearrange_name\n",
        "\n",
        "\n",
        "rearrange_name(\"Lovelace, Ada\")"
      ],
      "metadata": {
        "id": "QDYPoN0pBlYq"
      },
      "execution_count": null,
      "outputs": []
    }
  ]
}
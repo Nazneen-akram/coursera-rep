{
  "nbformat": 4,
  "nbformat_minor": 0,
  "metadata": {
    "colab": {
      "provenance": [],
      "authorship_tag": "ABX9TyNfTUxkQ9Xv212knVHi5Jto",
      "include_colab_link": true
    },
    "kernelspec": {
      "name": "python3",
      "display_name": "Python 3"
    },
    "language_info": {
      "name": "python"
    }
  },
  "cells": [
    {
      "cell_type": "markdown",
      "metadata": {
        "id": "view-in-github",
        "colab_type": "text"
      },
      "source": [
        "<a href=\"https://colab.research.google.com/github/Nazneen-akram/coursera-rep/blob/main/Regex_python.ipynb\" target=\"_parent\"><img src=\"https://colab.research.google.com/assets/colab-badge.svg\" alt=\"Open In Colab\"/></a>"
      ]
    },
    {
      "cell_type": "code",
      "execution_count": 1,
      "metadata": {
        "colab": {
          "base_uri": "https://localhost:8080/"
        },
        "id": "KTNK0ynTu29P",
        "outputId": "aecd4f2c-4bef-47d6-d997-2ede1a662ba1"
      },
      "outputs": [
        {
          "output_type": "stream",
          "name": "stdout",
          "text": [
            "<re.Match object; span=(2, 5), match='aza'>\n"
          ]
        }
      ],
      "source": [
        "import re\n",
        "result = re.search(r\"aza\", \"plaza\")\n",
        "print(result)"
      ]
    },
    {
      "cell_type": "code",
      "source": [
        "import re\n",
        "result = re.search(r\"aza\", \"bazaar\")\n",
        "print(result)"
      ],
      "metadata": {
        "colab": {
          "base_uri": "https://localhost:8080/"
        },
        "id": "9m5vIq03ZSuK",
        "outputId": "327c2453-0a46-4d19-c3d7-aa8f393d9ada"
      },
      "execution_count": 2,
      "outputs": [
        {
          "output_type": "stream",
          "name": "stdout",
          "text": [
            "<re.Match object; span=(1, 4), match='aza'>\n"
          ]
        }
      ]
    },
    {
      "cell_type": "code",
      "source": [
        "import re\n",
        "result = re.search(r\"aza\", \"maze\")\n",
        "print(result)\n",
        "\n",
        "print(re.search(r\"^x\", \"xenon\"))"
      ],
      "metadata": {
        "colab": {
          "base_uri": "https://localhost:8080/"
        },
        "id": "E4YQDRLoZcXk",
        "outputId": "69a797ff-ecc0-482c-c6d0-ce9bed6429a8"
      },
      "execution_count": 3,
      "outputs": [
        {
          "output_type": "stream",
          "name": "stdout",
          "text": [
            "None\n",
            "<re.Match object; span=(0, 1), match='x'>\n"
          ]
        }
      ]
    },
    {
      "cell_type": "code",
      "source": [
        "import re\n",
        "print(re.search(r\"p.ng\", \"penguin\"))"
      ],
      "metadata": {
        "colab": {
          "base_uri": "https://localhost:8080/"
        },
        "id": "KM-5HLq1ZhRW",
        "outputId": "0b8d2331-e5f8-4a5f-9f3d-2be72c2405b1"
      },
      "execution_count": 4,
      "outputs": [
        {
          "output_type": "stream",
          "name": "stdout",
          "text": [
            "<re.Match object; span=(0, 4), match='peng'>\n"
          ]
        }
      ]
    },
    {
      "cell_type": "code",
      "source": [
        "import re\n",
        "print(re.search(r\"p.ng\", \"clapping\"))\n",
        "print(re.search(r\"p.ng\", \"sponge\"))"
      ],
      "metadata": {
        "colab": {
          "base_uri": "https://localhost:8080/"
        },
        "id": "rw1oKeK9ZpIQ",
        "outputId": "30c1ab66-b297-4374-d74d-5a87da89ddf7"
      },
      "execution_count": 5,
      "outputs": [
        {
          "output_type": "stream",
          "name": "stdout",
          "text": [
            "<re.Match object; span=(4, 8), match='ping'>\n",
            "<re.Match object; span=(1, 5), match='pong'>\n"
          ]
        }
      ]
    },
    {
      "cell_type": "code",
      "source": [
        "import re\n",
        "print(re.search(r\"p.ng\", \"Pangaea\", re.IGNORECASE))"
      ],
      "metadata": {
        "colab": {
          "base_uri": "https://localhost:8080/"
        },
        "id": "IeT59r8JZtTT",
        "outputId": "a75af7d3-83db-45de-954c-02ed42dc21d5"
      },
      "execution_count": 6,
      "outputs": [
        {
          "output_type": "stream",
          "name": "stdout",
          "text": [
            "<re.Match object; span=(0, 4), match='Pang'>\n"
          ]
        }
      ]
    },
    {
      "cell_type": "code",
      "source": [
        "import re\n",
        "def check_aei (text):\n",
        "  result = re.search(r\"[aei].{1}[aei]\", text)\n",
        "  return result != None\n",
        "\n",
        "print(check_aei(\"academia\")) # True\n",
        "print(check_aei(\"aerial\")) # False\n",
        "print(check_aei(\"paramedic\")) # True"
      ],
      "metadata": {
        "colab": {
          "base_uri": "https://localhost:8080/"
        },
        "id": "7E55xWK3Zv0C",
        "outputId": "b72f08e3-c2f2-4137-a54b-970121381f91"
      },
      "execution_count": 7,
      "outputs": [
        {
          "output_type": "stream",
          "name": "stdout",
          "text": [
            "True\n",
            "True\n",
            "True\n"
          ]
        }
      ]
    },
    {
      "cell_type": "code",
      "source": [
        "import re\n",
        "print(re.search(r\"[Pp]ython\", \"Python\"))"
      ],
      "metadata": {
        "colab": {
          "base_uri": "https://localhost:8080/"
        },
        "id": "7WaJW9Gab0Zi",
        "outputId": "b201b754-640c-4d1b-ced4-be506ede9a5b"
      },
      "execution_count": 8,
      "outputs": [
        {
          "output_type": "stream",
          "name": "stdout",
          "text": [
            "<re.Match object; span=(0, 6), match='Python'>\n"
          ]
        }
      ]
    },
    {
      "cell_type": "code",
      "source": [
        "import re\n",
        "print(re.search(r\"[a-z]way\", \"The end of the highway\"))\n",
        "print(re.search(r\"[a-z]way\", \"What a way to go\"))\n",
        "print(re.search(\"cloud[a-zA-Z0-9]\", \"cloudy\"))\n",
        "print(re.search(\"cloud[a-zA-Z0-9]\", \"cloud9\"))"
      ],
      "metadata": {
        "colab": {
          "base_uri": "https://localhost:8080/"
        },
        "id": "MZa19xFncniB",
        "outputId": "a20fc0b8-8486-4b44-c4e1-5a3c427bf83c"
      },
      "execution_count": 9,
      "outputs": [
        {
          "output_type": "stream",
          "name": "stdout",
          "text": [
            "<re.Match object; span=(18, 22), match='hway'>\n",
            "None\n",
            "<re.Match object; span=(0, 6), match='cloudy'>\n",
            "<re.Match object; span=(0, 6), match='cloud9'>\n"
          ]
        }
      ]
    },
    {
      "cell_type": "code",
      "source": [
        "import re\n",
        "print(re.search(r\"[^a-zA-Z]\", \"This is a sentence with spaces.\"))\n",
        "print(re.search(r\"[^a-zA-Z ]\", \"This is a sentence with spaces.\"))\n",
        "\n",
        "print(re.search(r\"cat|dog\", \"I like cats.\"))\n",
        "print(re.search(r\"cat|dog\", \"I love dogs!\"))\n",
        "print(re.search(r\"cat|dog\", \"I like both dogs and cats.\"))\n",
        "\n",
        "print(re.search(r\"cat|dog\", \"I like cats.\"))\n",
        "print(re.search(r\"cat|dog\", \"I love dogs!\"))\n",
        "print(re.search(r\"cat|dog\", \"I like both dogs and cats.\"))\n",
        "print(re.findall(r\"cat|dog\", \"I like both dogs and cats.\"))"
      ],
      "metadata": {
        "colab": {
          "base_uri": "https://localhost:8080/"
        },
        "id": "p7jG8M0mcuFP",
        "outputId": "c037a346-3865-4fcc-e44d-6c95ba1b0cc7"
      },
      "execution_count": 10,
      "outputs": [
        {
          "output_type": "stream",
          "name": "stdout",
          "text": [
            "<re.Match object; span=(4, 5), match=' '>\n",
            "<re.Match object; span=(30, 31), match='.'>\n",
            "<re.Match object; span=(7, 10), match='cat'>\n",
            "<re.Match object; span=(7, 10), match='dog'>\n",
            "<re.Match object; span=(12, 15), match='dog'>\n",
            "<re.Match object; span=(7, 10), match='cat'>\n",
            "<re.Match object; span=(7, 10), match='dog'>\n",
            "<re.Match object; span=(12, 15), match='dog'>\n",
            "['dog', 'cat']\n"
          ]
        }
      ]
    },
    {
      "cell_type": "code",
      "source": [
        "import re\n",
        "print(re.search(r\"Py.*n\", \"Pygmalion\"))\n",
        "print(re.search(r\"Py.*n\", \"Python Programming\"))\n",
        "print(re.search(r\"Py[a-z]*n\", \"Python Programming\"))\n",
        "print(re.search(r\"Py[a-z]*n\", \"Pyn\"))"
      ],
      "metadata": {
        "colab": {
          "base_uri": "https://localhost:8080/"
        },
        "id": "8DfI2TtXf9n3",
        "outputId": "8d179a4e-adaf-4e1f-92ff-32725455bca4"
      },
      "execution_count": 1,
      "outputs": [
        {
          "output_type": "stream",
          "name": "stdout",
          "text": [
            "<re.Match object; span=(0, 9), match='Pygmalion'>\n",
            "<re.Match object; span=(0, 17), match='Python Programmin'>\n",
            "<re.Match object; span=(0, 6), match='Python'>\n",
            "<re.Match object; span=(0, 3), match='Pyn'>\n"
          ]
        }
      ]
    },
    {
      "cell_type": "code",
      "source": [
        "import re\n",
        "print(re.search(r\"o+l+\", \"goldfish\"))\n",
        "print(re.search(r\"o+l+\", \"woolly\"))\n",
        "print(re.search(r\"o+l+\", \"boil\"))"
      ],
      "metadata": {
        "colab": {
          "base_uri": "https://localhost:8080/"
        },
        "id": "9MUPWNf3p7H_",
        "outputId": "932b7680-1228-4530-b549-b887d72022b0"
      },
      "execution_count": 2,
      "outputs": [
        {
          "output_type": "stream",
          "name": "stdout",
          "text": [
            "<re.Match object; span=(1, 3), match='ol'>\n",
            "<re.Match object; span=(1, 5), match='ooll'>\n",
            "None\n"
          ]
        }
      ]
    },
    {
      "cell_type": "code",
      "source": [
        "import re\n",
        "print(re.search(r\"p?each\", \"To each their own\"))\n",
        "print(re.search(r\"p?each\", \"I like peaches\"))"
      ],
      "metadata": {
        "colab": {
          "base_uri": "https://localhost:8080/"
        },
        "id": "xLVOzIrSqAlV",
        "outputId": "29281d6f-20fa-4384-ef19-e469b4eee861"
      },
      "execution_count": 3,
      "outputs": [
        {
          "output_type": "stream",
          "name": "stdout",
          "text": [
            "<re.Match object; span=(3, 7), match='each'>\n",
            "<re.Match object; span=(7, 12), match='peach'>\n"
          ]
        }
      ]
    },
    {
      "cell_type": "code",
      "source": [
        "#he repeating_letter_a function checks if the text passed includes the letter \"a\" (lowercase or uppercase) at least twice. For example, repeating_letter_a(\"banana\") is True, while repeating_letter_a(\"pineapple\") is False. Fill in the code to make this work.\n",
        "\n",
        "import re\n",
        "def repeating_letter_a(text):\n",
        "  result = re.search(r\".*[A|a].*a.*\", text)\n",
        "  return result != None\n",
        "\n",
        "print(repeating_letter_a(\"banana\")) # True\n",
        "print(repeating_letter_a(\"pineapple\")) # False\n",
        "print(repeating_letter_a(\"Animal Kingdom\")) # True\n",
        "print(repeating_letter_a(\"A is for apple\")) # True"
      ],
      "metadata": {
        "colab": {
          "base_uri": "https://localhost:8080/"
        },
        "id": "dtGvpKDAs_BX",
        "outputId": "998016f7-2fd9-4778-b70e-467209cafc41"
      },
      "execution_count": 5,
      "outputs": [
        {
          "output_type": "stream",
          "name": "stdout",
          "text": [
            "True\n",
            "False\n",
            "True\n",
            "True\n"
          ]
        }
      ]
    },
    {
      "cell_type": "code",
      "source": [
        "import re\n",
        "print(re.search(r\".com\", \"welcome\"))\n",
        "print(re.search(r\"\\.com\", \"welcome\"))\n",
        "print(re.search(r\"\\.com\", \"mydomain.com\"))"
      ],
      "metadata": {
        "colab": {
          "base_uri": "https://localhost:8080/"
        },
        "id": "6MyIaYwQtBlA",
        "outputId": "86d55056-c42a-4ab5-fd67-8b8057a24c48"
      },
      "execution_count": 6,
      "outputs": [
        {
          "output_type": "stream",
          "name": "stdout",
          "text": [
            "<re.Match object; span=(2, 6), match='lcom'>\n",
            "None\n",
            "<re.Match object; span=(8, 12), match='.com'>\n"
          ]
        }
      ]
    },
    {
      "cell_type": "code",
      "source": [
        "import re\n",
        "print(re.search(r\"\\w*\", \"This is an example\"))\n",
        "print(re.search(r\"\\w*\", \"And_this_is_another\"))"
      ],
      "metadata": {
        "colab": {
          "base_uri": "https://localhost:8080/"
        },
        "id": "-z6InBDetaYB",
        "outputId": "afef58c0-ce79-4bb2-d67c-a42b53e11bc1"
      },
      "execution_count": 7,
      "outputs": [
        {
          "output_type": "stream",
          "name": "stdout",
          "text": [
            "<re.Match object; span=(0, 4), match='This'>\n",
            "<re.Match object; span=(0, 19), match='And_this_is_another'>\n"
          ]
        }
      ]
    },
    {
      "cell_type": "code",
      "source": [
        "#Fill in the code to check if the text passed has at least 2 groups of alphanumeric characters (including letters, numbers, and underscores) separated by one or more whitespace characters.\n",
        "\n",
        "import re\n",
        "def check_character_groups(text):\n",
        "  result = re.search(r\"[A-Za-z0-9_]\\ \", text)\n",
        "  return result != None\n",
        "\n",
        "print(check_character_groups(\"One\")) # False\n",
        "print(check_character_groups(\"123  Ready Set GO\")) # True\n",
        "print(check_character_groups(\"username user_01\")) # True\n",
        "print(check_character_groups(\"shopping_list: milk, bread, eggs.\")) # False"
      ],
      "metadata": {
        "colab": {
          "base_uri": "https://localhost:8080/"
        },
        "id": "NspqAjbX2dTo",
        "outputId": "b8f23768-305d-4300-af82-6f938be63293"
      },
      "execution_count": 8,
      "outputs": [
        {
          "output_type": "stream",
          "name": "stdout",
          "text": [
            "False\n",
            "True\n",
            "True\n",
            "False\n"
          ]
        }
      ]
    },
    {
      "cell_type": "code",
      "source": [
        "import re\n",
        "print(re.search(r\"A.*a\", \"Argentina\"))\n",
        "print(re.search(r\"A.*a\", \"Azerbaijan\"))\n",
        "print(re.search(r\"^A.*a$\", \"Australia\"))"
      ],
      "metadata": {
        "colab": {
          "base_uri": "https://localhost:8080/"
        },
        "id": "Qk-m9y_72gik",
        "outputId": "4d84f119-70f2-4dba-cfc0-702d9dcfdcb3"
      },
      "execution_count": 9,
      "outputs": [
        {
          "output_type": "stream",
          "name": "stdout",
          "text": [
            "<re.Match object; span=(0, 9), match='Argentina'>\n",
            "<re.Match object; span=(0, 9), match='Azerbaija'>\n",
            "<re.Match object; span=(0, 9), match='Australia'>\n"
          ]
        }
      ]
    },
    {
      "cell_type": "code",
      "source": [
        "import re\n",
        "pattern = r\"^[a-zA-Z_][a-zA-Z0-9_]*$\"\n",
        "print(re.search(pattern, \"_this_is_a_valid_variable_name\"))\n",
        "print(re.search(pattern, \"this isn't a valid variable\"))\n",
        "print(re.search(pattern, \"my_variable1\"))\n",
        "print(re.search(pattern, \"2my_variable1\"))"
      ],
      "metadata": {
        "colab": {
          "base_uri": "https://localhost:8080/"
        },
        "id": "_Z_cYeJM2iu3",
        "outputId": "6103a1b8-956d-4c7a-cbe4-a9cd4c61b292"
      },
      "execution_count": 10,
      "outputs": [
        {
          "output_type": "stream",
          "name": "stdout",
          "text": [
            "<re.Match object; span=(0, 30), match='_this_is_a_valid_variable_name'>\n",
            "None\n",
            "<re.Match object; span=(0, 12), match='my_variable1'>\n",
            "None\n"
          ]
        }
      ]
    },
    {
      "cell_type": "code",
      "source": [],
      "metadata": {
        "id": "HkZJ1c9B20Gr"
      },
      "execution_count": null,
      "outputs": []
    }
  ]
}
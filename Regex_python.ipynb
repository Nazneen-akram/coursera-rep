{
  "nbformat": 4,
  "nbformat_minor": 0,
  "metadata": {
    "colab": {
      "provenance": [],
      "authorship_tag": "ABX9TyMDNzJpx98JVi1280m3E1jp",
      "include_colab_link": true
    },
    "kernelspec": {
      "name": "python3",
      "display_name": "Python 3"
    },
    "language_info": {
      "name": "python"
    }
  },
  "cells": [
    {
      "cell_type": "markdown",
      "metadata": {
        "id": "view-in-github",
        "colab_type": "text"
      },
      "source": [
        "<a href=\"https://colab.research.google.com/github/Nazneen-akram/coursera-rep/blob/main/Regex_python.ipynb\" target=\"_parent\"><img src=\"https://colab.research.google.com/assets/colab-badge.svg\" alt=\"Open In Colab\"/></a>"
      ]
    },
    {
      "cell_type": "code",
      "execution_count": 1,
      "metadata": {
        "colab": {
          "base_uri": "https://localhost:8080/"
        },
        "id": "KTNK0ynTu29P",
        "outputId": "aecd4f2c-4bef-47d6-d997-2ede1a662ba1"
      },
      "outputs": [
        {
          "output_type": "stream",
          "name": "stdout",
          "text": [
            "<re.Match object; span=(2, 5), match='aza'>\n"
          ]
        }
      ],
      "source": [
        "import re\n",
        "result = re.search(r\"aza\", \"plaza\")\n",
        "print(result)"
      ]
    },
    {
      "cell_type": "code",
      "source": [
        "import re\n",
        "result = re.search(r\"aza\", \"bazaar\")\n",
        "print(result)"
      ],
      "metadata": {
        "colab": {
          "base_uri": "https://localhost:8080/"
        },
        "id": "9m5vIq03ZSuK",
        "outputId": "327c2453-0a46-4d19-c3d7-aa8f393d9ada"
      },
      "execution_count": 2,
      "outputs": [
        {
          "output_type": "stream",
          "name": "stdout",
          "text": [
            "<re.Match object; span=(1, 4), match='aza'>\n"
          ]
        }
      ]
    },
    {
      "cell_type": "code",
      "source": [
        "import re\n",
        "result = re.search(r\"aza\", \"maze\")\n",
        "print(result)\n",
        "\n",
        "print(re.search(r\"^x\", \"xenon\"))"
      ],
      "metadata": {
        "colab": {
          "base_uri": "https://localhost:8080/"
        },
        "id": "E4YQDRLoZcXk",
        "outputId": "69a797ff-ecc0-482c-c6d0-ce9bed6429a8"
      },
      "execution_count": 3,
      "outputs": [
        {
          "output_type": "stream",
          "name": "stdout",
          "text": [
            "None\n",
            "<re.Match object; span=(0, 1), match='x'>\n"
          ]
        }
      ]
    },
    {
      "cell_type": "code",
      "source": [
        "import re\n",
        "print(re.search(r\"p.ng\", \"penguin\"))"
      ],
      "metadata": {
        "colab": {
          "base_uri": "https://localhost:8080/"
        },
        "id": "KM-5HLq1ZhRW",
        "outputId": "0b8d2331-e5f8-4a5f-9f3d-2be72c2405b1"
      },
      "execution_count": 4,
      "outputs": [
        {
          "output_type": "stream",
          "name": "stdout",
          "text": [
            "<re.Match object; span=(0, 4), match='peng'>\n"
          ]
        }
      ]
    },
    {
      "cell_type": "code",
      "source": [
        "import re\n",
        "print(re.search(r\"p.ng\", \"clapping\"))\n",
        "print(re.search(r\"p.ng\", \"sponge\"))"
      ],
      "metadata": {
        "colab": {
          "base_uri": "https://localhost:8080/"
        },
        "id": "rw1oKeK9ZpIQ",
        "outputId": "30c1ab66-b297-4374-d74d-5a87da89ddf7"
      },
      "execution_count": 5,
      "outputs": [
        {
          "output_type": "stream",
          "name": "stdout",
          "text": [
            "<re.Match object; span=(4, 8), match='ping'>\n",
            "<re.Match object; span=(1, 5), match='pong'>\n"
          ]
        }
      ]
    },
    {
      "cell_type": "code",
      "source": [
        "import re\n",
        "print(re.search(r\"p.ng\", \"Pangaea\", re.IGNORECASE))"
      ],
      "metadata": {
        "colab": {
          "base_uri": "https://localhost:8080/"
        },
        "id": "IeT59r8JZtTT",
        "outputId": "a75af7d3-83db-45de-954c-02ed42dc21d5"
      },
      "execution_count": 6,
      "outputs": [
        {
          "output_type": "stream",
          "name": "stdout",
          "text": [
            "<re.Match object; span=(0, 4), match='Pang'>\n"
          ]
        }
      ]
    },
    {
      "cell_type": "code",
      "source": [
        "import re\n",
        "def check_aei (text):\n",
        "  result = re.search(r\"[aei].{1}[aei]\", text)\n",
        "  return result != None\n",
        "\n",
        "print(check_aei(\"academia\")) # True\n",
        "print(check_aei(\"aerial\")) # False\n",
        "print(check_aei(\"paramedic\")) # True"
      ],
      "metadata": {
        "colab": {
          "base_uri": "https://localhost:8080/"
        },
        "id": "7E55xWK3Zv0C",
        "outputId": "b72f08e3-c2f2-4137-a54b-970121381f91"
      },
      "execution_count": 7,
      "outputs": [
        {
          "output_type": "stream",
          "name": "stdout",
          "text": [
            "True\n",
            "True\n",
            "True\n"
          ]
        }
      ]
    },
    {
      "cell_type": "code",
      "source": [
        "import re\n",
        "print(re.search(r\"[Pp]ython\", \"Python\"))"
      ],
      "metadata": {
        "colab": {
          "base_uri": "https://localhost:8080/"
        },
        "id": "7WaJW9Gab0Zi",
        "outputId": "b201b754-640c-4d1b-ced4-be506ede9a5b"
      },
      "execution_count": 8,
      "outputs": [
        {
          "output_type": "stream",
          "name": "stdout",
          "text": [
            "<re.Match object; span=(0, 6), match='Python'>\n"
          ]
        }
      ]
    },
    {
      "cell_type": "code",
      "source": [
        "import re\n",
        "print(re.search(r\"[a-z]way\", \"The end of the highway\"))\n",
        "print(re.search(r\"[a-z]way\", \"What a way to go\"))\n",
        "print(re.search(\"cloud[a-zA-Z0-9]\", \"cloudy\"))\n",
        "print(re.search(\"cloud[a-zA-Z0-9]\", \"cloud9\"))"
      ],
      "metadata": {
        "colab": {
          "base_uri": "https://localhost:8080/"
        },
        "id": "MZa19xFncniB",
        "outputId": "a20fc0b8-8486-4b44-c4e1-5a3c427bf83c"
      },
      "execution_count": 9,
      "outputs": [
        {
          "output_type": "stream",
          "name": "stdout",
          "text": [
            "<re.Match object; span=(18, 22), match='hway'>\n",
            "None\n",
            "<re.Match object; span=(0, 6), match='cloudy'>\n",
            "<re.Match object; span=(0, 6), match='cloud9'>\n"
          ]
        }
      ]
    },
    {
      "cell_type": "code",
      "source": [
        "import re\n",
        "print(re.search(r\"[^a-zA-Z]\", \"This is a sentence with spaces.\"))\n",
        "print(re.search(r\"[^a-zA-Z ]\", \"This is a sentence with spaces.\"))\n",
        "\n",
        "print(re.search(r\"cat|dog\", \"I like cats.\"))\n",
        "print(re.search(r\"cat|dog\", \"I love dogs!\"))\n",
        "print(re.search(r\"cat|dog\", \"I like both dogs and cats.\"))\n",
        "\n",
        "print(re.search(r\"cat|dog\", \"I like cats.\"))\n",
        "print(re.search(r\"cat|dog\", \"I love dogs!\"))\n",
        "print(re.search(r\"cat|dog\", \"I like both dogs and cats.\"))\n",
        "print(re.findall(r\"cat|dog\", \"I like both dogs and cats.\"))"
      ],
      "metadata": {
        "colab": {
          "base_uri": "https://localhost:8080/"
        },
        "id": "p7jG8M0mcuFP",
        "outputId": "c037a346-3865-4fcc-e44d-6c95ba1b0cc7"
      },
      "execution_count": 10,
      "outputs": [
        {
          "output_type": "stream",
          "name": "stdout",
          "text": [
            "<re.Match object; span=(4, 5), match=' '>\n",
            "<re.Match object; span=(30, 31), match='.'>\n",
            "<re.Match object; span=(7, 10), match='cat'>\n",
            "<re.Match object; span=(7, 10), match='dog'>\n",
            "<re.Match object; span=(12, 15), match='dog'>\n",
            "<re.Match object; span=(7, 10), match='cat'>\n",
            "<re.Match object; span=(7, 10), match='dog'>\n",
            "<re.Match object; span=(12, 15), match='dog'>\n",
            "['dog', 'cat']\n"
          ]
        }
      ]
    },
    {
      "cell_type": "code",
      "source": [
        "import re\n",
        "print(re.search(r\"Py.*n\", \"Pygmalion\"))\n",
        "print(re.search(r\"Py.*n\", \"Python Programming\"))\n",
        "print(re.search(r\"Py[a-z]*n\", \"Python Programming\"))\n",
        "print(re.search(r\"Py[a-z]*n\", \"Pyn\"))"
      ],
      "metadata": {
        "colab": {
          "base_uri": "https://localhost:8080/"
        },
        "id": "8DfI2TtXf9n3",
        "outputId": "8d179a4e-adaf-4e1f-92ff-32725455bca4"
      },
      "execution_count": 1,
      "outputs": [
        {
          "output_type": "stream",
          "name": "stdout",
          "text": [
            "<re.Match object; span=(0, 9), match='Pygmalion'>\n",
            "<re.Match object; span=(0, 17), match='Python Programmin'>\n",
            "<re.Match object; span=(0, 6), match='Python'>\n",
            "<re.Match object; span=(0, 3), match='Pyn'>\n"
          ]
        }
      ]
    },
    {
      "cell_type": "code",
      "source": [
        "import re\n",
        "print(re.search(r\"o+l+\", \"goldfish\"))\n",
        "print(re.search(r\"o+l+\", \"woolly\"))\n",
        "print(re.search(r\"o+l+\", \"boil\"))"
      ],
      "metadata": {
        "colab": {
          "base_uri": "https://localhost:8080/"
        },
        "id": "9MUPWNf3p7H_",
        "outputId": "932b7680-1228-4530-b549-b887d72022b0"
      },
      "execution_count": 2,
      "outputs": [
        {
          "output_type": "stream",
          "name": "stdout",
          "text": [
            "<re.Match object; span=(1, 3), match='ol'>\n",
            "<re.Match object; span=(1, 5), match='ooll'>\n",
            "None\n"
          ]
        }
      ]
    },
    {
      "cell_type": "code",
      "source": [
        "import re\n",
        "print(re.search(r\"p?each\", \"To each their own\"))\n",
        "print(re.search(r\"p?each\", \"I like peaches\"))"
      ],
      "metadata": {
        "colab": {
          "base_uri": "https://localhost:8080/"
        },
        "id": "xLVOzIrSqAlV",
        "outputId": "29281d6f-20fa-4384-ef19-e469b4eee861"
      },
      "execution_count": 3,
      "outputs": [
        {
          "output_type": "stream",
          "name": "stdout",
          "text": [
            "<re.Match object; span=(3, 7), match='each'>\n",
            "<re.Match object; span=(7, 12), match='peach'>\n"
          ]
        }
      ]
    },
    {
      "cell_type": "code",
      "source": [
        "#he repeating_letter_a function checks if the text passed includes the letter \"a\" (lowercase or uppercase) at least twice. For example, repeating_letter_a(\"banana\") is True, while repeating_letter_a(\"pineapple\") is False. Fill in the code to make this work.\n",
        "\n",
        "import re\n",
        "def repeating_letter_a(text):\n",
        "  result = re.search(r\".*[A|a].*a.*\", text)\n",
        "  return result != None\n",
        "\n",
        "print(repeating_letter_a(\"banana\")) # True\n",
        "print(repeating_letter_a(\"pineapple\")) # False\n",
        "print(repeating_letter_a(\"Animal Kingdom\")) # True\n",
        "print(repeating_letter_a(\"A is for apple\")) # True"
      ],
      "metadata": {
        "colab": {
          "base_uri": "https://localhost:8080/"
        },
        "id": "dtGvpKDAs_BX",
        "outputId": "998016f7-2fd9-4778-b70e-467209cafc41"
      },
      "execution_count": 5,
      "outputs": [
        {
          "output_type": "stream",
          "name": "stdout",
          "text": [
            "True\n",
            "False\n",
            "True\n",
            "True\n"
          ]
        }
      ]
    },
    {
      "cell_type": "code",
      "source": [
        "import re\n",
        "print(re.search(r\".com\", \"welcome\"))\n",
        "print(re.search(r\"\\.com\", \"welcome\"))\n",
        "print(re.search(r\"\\.com\", \"mydomain.com\"))"
      ],
      "metadata": {
        "colab": {
          "base_uri": "https://localhost:8080/"
        },
        "id": "6MyIaYwQtBlA",
        "outputId": "86d55056-c42a-4ab5-fd67-8b8057a24c48"
      },
      "execution_count": 6,
      "outputs": [
        {
          "output_type": "stream",
          "name": "stdout",
          "text": [
            "<re.Match object; span=(2, 6), match='lcom'>\n",
            "None\n",
            "<re.Match object; span=(8, 12), match='.com'>\n"
          ]
        }
      ]
    },
    {
      "cell_type": "code",
      "source": [
        "import re\n",
        "print(re.search(r\"\\w*\", \"This is an example\"))\n",
        "print(re.search(r\"\\w*\", \"And_this_is_another\"))"
      ],
      "metadata": {
        "colab": {
          "base_uri": "https://localhost:8080/"
        },
        "id": "-z6InBDetaYB",
        "outputId": "afef58c0-ce79-4bb2-d67c-a42b53e11bc1"
      },
      "execution_count": 7,
      "outputs": [
        {
          "output_type": "stream",
          "name": "stdout",
          "text": [
            "<re.Match object; span=(0, 4), match='This'>\n",
            "<re.Match object; span=(0, 19), match='And_this_is_another'>\n"
          ]
        }
      ]
    },
    {
      "cell_type": "code",
      "source": [
        "#Fill in the code to check if the text passed has at least 2 groups of alphanumeric characters (including letters, numbers, and underscores) separated by one or more whitespace characters.\n",
        "\n",
        "import re\n",
        "def check_character_groups(text):\n",
        "  result = re.search(r\"[A-Za-z0-9_]\\ \", text)\n",
        "  return result != None\n",
        "\n",
        "print(check_character_groups(\"One\")) # False\n",
        "print(check_character_groups(\"123  Ready Set GO\")) # True\n",
        "print(check_character_groups(\"username user_01\")) # True\n",
        "print(check_character_groups(\"shopping_list: milk, bread, eggs.\")) # False"
      ],
      "metadata": {
        "colab": {
          "base_uri": "https://localhost:8080/"
        },
        "id": "NspqAjbX2dTo",
        "outputId": "b8f23768-305d-4300-af82-6f938be63293"
      },
      "execution_count": 8,
      "outputs": [
        {
          "output_type": "stream",
          "name": "stdout",
          "text": [
            "False\n",
            "True\n",
            "True\n",
            "False\n"
          ]
        }
      ]
    },
    {
      "cell_type": "code",
      "source": [
        "import re\n",
        "print(re.search(r\"A.*a\", \"Argentina\"))\n",
        "print(re.search(r\"A.*a$\", \"Azerbaijan\"))\n",
        "print(re.search(r\"^A.*a$\", \"Australia\"))"
      ],
      "metadata": {
        "colab": {
          "base_uri": "https://localhost:8080/"
        },
        "id": "Qk-m9y_72gik",
        "outputId": "b1dbb324-2591-4115-cfab-6b862e1db856"
      },
      "execution_count": 36,
      "outputs": [
        {
          "output_type": "stream",
          "name": "stdout",
          "text": [
            "<re.Match object; span=(0, 9), match='Argentina'>\n",
            "None\n",
            "<re.Match object; span=(0, 9), match='Australia'>\n"
          ]
        }
      ]
    },
    {
      "cell_type": "code",
      "source": [
        "import re\n",
        "pattern = r\"^[a-zA-Z_][a-zA-Z0-9_]*$\"\n",
        "print(re.search(pattern, \"_this_is_a_valid_variable_name\"))\n",
        "print(re.search(pattern, \"this isn't a valid variable\"))\n",
        "print(re.search(pattern, \"my_variable1\"))\n",
        "print(re.search(pattern, \"2my_variable1\"))"
      ],
      "metadata": {
        "colab": {
          "base_uri": "https://localhost:8080/"
        },
        "id": "_Z_cYeJM2iu3",
        "outputId": "6103a1b8-956d-4c7a-cbe4-a9cd4c61b292"
      },
      "execution_count": 10,
      "outputs": [
        {
          "output_type": "stream",
          "name": "stdout",
          "text": [
            "<re.Match object; span=(0, 30), match='_this_is_a_valid_variable_name'>\n",
            "None\n",
            "<re.Match object; span=(0, 12), match='my_variable1'>\n",
            "None\n"
          ]
        }
      ]
    },
    {
      "cell_type": "code",
      "source": [
        "#Fill in the code to check if the text passed looks like a standard sentence, meaning that it starts with an uppercase letter, followed by at least some lowercase letters or a space, and ends with a period, question mark, or exclamation point.\n",
        "\n",
        "import re\n",
        "def check_sentence(text):\n",
        "  result = re.search(r\"[A-Z].*[a-z]\\ .*[.?!]\", text)\n",
        "  return result != None\n",
        "\n",
        "print(check_sentence(\"Is this is a sentence?\")) # True\n",
        "print(check_sentence(\"is this is a sentence?\")) # False\n",
        "print(check_sentence(\"Hello\")) # False\n",
        "print(check_sentence(\"1-2-3-GO!\")) # False\n",
        "print(check_sentence(\"A star is born.\")) # True"
      ],
      "metadata": {
        "colab": {
          "base_uri": "https://localhost:8080/"
        },
        "id": "HkZJ1c9B20Gr",
        "outputId": "f0a3f958-f60e-4814-b610-741884cb45f9"
      },
      "execution_count": 20,
      "outputs": [
        {
          "output_type": "stream",
          "name": "stdout",
          "text": [
            "True\n",
            "False\n",
            "False\n",
            "False\n",
            "True\n"
          ]
        }
      ]
    },
    {
      "cell_type": "code",
      "source": [
        "#The check_web_address function checks if the text passed qualifies as a top-level web address,\n",
        "#meaning that it contains alphanumeric characters (which includes letters, numbers, and underscores),\n",
        "#as well as periods, dashes, and a plus sign, followed by a period and a character-only top-level domain such as \".com\", \".info\", \".edu\", etc.\n",
        "#Fill in the regular expression to do that, using escape characters, wildcards, repetition qualifiers, beginning and end-of-line characters, and character classes.\n",
        "\n",
        "import re\n",
        "def check_web_address(text):\n",
        "  pattern = r\"\\.[A-Za-z]*$\"\n",
        "  result = re.search(pattern, text)\n",
        "  return result != None\n",
        "\n",
        "print(check_web_address(\"gmail.com\")) # True\n",
        "print(check_web_address(\"www@google\")) # False\n",
        "print(check_web_address(\"www.Coursera.org\")) # True\n",
        "print(check_web_address(\"web-address.com/homepage\")) # False\n",
        "print(check_web_address(\"My_Favorite-Blog.US\")) # True\n"
      ],
      "metadata": {
        "colab": {
          "base_uri": "https://localhost:8080/"
        },
        "id": "8OIRh_ff6HMH",
        "outputId": "1622e7f7-3cea-4d44-9e72-bea00a16e4aa"
      },
      "execution_count": 38,
      "outputs": [
        {
          "output_type": "stream",
          "name": "stdout",
          "text": [
            "True\n",
            "False\n",
            "True\n",
            "False\n",
            "True\n"
          ]
        }
      ]
    },
    {
      "cell_type": "markdown",
      "source": [
        "###**Question 2**\n",
        "####The check_time function checks for the time format of a 12-hour clock, as follows: the hour is between 1 and 12, with no leading zero, followed by a colon, then minutes between 00 and 59, then an optional space, and then AM or PM, in upper or lower case. Fill in the regular expression to do that. How many of the concepts that you just learned can you use here?"
      ],
      "metadata": {
        "id": "RAYP4LvQ998n"
      }
    },
    {
      "cell_type": "code",
      "source": [
        "import re\n",
        "def check_time(text):\n",
        "  pattern = r\"^[1-9]*.\\:[00-59].|\\ [AM|am|PM|pm]\"\n",
        "  result = re.search(pattern, text)\n",
        "  return result != None\n",
        "\n",
        "print(check_time(\"12:45pm\")) # True\n",
        "print(check_time(\"9:59 AM\")) # True\n",
        "print(check_time(\"6:60am\")) # False\n",
        "print(check_time(\"five o'clock\")) # False"
      ],
      "metadata": {
        "colab": {
          "base_uri": "https://localhost:8080/"
        },
        "id": "a4ZQuVTt8M3U",
        "outputId": "6d76b575-928c-4740-f9d0-05bd63f1c73b"
      },
      "execution_count": 53,
      "outputs": [
        {
          "output_type": "stream",
          "name": "stdout",
          "text": [
            "True\n",
            "True\n",
            "False\n",
            "False\n"
          ]
        }
      ]
    },
    {
      "cell_type": "markdown",
      "source": [
        "###**Question 3**\n",
        "####The contains_acronym function checks the text for the presence of 2 or more characters or digits surrounded by parentheses, with at least the first character in uppercase (if it's a letter), returning True if the condition is met, or False otherwise. For example, \"Instant messaging (IM) is a set of communication technologies used for text-based communication\" should return True since (IM) satisfies the match conditions.\" Fill in the regular expression in this function:"
      ],
      "metadata": {
        "id": "FJNdfUKS_3qA"
      }
    },
    {
      "cell_type": "code",
      "source": [
        "import re\n",
        "def contains_acronym(text):\n",
        "  pattern = r\"[A-Z|0-9][A-Za-z].*[\\()]\"\n",
        "  result = re.search(pattern, text)\n",
        "  return result != None\n",
        "\n",
        "print(contains_acronym(\"Instant messaging (IM) is a set of communication technologies used for text-based communication\")) # True\n",
        "print(contains_acronym(\"American Standard Code for Information Interchange (ASCII) is a character encoding standard for electronic communication\")) # True\n",
        "print(contains_acronym(\"Please do NOT enter without permission!\")) # False\n",
        "print(contains_acronym(\"PostScript is a fourth-generation programming language (4GL)\")) # True\n",
        "print(contains_acronym(\"Have fun using a self-contained underwater breathing apparatus (Scuba)!\")) # True"
      ],
      "metadata": {
        "colab": {
          "base_uri": "https://localhost:8080/"
        },
        "id": "l4x3sFOJ-REF",
        "outputId": "a7b2a1ca-b12f-4ed6-f4fc-3c5839f0cdc9"
      },
      "execution_count": 55,
      "outputs": [
        {
          "output_type": "stream",
          "name": "stdout",
          "text": [
            "True\n",
            "True\n",
            "False\n",
            "True\n",
            "True\n"
          ]
        }
      ]
    },
    {
      "cell_type": "markdown",
      "source": [
        "####An intern implemented a zip code checker, but it works only with five-digit zip codes. Your task is to update the checker so that it includes all nine digits of the zip code; the leading five digits and the optional four after the hyphen. Update the regular expression."
      ],
      "metadata": {
        "id": "nmDE0QCaAsqR"
      }
    },
    {
      "cell_type": "code",
      "source": [
        "import re\n",
        "def check_zip_code (text):\n",
        "  result = re.search(r\"\\d{5}[\\.|\\-]\", text)\n",
        "  return result != None\n",
        "\n",
        "print(check_zip_code(\"The zip codes for New York are 10001 thru 11104.\")) # True\n",
        "print(check_zip_code(\"90210 is a TV show\")) # False\n",
        "print(check_zip_code(\"Their address is: 123 Main Street, Anytown, AZ 85258-0001.\")) # True\n",
        "print(check_zip_code(\"The Parliament of Canada is at 111 Wellington St, Ottawa, ON K1A0A9.\")) # False"
      ],
      "metadata": {
        "colab": {
          "base_uri": "https://localhost:8080/"
        },
        "id": "ASlqR_BtAv-D",
        "outputId": "c6d3c0cb-87f3-4ecf-e4f8-311091b04ff2"
      },
      "execution_count": 84,
      "outputs": [
        {
          "output_type": "stream",
          "name": "stdout",
          "text": [
            "True\n",
            "False\n",
            "True\n",
            "False\n"
          ]
        }
      ]
    },
    {
      "cell_type": "code",
      "source": [
        "import re\n",
        "result = re.search(r\"^(\\w*), (\\w*)$\", \"Lovelace, Ada\")\n",
        "print(result)\n",
        "print(result.groups())\n",
        "print(result[0])\n",
        "print(result[1])\n",
        "print(result[2])\n",
        "\"{} {}\".format(result[2], result[1])"
      ],
      "metadata": {
        "colab": {
          "base_uri": "https://localhost:8080/",
          "height": 123
        },
        "id": "8LNnrv13BELc",
        "outputId": "19f48282-978b-4098-f3d5-d083a2fd451f"
      },
      "execution_count": 85,
      "outputs": [
        {
          "output_type": "stream",
          "name": "stdout",
          "text": [
            "<re.Match object; span=(0, 13), match='Lovelace, Ada'>\n",
            "('Lovelace', 'Ada')\n",
            "Lovelace, Ada\n",
            "Lovelace\n",
            "Ada\n"
          ]
        },
        {
          "output_type": "execute_result",
          "data": {
            "text/plain": [
              "'Ada Lovelace'"
            ],
            "application/vnd.google.colaboratory.intrinsic+json": {
              "type": "string"
            }
          },
          "metadata": {},
          "execution_count": 85
        }
      ]
    },
    {
      "cell_type": "code",
      "source": [
        "import re\n",
        "def rearrange_name(name):\n",
        "    result = re.search(r\"^(\\w*), (\\w*)$\", name)\n",
        "    if result is None:\n",
        "        return name\n",
        "    return \"{} {}\".format(result[2], result[1])\n",
        "rearrange_name(\"Lovelace, Ada\")"
      ],
      "metadata": {
        "colab": {
          "base_uri": "https://localhost:8080/",
          "height": 36
        },
        "id": "XdK0Fl_5E-hq",
        "outputId": "69c4b1f0-b86e-41af-d233-c30cb8dfc8d4"
      },
      "execution_count": 86,
      "outputs": [
        {
          "output_type": "execute_result",
          "data": {
            "text/plain": [
              "'Ada Lovelace'"
            ],
            "application/vnd.google.colaboratory.intrinsic+json": {
              "type": "string"
            }
          },
          "metadata": {},
          "execution_count": 86
        }
      ]
    },
    {
      "cell_type": "code",
      "source": [
        "import re\n",
        "def rearrange_name(name):\n",
        "    result = re.search(r\"^(\\w*), (\\w*)$\", name)\n",
        "    if result is None:\n",
        "        return name\n",
        "    return \"{} {}\".format(result[2], result[1])\n",
        "rearrange_name(\"Ritchie, Dennis\")"
      ],
      "metadata": {
        "colab": {
          "base_uri": "https://localhost:8080/",
          "height": 36
        },
        "id": "2M9aWd1CFCsP",
        "outputId": "bb71a785-1900-4ee1-d73f-d07f5b3c7afa"
      },
      "execution_count": 87,
      "outputs": [
        {
          "output_type": "execute_result",
          "data": {
            "text/plain": [
              "'Dennis Ritchie'"
            ],
            "application/vnd.google.colaboratory.intrinsic+json": {
              "type": "string"
            }
          },
          "metadata": {},
          "execution_count": 87
        }
      ]
    },
    {
      "cell_type": "code",
      "source": [
        "import re\n",
        "def rearrange_name(name):\n",
        "    result = re.search(r\"^([\\w .-]*), ([\\w .-]*)$\", name)\n",
        "    if result == None:\n",
        "        return name\n",
        "    return \"{} {}\".format(result[2], result[1])\n",
        "rearrange_name(\"Hopper, Grace M.\")"
      ],
      "metadata": {
        "colab": {
          "base_uri": "https://localhost:8080/",
          "height": 36
        },
        "id": "Q4I2h9TfFJik",
        "outputId": "bfe89505-71c4-4d62-9055-3b53feabfb7a"
      },
      "execution_count": 88,
      "outputs": [
        {
          "output_type": "execute_result",
          "data": {
            "text/plain": [
              "'Grace M. Hopper'"
            ],
            "application/vnd.google.colaboratory.intrinsic+json": {
              "type": "string"
            }
          },
          "metadata": {},
          "execution_count": 88
        }
      ]
    },
    {
      "cell_type": "code",
      "source": [
        "#Fix the regular expression used in the rearrange_name function so that it can match middle names, middle initials, as well as double surnames.\n",
        "import re\n",
        "def rearrange_name(name):\n",
        "  result = re.search(r\"^([\\w \\.-]*), ([\\w \\.-]*)$\", name)\n",
        "  if result == None:\n",
        "    return name\n",
        "  return \"{} {}\".format(result[2], result[1])\n",
        "\n",
        "name=rearrange_name(\"Kennedy, John F.\")\n",
        "print(name)"
      ],
      "metadata": {
        "colab": {
          "base_uri": "https://localhost:8080/"
        },
        "id": "FELsPfqVFK4T",
        "outputId": "de15282c-a53b-4332-fdbc-ce7d878d7a4a"
      },
      "execution_count": 11,
      "outputs": [
        {
          "output_type": "stream",
          "name": "stdout",
          "text": [
            "John F. Kennedy\n"
          ]
        }
      ]
    },
    {
      "cell_type": "code",
      "source": [
        "import re\n",
        "print(re.search(r\"[a-zA-Z]{5}\", \"a ghost\"))"
      ],
      "metadata": {
        "colab": {
          "base_uri": "https://localhost:8080/"
        },
        "id": "H-jx8JfjzJWp",
        "outputId": "3f60895e-cce8-4f2c-e80e-5c1fa79c641b"
      },
      "execution_count": 12,
      "outputs": [
        {
          "output_type": "stream",
          "name": "stdout",
          "text": [
            "<re.Match object; span=(2, 7), match='ghost'>\n"
          ]
        }
      ]
    },
    {
      "cell_type": "code",
      "source": [
        "import re\n",
        "print(re.search(r\"[a-zA-Z]{5}\", \"a scary ghost appeared\"))"
      ],
      "metadata": {
        "colab": {
          "base_uri": "https://localhost:8080/"
        },
        "id": "eaqM1Qqe0iP2",
        "outputId": "5d654ada-790f-47a6-8d6f-b423fe70762c"
      },
      "execution_count": 13,
      "outputs": [
        {
          "output_type": "stream",
          "name": "stdout",
          "text": [
            "<re.Match object; span=(2, 7), match='scary'>\n"
          ]
        }
      ]
    },
    {
      "cell_type": "code",
      "source": [
        "import re\n",
        "print(re.findall(r\"[a-zA-Z]{5}\", \"a scary ghost appeared\"))"
      ],
      "metadata": {
        "colab": {
          "base_uri": "https://localhost:8080/"
        },
        "id": "0qcymH6I0m19",
        "outputId": "3e7aedab-fc76-40cf-999b-0d93cb6575c7"
      },
      "execution_count": 14,
      "outputs": [
        {
          "output_type": "stream",
          "name": "stdout",
          "text": [
            "['scary', 'ghost', 'appea']\n"
          ]
        }
      ]
    },
    {
      "cell_type": "code",
      "source": [
        "import re\n",
        "re.findall(r\"\\b[a-zA-Z]{5}\\b\", \"A scary ghost appeared\")"
      ],
      "metadata": {
        "colab": {
          "base_uri": "https://localhost:8080/"
        },
        "id": "j2mbJlxx0qwO",
        "outputId": "4341a27c-1bf4-4b1b-8f65-4ea0cf2e5dd8"
      },
      "execution_count": 15,
      "outputs": [
        {
          "output_type": "execute_result",
          "data": {
            "text/plain": [
              "['scary', 'ghost']"
            ]
          },
          "metadata": {},
          "execution_count": 15
        }
      ]
    },
    {
      "cell_type": "code",
      "source": [
        "import re\n",
        "print(re.findall(r\"\\w{5,10}\", \"I really like strawberries\"))"
      ],
      "metadata": {
        "colab": {
          "base_uri": "https://localhost:8080/"
        },
        "id": "LWkO2Ebz0tJm",
        "outputId": "8f1edd2f-5b41-4192-9e82-3fd144030363"
      },
      "execution_count": 16,
      "outputs": [
        {
          "output_type": "stream",
          "name": "stdout",
          "text": [
            "['really', 'strawberri']\n"
          ]
        }
      ]
    },
    {
      "cell_type": "code",
      "source": [
        "import re\n",
        "print(re.findall(r\"\\w{5,}\", \"I really like strawberries\"))"
      ],
      "metadata": {
        "colab": {
          "base_uri": "https://localhost:8080/"
        },
        "id": "z7-Ob4Cz00HA",
        "outputId": "a823c913-47e4-4a96-f892-1d176adc30fd"
      },
      "execution_count": 17,
      "outputs": [
        {
          "output_type": "stream",
          "name": "stdout",
          "text": [
            "['really', 'strawberries']\n"
          ]
        }
      ]
    },
    {
      "cell_type": "code",
      "source": [
        "import re\n",
        "print(re.search(r\"s\\w{,20}\", \"I really like strawberries\"))"
      ],
      "metadata": {
        "colab": {
          "base_uri": "https://localhost:8080/"
        },
        "id": "Ea3XH-_p0-ZO",
        "outputId": "9c2a8f08-156d-4636-e386-c37e018b01e6"
      },
      "execution_count": 18,
      "outputs": [
        {
          "output_type": "stream",
          "name": "stdout",
          "text": [
            "<re.Match object; span=(14, 26), match='strawberries'>\n"
          ]
        }
      ]
    },
    {
      "cell_type": "code",
      "source": [
        "#The long_words function returns all words that are at least 7 characters. Fill in the regular expression to complete this function.\n",
        "import re\n",
        "def long_words(text):\n",
        "  pattern = r\"\\w{7,}\"\n",
        "  result = re.findall(pattern, text)\n",
        "  return result\n",
        "\n",
        "print(long_words(\"I like to drink coffee in the morning.\")) # ['morning']\n",
        "print(long_words(\"I also have a taste for hot chocolate in the afternoon.\")) # ['chocolate', 'afternoon']\n",
        "print(long_words(\"I never drink tea late at night.\")) # []"
      ],
      "metadata": {
        "colab": {
          "base_uri": "https://localhost:8080/"
        },
        "id": "Qwknfn2f1A3J",
        "outputId": "7dfdcf6c-27a3-47ff-9f46-934fbe13524b"
      },
      "execution_count": 20,
      "outputs": [
        {
          "output_type": "stream",
          "name": "stdout",
          "text": [
            "['morning']\n",
            "['chocolate', 'afternoon']\n",
            "[]\n"
          ]
        }
      ]
    },
    {
      "cell_type": "code",
      "source": [
        "import re\n",
        "log = \"July 31 07:51:48 mycomputer bad_process[12345]: ERROR Performing package upgrade\"\n",
        "regex = r\"\\[(\\d+)\\]\"\n",
        "result = re.search(regex, log)\n",
        "print(result[1])"
      ],
      "metadata": {
        "colab": {
          "base_uri": "https://localhost:8080/"
        },
        "id": "6QhYS2kCAyeS",
        "outputId": "06b968fd-c949-4974-f030-e9248de0c3f0"
      },
      "execution_count": 23,
      "outputs": [
        {
          "output_type": "stream",
          "name": "stdout",
          "text": [
            "12345\n"
          ]
        }
      ]
    },
    {
      "cell_type": "code",
      "source": [
        "log = \"July 31 07:51:48 mycomputer bad_process[12345]: ERROR Performing package upgrade\"\n",
        "regex = r\"\\d{5}\"\n",
        "result = re.findall(regex, log)\n",
        "print(result)"
      ],
      "metadata": {
        "colab": {
          "base_uri": "https://localhost:8080/"
        },
        "id": "1Nn2r_m-BHuI",
        "outputId": "f9c8ed9f-6ce3-426f-e2ac-3d9d0ab301eb"
      },
      "execution_count": 29,
      "outputs": [
        {
          "output_type": "stream",
          "name": "stdout",
          "text": [
            "['12345']\n"
          ]
        }
      ]
    },
    {
      "cell_type": "code",
      "source": [
        "import re\n",
        "log = \"July 31 07:51:48 mycomputer bad_process[12345]: ERROR Performing package upgrade\"\n",
        "regex = r\"\\[(\\d+)\\]\"\n",
        "result = re.search(regex, log)\n",
        "result = re.search(regex, \"A completely different string that also has numbers [34567]\")\n",
        "print(result[1])"
      ],
      "metadata": {
        "colab": {
          "base_uri": "https://localhost:8080/"
        },
        "id": "qRp2A0GPBR0M",
        "outputId": "2e169a4d-ba82-4dd6-9ced-20c2d4af6b25"
      },
      "execution_count": 30,
      "outputs": [
        {
          "output_type": "stream",
          "name": "stdout",
          "text": [
            "34567\n"
          ]
        }
      ]
    },
    {
      "cell_type": "code",
      "source": [
        "import re\n",
        "log = \"July 31 07:51:48 mycomputer bad_process[12345]: ERROR Performing package upgrade\"\n",
        "regex = r\"\\[(\\d+)\\]\"\n",
        "result = re.search(regex, log)\n",
        "result = re.search(regex, \"A completely different string that also has numbers [34567]\")\n",
        "result = re.search(regex, \"99 elephants in a [cage]\")\n",
        "print(result[1])\n",
        "#Note that this print command results in an error as shown in the video."
      ],
      "metadata": {
        "colab": {
          "base_uri": "https://localhost:8080/",
          "height": 228
        },
        "id": "JL5qxkVLBteb",
        "outputId": "09f84294-dfdb-4542-a5d0-6b624e7067d3"
      },
      "execution_count": 32,
      "outputs": [
        {
          "output_type": "error",
          "ename": "TypeError",
          "evalue": "ignored",
          "traceback": [
            "\u001b[0;31m---------------------------------------------------------------------------\u001b[0m",
            "\u001b[0;31mTypeError\u001b[0m                                 Traceback (most recent call last)",
            "\u001b[0;32m<ipython-input-32-86ccb106aa99>\u001b[0m in \u001b[0;36m<cell line: 7>\u001b[0;34m()\u001b[0m\n\u001b[1;32m      5\u001b[0m \u001b[0mresult\u001b[0m \u001b[0;34m=\u001b[0m \u001b[0mre\u001b[0m\u001b[0;34m.\u001b[0m\u001b[0msearch\u001b[0m\u001b[0;34m(\u001b[0m\u001b[0mregex\u001b[0m\u001b[0;34m,\u001b[0m \u001b[0;34m\"A completely different string that also has numbers [34567]\"\u001b[0m\u001b[0;34m)\u001b[0m\u001b[0;34m\u001b[0m\u001b[0;34m\u001b[0m\u001b[0m\n\u001b[1;32m      6\u001b[0m \u001b[0mresult\u001b[0m \u001b[0;34m=\u001b[0m \u001b[0mre\u001b[0m\u001b[0;34m.\u001b[0m\u001b[0msearch\u001b[0m\u001b[0;34m(\u001b[0m\u001b[0mregex\u001b[0m\u001b[0;34m,\u001b[0m \u001b[0;34m\"99 elephants in a [cage]\"\u001b[0m\u001b[0;34m)\u001b[0m\u001b[0;34m\u001b[0m\u001b[0;34m\u001b[0m\u001b[0m\n\u001b[0;32m----> 7\u001b[0;31m \u001b[0mprint\u001b[0m\u001b[0;34m(\u001b[0m\u001b[0mresult\u001b[0m\u001b[0;34m[\u001b[0m\u001b[0;36m1\u001b[0m\u001b[0;34m]\u001b[0m\u001b[0;34m)\u001b[0m\u001b[0;34m\u001b[0m\u001b[0;34m\u001b[0m\u001b[0m\n\u001b[0m\u001b[1;32m      8\u001b[0m \u001b[0;31m#Note that this print command results in an error as shown in the video.\u001b[0m\u001b[0;34m\u001b[0m\u001b[0;34m\u001b[0m\u001b[0m\n",
            "\u001b[0;31mTypeError\u001b[0m: 'NoneType' object is not subscriptable"
          ]
        }
      ]
    },
    {
      "cell_type": "code",
      "source": [
        "import re\n",
        "log = \"July 31 07:51:48 mycomputer bad_process[12345]: ERROR Performing package upgrade\"\n",
        "regex = r\"\\[(\\d+)\\]\"\n",
        "result = re.search(regex, log)\n",
        "result = re.search(regex, \"A completely different string that also has numbers [34567]\")\n",
        "result = re.search(regex, \"99 elephants in a [cage]\")\n",
        "def extract_pid(log_line):\n",
        "    regex = r\"\\[(\\d+)\\]\"\n",
        "    result = re.search(regex, log_line)\n",
        "    if result is None:\n",
        "        return \"\"\n",
        "    return result[1]\n",
        "print(extract_pid(log))"
      ],
      "metadata": {
        "colab": {
          "base_uri": "https://localhost:8080/"
        },
        "id": "fUmCKQ3PBy_g",
        "outputId": "6d5f2e53-3da9-4553-81c3-3f28717bdef3"
      },
      "execution_count": 33,
      "outputs": [
        {
          "output_type": "stream",
          "name": "stdout",
          "text": [
            "12345\n"
          ]
        }
      ]
    },
    {
      "cell_type": "code",
      "source": [
        "import re\n",
        "log = \"July 31 07:51:48 mycomputer bad_process[12345]: ERROR Performing package upgrade\"\n",
        "regex = r\"\\[(\\d+)\\]\"\n",
        "result = re.search(regex, log)\n",
        "result = re.search(regex, \"A completely different string that also has numbers [34567]\")\n",
        "result = re.search(regex, \"99 elephants in a [cage]\")\n",
        "def extract_pid(log_line):\n",
        "    regex = r\"\\[(\\d+)\\]\"\n",
        "    result = re.search(regex, log_line)\n",
        "    if result is None:\n",
        "        return \"\"\n",
        "    return result[1]\n",
        "print(extract_pid(\"99 elephants in a [cage]\"))"
      ],
      "metadata": {
        "colab": {
          "base_uri": "https://localhost:8080/"
        },
        "id": "WjUgk9k4CAfO",
        "outputId": "b53a4605-3348-4707-eb36-998dc26db1a1"
      },
      "execution_count": 35,
      "outputs": [
        {
          "output_type": "stream",
          "name": "stdout",
          "text": [
            "\n"
          ]
        }
      ]
    },
    {
      "cell_type": "code",
      "source": [
        "import re\n",
        "log = \"July 31 07:51:48 mycomputer bad_process[12345]: ERROR Performing package upgrade\"\n",
        "regex = r\"\\[(\\d+)\\]\"\n",
        "result = re.search(regex, log)\n",
        "result = re.search(regex, \"A completely different string that also has numbers [34567]\")\n",
        "result = re.search(regex, \"99 elephants in a [cage]\")\n",
        "def extract_pid(log_line):\n",
        "    regex = r\"\\[(\\d+)\\]\"\n",
        "    result = re.search(regex, log_line)\n",
        "    if result is None:\n",
        "        return \"\"\n",
        "    return result[1]\n",
        "print(extract_pid(log))\n",
        "print(extract_pid(\"99 elephants in a [cage]\"))"
      ],
      "metadata": {
        "colab": {
          "base_uri": "https://localhost:8080/"
        },
        "id": "E2fSe2dQCPZr",
        "outputId": "b714c326-cdbf-49eb-904a-c90f70e90e28"
      },
      "execution_count": 36,
      "outputs": [
        {
          "output_type": "stream",
          "name": "stdout",
          "text": [
            "12345\n",
            "\n"
          ]
        }
      ]
    },
    {
      "cell_type": "code",
      "source": [],
      "metadata": {
        "id": "YyURIU4UCbF0"
      },
      "execution_count": null,
      "outputs": []
    }
  ]
}
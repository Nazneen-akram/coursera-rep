{
  "nbformat": 4,
  "nbformat_minor": 0,
  "metadata": {
    "colab": {
      "provenance": [],
      "authorship_tag": "ABX9TyO62c26SYmM1EPIE7tXJyb0",
      "include_colab_link": true
    },
    "kernelspec": {
      "name": "python3",
      "display_name": "Python 3"
    },
    "language_info": {
      "name": "python"
    }
  },
  "cells": [
    {
      "cell_type": "markdown",
      "metadata": {
        "id": "view-in-github",
        "colab_type": "text"
      },
      "source": [
        "<a href=\"https://colab.research.google.com/github/Nazneen-akram/coursera-rep/blob/main/Regex_python.ipynb\" target=\"_parent\"><img src=\"https://colab.research.google.com/assets/colab-badge.svg\" alt=\"Open In Colab\"/></a>"
      ]
    },
    {
      "cell_type": "code",
      "execution_count": 1,
      "metadata": {
        "colab": {
          "base_uri": "https://localhost:8080/"
        },
        "id": "KTNK0ynTu29P",
        "outputId": "aecd4f2c-4bef-47d6-d997-2ede1a662ba1"
      },
      "outputs": [
        {
          "output_type": "stream",
          "name": "stdout",
          "text": [
            "<re.Match object; span=(2, 5), match='aza'>\n"
          ]
        }
      ],
      "source": [
        "import re\n",
        "result = re.search(r\"aza\", \"plaza\")\n",
        "print(result)"
      ]
    },
    {
      "cell_type": "code",
      "source": [
        "import re\n",
        "result = re.search(r\"aza\", \"bazaar\")\n",
        "print(result)"
      ],
      "metadata": {
        "colab": {
          "base_uri": "https://localhost:8080/"
        },
        "id": "9m5vIq03ZSuK",
        "outputId": "327c2453-0a46-4d19-c3d7-aa8f393d9ada"
      },
      "execution_count": 2,
      "outputs": [
        {
          "output_type": "stream",
          "name": "stdout",
          "text": [
            "<re.Match object; span=(1, 4), match='aza'>\n"
          ]
        }
      ]
    },
    {
      "cell_type": "code",
      "source": [
        "import re\n",
        "result = re.search(r\"aza\", \"maze\")\n",
        "print(result)\n",
        "\n",
        "print(re.search(r\"^x\", \"xenon\"))"
      ],
      "metadata": {
        "colab": {
          "base_uri": "https://localhost:8080/"
        },
        "id": "E4YQDRLoZcXk",
        "outputId": "69a797ff-ecc0-482c-c6d0-ce9bed6429a8"
      },
      "execution_count": 3,
      "outputs": [
        {
          "output_type": "stream",
          "name": "stdout",
          "text": [
            "None\n",
            "<re.Match object; span=(0, 1), match='x'>\n"
          ]
        }
      ]
    },
    {
      "cell_type": "code",
      "source": [
        "import re\n",
        "print(re.search(r\"p.ng\", \"penguin\"))"
      ],
      "metadata": {
        "colab": {
          "base_uri": "https://localhost:8080/"
        },
        "id": "KM-5HLq1ZhRW",
        "outputId": "0b8d2331-e5f8-4a5f-9f3d-2be72c2405b1"
      },
      "execution_count": 4,
      "outputs": [
        {
          "output_type": "stream",
          "name": "stdout",
          "text": [
            "<re.Match object; span=(0, 4), match='peng'>\n"
          ]
        }
      ]
    },
    {
      "cell_type": "code",
      "source": [
        "import re\n",
        "print(re.search(r\"p.ng\", \"clapping\"))\n",
        "print(re.search(r\"p.ng\", \"sponge\"))"
      ],
      "metadata": {
        "colab": {
          "base_uri": "https://localhost:8080/"
        },
        "id": "rw1oKeK9ZpIQ",
        "outputId": "30c1ab66-b297-4374-d74d-5a87da89ddf7"
      },
      "execution_count": 5,
      "outputs": [
        {
          "output_type": "stream",
          "name": "stdout",
          "text": [
            "<re.Match object; span=(4, 8), match='ping'>\n",
            "<re.Match object; span=(1, 5), match='pong'>\n"
          ]
        }
      ]
    },
    {
      "cell_type": "code",
      "source": [
        "import re\n",
        "print(re.search(r\"p.ng\", \"Pangaea\", re.IGNORECASE))"
      ],
      "metadata": {
        "colab": {
          "base_uri": "https://localhost:8080/"
        },
        "id": "IeT59r8JZtTT",
        "outputId": "a75af7d3-83db-45de-954c-02ed42dc21d5"
      },
      "execution_count": 6,
      "outputs": [
        {
          "output_type": "stream",
          "name": "stdout",
          "text": [
            "<re.Match object; span=(0, 4), match='Pang'>\n"
          ]
        }
      ]
    },
    {
      "cell_type": "code",
      "source": [
        "import re\n",
        "def check_aei (text):\n",
        "  result = re.search(r\"[aei].{1}[aei]\", text)\n",
        "  return result != None\n",
        "\n",
        "print(check_aei(\"academia\")) # True\n",
        "print(check_aei(\"aerial\")) # False\n",
        "print(check_aei(\"paramedic\")) # True"
      ],
      "metadata": {
        "colab": {
          "base_uri": "https://localhost:8080/"
        },
        "id": "7E55xWK3Zv0C",
        "outputId": "b72f08e3-c2f2-4137-a54b-970121381f91"
      },
      "execution_count": 7,
      "outputs": [
        {
          "output_type": "stream",
          "name": "stdout",
          "text": [
            "True\n",
            "True\n",
            "True\n"
          ]
        }
      ]
    },
    {
      "cell_type": "code",
      "source": [
        "import re\n",
        "print(re.search(r\"[Pp]ython\", \"Python\"))"
      ],
      "metadata": {
        "colab": {
          "base_uri": "https://localhost:8080/"
        },
        "id": "7WaJW9Gab0Zi",
        "outputId": "b201b754-640c-4d1b-ced4-be506ede9a5b"
      },
      "execution_count": 8,
      "outputs": [
        {
          "output_type": "stream",
          "name": "stdout",
          "text": [
            "<re.Match object; span=(0, 6), match='Python'>\n"
          ]
        }
      ]
    },
    {
      "cell_type": "code",
      "source": [
        "import re\n",
        "print(re.search(r\"[a-z]way\", \"The end of the highway\"))\n",
        "print(re.search(r\"[a-z]way\", \"What a way to go\"))\n",
        "print(re.search(\"cloud[a-zA-Z0-9]\", \"cloudy\"))\n",
        "print(re.search(\"cloud[a-zA-Z0-9]\", \"cloud9\"))"
      ],
      "metadata": {
        "colab": {
          "base_uri": "https://localhost:8080/"
        },
        "id": "MZa19xFncniB",
        "outputId": "a20fc0b8-8486-4b44-c4e1-5a3c427bf83c"
      },
      "execution_count": 9,
      "outputs": [
        {
          "output_type": "stream",
          "name": "stdout",
          "text": [
            "<re.Match object; span=(18, 22), match='hway'>\n",
            "None\n",
            "<re.Match object; span=(0, 6), match='cloudy'>\n",
            "<re.Match object; span=(0, 6), match='cloud9'>\n"
          ]
        }
      ]
    },
    {
      "cell_type": "code",
      "source": [
        "import re\n",
        "print(re.search(r\"[^a-zA-Z]\", \"This is a sentence with spaces.\"))\n",
        "print(re.search(r\"[^a-zA-Z ]\", \"This is a sentence with spaces.\"))\n",
        "\n",
        "print(re.search(r\"cat|dog\", \"I like cats.\"))\n",
        "print(re.search(r\"cat|dog\", \"I love dogs!\"))\n",
        "print(re.search(r\"cat|dog\", \"I like both dogs and cats.\"))\n",
        "\n",
        "print(re.search(r\"cat|dog\", \"I like cats.\"))\n",
        "print(re.search(r\"cat|dog\", \"I love dogs!\"))\n",
        "print(re.search(r\"cat|dog\", \"I like both dogs and cats.\"))\n",
        "print(re.findall(r\"cat|dog\", \"I like both dogs and cats.\"))"
      ],
      "metadata": {
        "colab": {
          "base_uri": "https://localhost:8080/"
        },
        "id": "p7jG8M0mcuFP",
        "outputId": "c037a346-3865-4fcc-e44d-6c95ba1b0cc7"
      },
      "execution_count": 10,
      "outputs": [
        {
          "output_type": "stream",
          "name": "stdout",
          "text": [
            "<re.Match object; span=(4, 5), match=' '>\n",
            "<re.Match object; span=(30, 31), match='.'>\n",
            "<re.Match object; span=(7, 10), match='cat'>\n",
            "<re.Match object; span=(7, 10), match='dog'>\n",
            "<re.Match object; span=(12, 15), match='dog'>\n",
            "<re.Match object; span=(7, 10), match='cat'>\n",
            "<re.Match object; span=(7, 10), match='dog'>\n",
            "<re.Match object; span=(12, 15), match='dog'>\n",
            "['dog', 'cat']\n"
          ]
        }
      ]
    },
    {
      "cell_type": "code",
      "source": [
        "import re\n",
        "print(re.search(r\"Py.*n\", \"Pygmalion\"))\n",
        "print(re.search(r\"Py.*n\", \"Python Programming\"))\n",
        "print(re.search(r\"Py[a-z]*n\", \"Python Programming\"))\n",
        "print(re.search(r\"Py[a-z]*n\", \"Pyn\"))"
      ],
      "metadata": {
        "colab": {
          "base_uri": "https://localhost:8080/"
        },
        "id": "8DfI2TtXf9n3",
        "outputId": "8d179a4e-adaf-4e1f-92ff-32725455bca4"
      },
      "execution_count": 1,
      "outputs": [
        {
          "output_type": "stream",
          "name": "stdout",
          "text": [
            "<re.Match object; span=(0, 9), match='Pygmalion'>\n",
            "<re.Match object; span=(0, 17), match='Python Programmin'>\n",
            "<re.Match object; span=(0, 6), match='Python'>\n",
            "<re.Match object; span=(0, 3), match='Pyn'>\n"
          ]
        }
      ]
    },
    {
      "cell_type": "code",
      "source": [
        "import re\n",
        "print(re.search(r\"o+l+\", \"goldfish\"))\n",
        "print(re.search(r\"o+l+\", \"woolly\"))\n",
        "print(re.search(r\"o+l+\", \"boil\"))"
      ],
      "metadata": {
        "colab": {
          "base_uri": "https://localhost:8080/"
        },
        "id": "9MUPWNf3p7H_",
        "outputId": "932b7680-1228-4530-b549-b887d72022b0"
      },
      "execution_count": 2,
      "outputs": [
        {
          "output_type": "stream",
          "name": "stdout",
          "text": [
            "<re.Match object; span=(1, 3), match='ol'>\n",
            "<re.Match object; span=(1, 5), match='ooll'>\n",
            "None\n"
          ]
        }
      ]
    },
    {
      "cell_type": "code",
      "source": [
        "import re\n",
        "print(re.search(r\"p?each\", \"To each their own\"))\n",
        "print(re.search(r\"p?each\", \"I like peaches\"))"
      ],
      "metadata": {
        "colab": {
          "base_uri": "https://localhost:8080/"
        },
        "id": "xLVOzIrSqAlV",
        "outputId": "29281d6f-20fa-4384-ef19-e469b4eee861"
      },
      "execution_count": 3,
      "outputs": [
        {
          "output_type": "stream",
          "name": "stdout",
          "text": [
            "<re.Match object; span=(3, 7), match='each'>\n",
            "<re.Match object; span=(7, 12), match='peach'>\n"
          ]
        }
      ]
    },
    {
      "cell_type": "code",
      "source": [
        "#he repeating_letter_a function checks if the text passed includes the letter \"a\" (lowercase or uppercase) at least twice. For example, repeating_letter_a(\"banana\") is True, while repeating_letter_a(\"pineapple\") is False. Fill in the code to make this work.\n",
        "\n",
        "import re\n",
        "def repeating_letter_a(text):\n",
        "  result = re.search(r\".*[A|a].*a.*\", text)\n",
        "  return result != None\n",
        "\n",
        "print(repeating_letter_a(\"banana\")) # True\n",
        "print(repeating_letter_a(\"pineapple\")) # False\n",
        "print(repeating_letter_a(\"Animal Kingdom\")) # True\n",
        "print(repeating_letter_a(\"A is for apple\")) # True"
      ],
      "metadata": {
        "colab": {
          "base_uri": "https://localhost:8080/"
        },
        "id": "dtGvpKDAs_BX",
        "outputId": "998016f7-2fd9-4778-b70e-467209cafc41"
      },
      "execution_count": 5,
      "outputs": [
        {
          "output_type": "stream",
          "name": "stdout",
          "text": [
            "True\n",
            "False\n",
            "True\n",
            "True\n"
          ]
        }
      ]
    },
    {
      "cell_type": "code",
      "source": [
        "import re\n",
        "print(re.search(r\".com\", \"welcome\"))\n",
        "print(re.search(r\"\\.com\", \"welcome\"))\n",
        "print(re.search(r\"\\.com\", \"mydomain.com\"))"
      ],
      "metadata": {
        "colab": {
          "base_uri": "https://localhost:8080/"
        },
        "id": "6MyIaYwQtBlA",
        "outputId": "86d55056-c42a-4ab5-fd67-8b8057a24c48"
      },
      "execution_count": 6,
      "outputs": [
        {
          "output_type": "stream",
          "name": "stdout",
          "text": [
            "<re.Match object; span=(2, 6), match='lcom'>\n",
            "None\n",
            "<re.Match object; span=(8, 12), match='.com'>\n"
          ]
        }
      ]
    },
    {
      "cell_type": "code",
      "source": [
        "import re\n",
        "print(re.search(r\"\\w*\", \"This is an example\"))\n",
        "print(re.search(r\"\\w*\", \"And_this_is_another\"))"
      ],
      "metadata": {
        "colab": {
          "base_uri": "https://localhost:8080/"
        },
        "id": "-z6InBDetaYB",
        "outputId": "afef58c0-ce79-4bb2-d67c-a42b53e11bc1"
      },
      "execution_count": 7,
      "outputs": [
        {
          "output_type": "stream",
          "name": "stdout",
          "text": [
            "<re.Match object; span=(0, 4), match='This'>\n",
            "<re.Match object; span=(0, 19), match='And_this_is_another'>\n"
          ]
        }
      ]
    },
    {
      "cell_type": "code",
      "source": [
        "#Fill in the code to check if the text passed has at least 2 groups of alphanumeric characters (including letters, numbers, and underscores) separated by one or more whitespace characters.\n",
        "\n",
        "import re\n",
        "def check_character_groups(text):\n",
        "  result = re.search(r\"[A-Za-z0-9_]\\ \", text)\n",
        "  return result != None\n",
        "\n",
        "print(check_character_groups(\"One\")) # False\n",
        "print(check_character_groups(\"123  Ready Set GO\")) # True\n",
        "print(check_character_groups(\"username user_01\")) # True\n",
        "print(check_character_groups(\"shopping_list: milk, bread, eggs.\")) # False"
      ],
      "metadata": {
        "colab": {
          "base_uri": "https://localhost:8080/"
        },
        "id": "NspqAjbX2dTo",
        "outputId": "b8f23768-305d-4300-af82-6f938be63293"
      },
      "execution_count": 8,
      "outputs": [
        {
          "output_type": "stream",
          "name": "stdout",
          "text": [
            "False\n",
            "True\n",
            "True\n",
            "False\n"
          ]
        }
      ]
    },
    {
      "cell_type": "code",
      "source": [
        "import re\n",
        "print(re.search(r\"A.*a\", \"Argentina\"))\n",
        "print(re.search(r\"A.*a$\", \"Azerbaijan\"))\n",
        "print(re.search(r\"^A.*a$\", \"Australia\"))"
      ],
      "metadata": {
        "colab": {
          "base_uri": "https://localhost:8080/"
        },
        "id": "Qk-m9y_72gik",
        "outputId": "b1dbb324-2591-4115-cfab-6b862e1db856"
      },
      "execution_count": 36,
      "outputs": [
        {
          "output_type": "stream",
          "name": "stdout",
          "text": [
            "<re.Match object; span=(0, 9), match='Argentina'>\n",
            "None\n",
            "<re.Match object; span=(0, 9), match='Australia'>\n"
          ]
        }
      ]
    },
    {
      "cell_type": "code",
      "source": [
        "import re\n",
        "pattern = r\"^[a-zA-Z_][a-zA-Z0-9_]*$\"\n",
        "print(re.search(pattern, \"_this_is_a_valid_variable_name\"))\n",
        "print(re.search(pattern, \"this isn't a valid variable\"))\n",
        "print(re.search(pattern, \"my_variable1\"))\n",
        "print(re.search(pattern, \"2my_variable1\"))"
      ],
      "metadata": {
        "colab": {
          "base_uri": "https://localhost:8080/"
        },
        "id": "_Z_cYeJM2iu3",
        "outputId": "6103a1b8-956d-4c7a-cbe4-a9cd4c61b292"
      },
      "execution_count": 10,
      "outputs": [
        {
          "output_type": "stream",
          "name": "stdout",
          "text": [
            "<re.Match object; span=(0, 30), match='_this_is_a_valid_variable_name'>\n",
            "None\n",
            "<re.Match object; span=(0, 12), match='my_variable1'>\n",
            "None\n"
          ]
        }
      ]
    },
    {
      "cell_type": "code",
      "source": [
        "#Fill in the code to check if the text passed looks like a standard sentence, meaning that it starts with an uppercase letter, followed by at least some lowercase letters or a space, and ends with a period, question mark, or exclamation point.\n",
        "\n",
        "import re\n",
        "def check_sentence(text):\n",
        "  result = re.search(r\"[A-Z].*[a-z]\\ .*[.?!]\", text)\n",
        "  return result != None\n",
        "\n",
        "print(check_sentence(\"Is this is a sentence?\")) # True\n",
        "print(check_sentence(\"is this is a sentence?\")) # False\n",
        "print(check_sentence(\"Hello\")) # False\n",
        "print(check_sentence(\"1-2-3-GO!\")) # False\n",
        "print(check_sentence(\"A star is born.\")) # True"
      ],
      "metadata": {
        "colab": {
          "base_uri": "https://localhost:8080/"
        },
        "id": "HkZJ1c9B20Gr",
        "outputId": "f0a3f958-f60e-4814-b610-741884cb45f9"
      },
      "execution_count": 20,
      "outputs": [
        {
          "output_type": "stream",
          "name": "stdout",
          "text": [
            "True\n",
            "False\n",
            "False\n",
            "False\n",
            "True\n"
          ]
        }
      ]
    },
    {
      "cell_type": "code",
      "source": [
        "#The check_web_address function checks if the text passed qualifies as a top-level web address,\n",
        "#meaning that it contains alphanumeric characters (which includes letters, numbers, and underscores),\n",
        "#as well as periods, dashes, and a plus sign, followed by a period and a character-only top-level domain such as \".com\", \".info\", \".edu\", etc.\n",
        "#Fill in the regular expression to do that, using escape characters, wildcards, repetition qualifiers, beginning and end-of-line characters, and character classes.\n",
        "\n",
        "import re\n",
        "def check_web_address(text):\n",
        "  pattern = r\"\\.[A-Za-z]*$\"\n",
        "  result = re.search(pattern, text)\n",
        "  return result != None\n",
        "\n",
        "print(check_web_address(\"gmail.com\")) # True\n",
        "print(check_web_address(\"www@google\")) # False\n",
        "print(check_web_address(\"www.Coursera.org\")) # True\n",
        "print(check_web_address(\"web-address.com/homepage\")) # False\n",
        "print(check_web_address(\"My_Favorite-Blog.US\")) # True\n"
      ],
      "metadata": {
        "colab": {
          "base_uri": "https://localhost:8080/"
        },
        "id": "8OIRh_ff6HMH",
        "outputId": "1622e7f7-3cea-4d44-9e72-bea00a16e4aa"
      },
      "execution_count": 38,
      "outputs": [
        {
          "output_type": "stream",
          "name": "stdout",
          "text": [
            "True\n",
            "False\n",
            "True\n",
            "False\n",
            "True\n"
          ]
        }
      ]
    },
    {
      "cell_type": "markdown",
      "source": [
        "###**Question 2**\n",
        "####The check_time function checks for the time format of a 12-hour clock, as follows: the hour is between 1 and 12, with no leading zero, followed by a colon, then minutes between 00 and 59, then an optional space, and then AM or PM, in upper or lower case. Fill in the regular expression to do that. How many of the concepts that you just learned can you use here?"
      ],
      "metadata": {
        "id": "RAYP4LvQ998n"
      }
    },
    {
      "cell_type": "code",
      "source": [
        "import re\n",
        "def check_time(text):\n",
        "  pattern = r\"^[1-9]*.\\:[00-59].|\\ [AM|am|PM|pm]\"\n",
        "  result = re.search(pattern, text)\n",
        "  return result != None\n",
        "\n",
        "print(check_time(\"12:45pm\")) # True\n",
        "print(check_time(\"9:59 AM\")) # True\n",
        "print(check_time(\"6:60am\")) # False\n",
        "print(check_time(\"five o'clock\")) # False"
      ],
      "metadata": {
        "colab": {
          "base_uri": "https://localhost:8080/"
        },
        "id": "a4ZQuVTt8M3U",
        "outputId": "6d76b575-928c-4740-f9d0-05bd63f1c73b"
      },
      "execution_count": 53,
      "outputs": [
        {
          "output_type": "stream",
          "name": "stdout",
          "text": [
            "True\n",
            "True\n",
            "False\n",
            "False\n"
          ]
        }
      ]
    },
    {
      "cell_type": "markdown",
      "source": [
        "###**Question 3**\n",
        "####The contains_acronym function checks the text for the presence of 2 or more characters or digits surrounded by parentheses, with at least the first character in uppercase (if it's a letter), returning True if the condition is met, or False otherwise. For example, \"Instant messaging (IM) is a set of communication technologies used for text-based communication\" should return True since (IM) satisfies the match conditions.\" Fill in the regular expression in this function:"
      ],
      "metadata": {
        "id": "FJNdfUKS_3qA"
      }
    },
    {
      "cell_type": "code",
      "source": [
        "import re\n",
        "def contains_acronym(text):\n",
        "  pattern = r\"[A-Z|0-9][A-Za-z].*[\\()]\"\n",
        "  result = re.search(pattern, text)\n",
        "  return result != None\n",
        "\n",
        "print(contains_acronym(\"Instant messaging (IM) is a set of communication technologies used for text-based communication\")) # True\n",
        "print(contains_acronym(\"American Standard Code for Information Interchange (ASCII) is a character encoding standard for electronic communication\")) # True\n",
        "print(contains_acronym(\"Please do NOT enter without permission!\")) # False\n",
        "print(contains_acronym(\"PostScript is a fourth-generation programming language (4GL)\")) # True\n",
        "print(contains_acronym(\"Have fun using a self-contained underwater breathing apparatus (Scuba)!\")) # True"
      ],
      "metadata": {
        "colab": {
          "base_uri": "https://localhost:8080/"
        },
        "id": "l4x3sFOJ-REF",
        "outputId": "a7b2a1ca-b12f-4ed6-f4fc-3c5839f0cdc9"
      },
      "execution_count": 55,
      "outputs": [
        {
          "output_type": "stream",
          "name": "stdout",
          "text": [
            "True\n",
            "True\n",
            "False\n",
            "True\n",
            "True\n"
          ]
        }
      ]
    },
    {
      "cell_type": "markdown",
      "source": [
        "####An intern implemented a zip code checker, but it works only with five-digit zip codes. Your task is to update the checker so that it includes all nine digits of the zip code; the leading five digits and the optional four after the hyphen. Update the regular expression."
      ],
      "metadata": {
        "id": "nmDE0QCaAsqR"
      }
    },
    {
      "cell_type": "code",
      "source": [
        "import re\n",
        "def check_zip_code (text):\n",
        "  result = re.search(r\"\\d{5}[\\.|\\-]\", text)\n",
        "  return result != None\n",
        "\n",
        "print(check_zip_code(\"The zip codes for New York are 10001 thru 11104.\")) # True\n",
        "print(check_zip_code(\"90210 is a TV show\")) # False\n",
        "print(check_zip_code(\"Their address is: 123 Main Street, Anytown, AZ 85258-0001.\")) # True\n",
        "print(check_zip_code(\"The Parliament of Canada is at 111 Wellington St, Ottawa, ON K1A0A9.\")) # False"
      ],
      "metadata": {
        "colab": {
          "base_uri": "https://localhost:8080/"
        },
        "id": "ASlqR_BtAv-D",
        "outputId": "c6d3c0cb-87f3-4ecf-e4f8-311091b04ff2"
      },
      "execution_count": 84,
      "outputs": [
        {
          "output_type": "stream",
          "name": "stdout",
          "text": [
            "True\n",
            "False\n",
            "True\n",
            "False\n"
          ]
        }
      ]
    },
    {
      "cell_type": "code",
      "source": [
        "import re\n",
        "result = re.search(r\"^(\\w*), (\\w*)$\", \"Lovelace, Ada\")\n",
        "print(result)\n",
        "print(result.groups())\n",
        "print(result[0])\n",
        "print(result[1])\n",
        "print(result[2])\n",
        "\"{} {}\".format(result[2], result[1])"
      ],
      "metadata": {
        "colab": {
          "base_uri": "https://localhost:8080/",
          "height": 123
        },
        "id": "8LNnrv13BELc",
        "outputId": "19f48282-978b-4098-f3d5-d083a2fd451f"
      },
      "execution_count": 85,
      "outputs": [
        {
          "output_type": "stream",
          "name": "stdout",
          "text": [
            "<re.Match object; span=(0, 13), match='Lovelace, Ada'>\n",
            "('Lovelace', 'Ada')\n",
            "Lovelace, Ada\n",
            "Lovelace\n",
            "Ada\n"
          ]
        },
        {
          "output_type": "execute_result",
          "data": {
            "text/plain": [
              "'Ada Lovelace'"
            ],
            "application/vnd.google.colaboratory.intrinsic+json": {
              "type": "string"
            }
          },
          "metadata": {},
          "execution_count": 85
        }
      ]
    },
    {
      "cell_type": "code",
      "source": [
        "import re\n",
        "def rearrange_name(name):\n",
        "    result = re.search(r\"^(\\w*), (\\w*)$\", name)\n",
        "    if result is None:\n",
        "        return name\n",
        "    return \"{} {}\".format(result[2], result[1])\n",
        "rearrange_name(\"Lovelace, Ada\")"
      ],
      "metadata": {
        "colab": {
          "base_uri": "https://localhost:8080/",
          "height": 36
        },
        "id": "XdK0Fl_5E-hq",
        "outputId": "69c4b1f0-b86e-41af-d233-c30cb8dfc8d4"
      },
      "execution_count": 86,
      "outputs": [
        {
          "output_type": "execute_result",
          "data": {
            "text/plain": [
              "'Ada Lovelace'"
            ],
            "application/vnd.google.colaboratory.intrinsic+json": {
              "type": "string"
            }
          },
          "metadata": {},
          "execution_count": 86
        }
      ]
    },
    {
      "cell_type": "code",
      "source": [
        "import re\n",
        "def rearrange_name(name):\n",
        "    result = re.search(r\"^(\\w*), (\\w*)$\", name)\n",
        "    if result is None:\n",
        "        return name\n",
        "    return \"{} {}\".format(result[2], result[1])\n",
        "rearrange_name(\"Ritchie, Dennis\")"
      ],
      "metadata": {
        "colab": {
          "base_uri": "https://localhost:8080/",
          "height": 36
        },
        "id": "2M9aWd1CFCsP",
        "outputId": "bb71a785-1900-4ee1-d73f-d07f5b3c7afa"
      },
      "execution_count": 87,
      "outputs": [
        {
          "output_type": "execute_result",
          "data": {
            "text/plain": [
              "'Dennis Ritchie'"
            ],
            "application/vnd.google.colaboratory.intrinsic+json": {
              "type": "string"
            }
          },
          "metadata": {},
          "execution_count": 87
        }
      ]
    },
    {
      "cell_type": "code",
      "source": [
        "import re\n",
        "def rearrange_name(name):\n",
        "    result = re.search(r\"^([\\w .-]*), ([\\w .-]*)$\", name)\n",
        "    if result == None:\n",
        "        return name\n",
        "    return \"{} {}\".format(result[2], result[1])\n",
        "rearrange_name(\"Hopper, Grace M.\")"
      ],
      "metadata": {
        "colab": {
          "base_uri": "https://localhost:8080/",
          "height": 36
        },
        "id": "Q4I2h9TfFJik",
        "outputId": "bfe89505-71c4-4d62-9055-3b53feabfb7a"
      },
      "execution_count": 88,
      "outputs": [
        {
          "output_type": "execute_result",
          "data": {
            "text/plain": [
              "'Grace M. Hopper'"
            ],
            "application/vnd.google.colaboratory.intrinsic+json": {
              "type": "string"
            }
          },
          "metadata": {},
          "execution_count": 88
        }
      ]
    },
    {
      "cell_type": "code",
      "source": [
        "#Fix the regular expression used in the rearrange_name function so that it can match middle names, middle initials, as well as double surnames.\n",
        "import re\n",
        "def rearrange_name(name):\n",
        "  result = re.search(r\"^([\\w \\.-]*), ([\\w \\.-]*)$\", name)\n",
        "  if result == None:\n",
        "    return name\n",
        "  return \"{} {}\".format(result[2], result[1])\n",
        "\n",
        "name=rearrange_name(\"Kennedy, John F.\")\n",
        "print(name)"
      ],
      "metadata": {
        "colab": {
          "base_uri": "https://localhost:8080/"
        },
        "id": "FELsPfqVFK4T",
        "outputId": "de15282c-a53b-4332-fdbc-ce7d878d7a4a"
      },
      "execution_count": 11,
      "outputs": [
        {
          "output_type": "stream",
          "name": "stdout",
          "text": [
            "John F. Kennedy\n"
          ]
        }
      ]
    },
    {
      "cell_type": "code",
      "source": [
        "import re\n",
        "print(re.search(r\"[a-zA-Z]{5}\", \"a ghost\"))"
      ],
      "metadata": {
        "colab": {
          "base_uri": "https://localhost:8080/"
        },
        "id": "H-jx8JfjzJWp",
        "outputId": "3f60895e-cce8-4f2c-e80e-5c1fa79c641b"
      },
      "execution_count": 12,
      "outputs": [
        {
          "output_type": "stream",
          "name": "stdout",
          "text": [
            "<re.Match object; span=(2, 7), match='ghost'>\n"
          ]
        }
      ]
    },
    {
      "cell_type": "code",
      "source": [
        "import re\n",
        "print(re.search(r\"[a-zA-Z]{5}\", \"a scary ghost appeared\"))"
      ],
      "metadata": {
        "colab": {
          "base_uri": "https://localhost:8080/"
        },
        "id": "eaqM1Qqe0iP2",
        "outputId": "5d654ada-790f-47a6-8d6f-b423fe70762c"
      },
      "execution_count": 13,
      "outputs": [
        {
          "output_type": "stream",
          "name": "stdout",
          "text": [
            "<re.Match object; span=(2, 7), match='scary'>\n"
          ]
        }
      ]
    },
    {
      "cell_type": "code",
      "source": [
        "import re\n",
        "print(re.findall(r\"[a-zA-Z]{5}\", \"a scary ghost appeared\"))"
      ],
      "metadata": {
        "colab": {
          "base_uri": "https://localhost:8080/"
        },
        "id": "0qcymH6I0m19",
        "outputId": "3e7aedab-fc76-40cf-999b-0d93cb6575c7"
      },
      "execution_count": 14,
      "outputs": [
        {
          "output_type": "stream",
          "name": "stdout",
          "text": [
            "['scary', 'ghost', 'appea']\n"
          ]
        }
      ]
    },
    {
      "cell_type": "code",
      "source": [
        "import re\n",
        "re.findall(r\"\\b[a-zA-Z]{5}\\b\", \"A scary ghost appeared\")"
      ],
      "metadata": {
        "colab": {
          "base_uri": "https://localhost:8080/"
        },
        "id": "j2mbJlxx0qwO",
        "outputId": "4341a27c-1bf4-4b1b-8f65-4ea0cf2e5dd8"
      },
      "execution_count": 15,
      "outputs": [
        {
          "output_type": "execute_result",
          "data": {
            "text/plain": [
              "['scary', 'ghost']"
            ]
          },
          "metadata": {},
          "execution_count": 15
        }
      ]
    },
    {
      "cell_type": "code",
      "source": [
        "import re\n",
        "print(re.findall(r\"\\w{5,10}\", \"I really like strawberries\"))"
      ],
      "metadata": {
        "colab": {
          "base_uri": "https://localhost:8080/"
        },
        "id": "LWkO2Ebz0tJm",
        "outputId": "8f1edd2f-5b41-4192-9e82-3fd144030363"
      },
      "execution_count": 16,
      "outputs": [
        {
          "output_type": "stream",
          "name": "stdout",
          "text": [
            "['really', 'strawberri']\n"
          ]
        }
      ]
    },
    {
      "cell_type": "code",
      "source": [
        "import re\n",
        "print(re.findall(r\"\\w{5,}\", \"I really like strawberries\"))"
      ],
      "metadata": {
        "colab": {
          "base_uri": "https://localhost:8080/"
        },
        "id": "z7-Ob4Cz00HA",
        "outputId": "a823c913-47e4-4a96-f892-1d176adc30fd"
      },
      "execution_count": 17,
      "outputs": [
        {
          "output_type": "stream",
          "name": "stdout",
          "text": [
            "['really', 'strawberries']\n"
          ]
        }
      ]
    },
    {
      "cell_type": "code",
      "source": [
        "import re\n",
        "print(re.search(r\"s\\w{,20}\", \"I really like strawberries\"))"
      ],
      "metadata": {
        "colab": {
          "base_uri": "https://localhost:8080/"
        },
        "id": "Ea3XH-_p0-ZO",
        "outputId": "9c2a8f08-156d-4636-e386-c37e018b01e6"
      },
      "execution_count": 18,
      "outputs": [
        {
          "output_type": "stream",
          "name": "stdout",
          "text": [
            "<re.Match object; span=(14, 26), match='strawberries'>\n"
          ]
        }
      ]
    },
    {
      "cell_type": "code",
      "source": [
        "#The long_words function returns all words that are at least 7 characters. Fill in the regular expression to complete this function.\n",
        "import re\n",
        "def long_words(text):\n",
        "  pattern = r\"\\w{7,}\"\n",
        "  result = re.findall(pattern, text)\n",
        "  return result\n",
        "\n",
        "print(long_words(\"I like to drink coffee in the morning.\")) # ['morning']\n",
        "print(long_words(\"I also have a taste for hot chocolate in the afternoon.\")) # ['chocolate', 'afternoon']\n",
        "print(long_words(\"I never drink tea late at night.\")) # []"
      ],
      "metadata": {
        "colab": {
          "base_uri": "https://localhost:8080/"
        },
        "id": "Qwknfn2f1A3J",
        "outputId": "7dfdcf6c-27a3-47ff-9f46-934fbe13524b"
      },
      "execution_count": 20,
      "outputs": [
        {
          "output_type": "stream",
          "name": "stdout",
          "text": [
            "['morning']\n",
            "['chocolate', 'afternoon']\n",
            "[]\n"
          ]
        }
      ]
    },
    {
      "cell_type": "code",
      "source": [
        "import re\n",
        "log = \"July 31 07:51:48 mycomputer bad_process[12345]: ERROR Performing package upgrade\"\n",
        "regex = r\"\\[(\\d+)\\]\"\n",
        "result = re.search(regex, log)\n",
        "print(result[1])"
      ],
      "metadata": {
        "colab": {
          "base_uri": "https://localhost:8080/"
        },
        "id": "6QhYS2kCAyeS",
        "outputId": "06b968fd-c949-4974-f030-e9248de0c3f0"
      },
      "execution_count": 23,
      "outputs": [
        {
          "output_type": "stream",
          "name": "stdout",
          "text": [
            "12345\n"
          ]
        }
      ]
    },
    {
      "cell_type": "code",
      "source": [
        "log = \"July 31 07:51:48 mycomputer bad_process[12345]: ERROR Performing package upgrade\"\n",
        "regex = r\"\\d{5}\"\n",
        "result = re.findall(regex, log)\n",
        "print(result)"
      ],
      "metadata": {
        "colab": {
          "base_uri": "https://localhost:8080/"
        },
        "id": "1Nn2r_m-BHuI",
        "outputId": "f9c8ed9f-6ce3-426f-e2ac-3d9d0ab301eb"
      },
      "execution_count": 29,
      "outputs": [
        {
          "output_type": "stream",
          "name": "stdout",
          "text": [
            "['12345']\n"
          ]
        }
      ]
    },
    {
      "cell_type": "code",
      "source": [
        "import re\n",
        "log = \"July 31 07:51:48 mycomputer bad_process[12345]: ERROR Performing package upgrade\"\n",
        "regex = r\"\\[(\\d+)\\]\"\n",
        "result = re.search(regex, log)\n",
        "result = re.search(regex, \"A completely different string that also has numbers [34567]\")\n",
        "print(result[1])"
      ],
      "metadata": {
        "colab": {
          "base_uri": "https://localhost:8080/"
        },
        "id": "qRp2A0GPBR0M",
        "outputId": "2e169a4d-ba82-4dd6-9ced-20c2d4af6b25"
      },
      "execution_count": 30,
      "outputs": [
        {
          "output_type": "stream",
          "name": "stdout",
          "text": [
            "34567\n"
          ]
        }
      ]
    },
    {
      "cell_type": "code",
      "source": [
        "import re\n",
        "log = \"July 31 07:51:48 mycomputer bad_process[12345]: ERROR Performing package upgrade\"\n",
        "regex = r\"\\[(\\d+)\\]\"\n",
        "result = re.search(regex, log)\n",
        "result = re.search(regex, \"A completely different string that also has numbers [34567]\")\n",
        "result = re.search(regex, \"99 elephants in a [cage]\")\n",
        "print(result[1])\n",
        "#Note that this print command results in an error as shown in the video."
      ],
      "metadata": {
        "colab": {
          "base_uri": "https://localhost:8080/",
          "height": 228
        },
        "id": "JL5qxkVLBteb",
        "outputId": "09f84294-dfdb-4542-a5d0-6b624e7067d3"
      },
      "execution_count": 32,
      "outputs": [
        {
          "output_type": "error",
          "ename": "TypeError",
          "evalue": "ignored",
          "traceback": [
            "\u001b[0;31m---------------------------------------------------------------------------\u001b[0m",
            "\u001b[0;31mTypeError\u001b[0m                                 Traceback (most recent call last)",
            "\u001b[0;32m<ipython-input-32-86ccb106aa99>\u001b[0m in \u001b[0;36m<cell line: 7>\u001b[0;34m()\u001b[0m\n\u001b[1;32m      5\u001b[0m \u001b[0mresult\u001b[0m \u001b[0;34m=\u001b[0m \u001b[0mre\u001b[0m\u001b[0;34m.\u001b[0m\u001b[0msearch\u001b[0m\u001b[0;34m(\u001b[0m\u001b[0mregex\u001b[0m\u001b[0;34m,\u001b[0m \u001b[0;34m\"A completely different string that also has numbers [34567]\"\u001b[0m\u001b[0;34m)\u001b[0m\u001b[0;34m\u001b[0m\u001b[0;34m\u001b[0m\u001b[0m\n\u001b[1;32m      6\u001b[0m \u001b[0mresult\u001b[0m \u001b[0;34m=\u001b[0m \u001b[0mre\u001b[0m\u001b[0;34m.\u001b[0m\u001b[0msearch\u001b[0m\u001b[0;34m(\u001b[0m\u001b[0mregex\u001b[0m\u001b[0;34m,\u001b[0m \u001b[0;34m\"99 elephants in a [cage]\"\u001b[0m\u001b[0;34m)\u001b[0m\u001b[0;34m\u001b[0m\u001b[0;34m\u001b[0m\u001b[0m\n\u001b[0;32m----> 7\u001b[0;31m \u001b[0mprint\u001b[0m\u001b[0;34m(\u001b[0m\u001b[0mresult\u001b[0m\u001b[0;34m[\u001b[0m\u001b[0;36m1\u001b[0m\u001b[0;34m]\u001b[0m\u001b[0;34m)\u001b[0m\u001b[0;34m\u001b[0m\u001b[0;34m\u001b[0m\u001b[0m\n\u001b[0m\u001b[1;32m      8\u001b[0m \u001b[0;31m#Note that this print command results in an error as shown in the video.\u001b[0m\u001b[0;34m\u001b[0m\u001b[0;34m\u001b[0m\u001b[0m\n",
            "\u001b[0;31mTypeError\u001b[0m: 'NoneType' object is not subscriptable"
          ]
        }
      ]
    },
    {
      "cell_type": "code",
      "source": [
        "import re\n",
        "log = \"July 31 07:51:48 mycomputer bad_process[12345]: ERROR Performing package upgrade\"\n",
        "regex = r\"\\[(\\d+)\\]\"\n",
        "result = re.search(regex, log)\n",
        "result = re.search(regex, \"A completely different string that also has numbers [34567]\")\n",
        "result = re.search(regex, \"99 elephants in a [cage]\")\n",
        "def extract_pid(log_line):\n",
        "    regex = r\"\\[(\\d+)\\]\"\n",
        "    result = re.search(regex, log_line)\n",
        "    if result is None:\n",
        "        return \"\"\n",
        "    return result[1]\n",
        "print(extract_pid(log))"
      ],
      "metadata": {
        "colab": {
          "base_uri": "https://localhost:8080/"
        },
        "id": "fUmCKQ3PBy_g",
        "outputId": "6d5f2e53-3da9-4553-81c3-3f28717bdef3"
      },
      "execution_count": 33,
      "outputs": [
        {
          "output_type": "stream",
          "name": "stdout",
          "text": [
            "12345\n"
          ]
        }
      ]
    },
    {
      "cell_type": "code",
      "source": [
        "import re\n",
        "log = \"July 31 07:51:48 mycomputer bad_process[12345]: ERROR Performing package upgrade\"\n",
        "regex = r\"\\[(\\d+)\\]\"\n",
        "result = re.search(regex, log)\n",
        "result = re.search(regex, \"A completely different string that also has numbers [34567]\")\n",
        "result = re.search(regex, \"99 elephants in a [cage]\")\n",
        "def extract_pid(log_line):\n",
        "    regex = r\"\\[(\\d+)\\]\"\n",
        "    result = re.search(regex, log_line)\n",
        "    if result is None:\n",
        "        return \"\"\n",
        "    return result[1]\n",
        "print(extract_pid(\"99 elephants in a [cage]\"))"
      ],
      "metadata": {
        "colab": {
          "base_uri": "https://localhost:8080/"
        },
        "id": "WjUgk9k4CAfO",
        "outputId": "b53a4605-3348-4707-eb36-998dc26db1a1"
      },
      "execution_count": 35,
      "outputs": [
        {
          "output_type": "stream",
          "name": "stdout",
          "text": [
            "\n"
          ]
        }
      ]
    },
    {
      "cell_type": "code",
      "source": [
        "import re\n",
        "log = \"July 31 07:51:48 mycomputer bad_process[12345]: ERROR Performing package upgrade\"\n",
        "regex = r\"\\[(\\d+)\\]\"\n",
        "result = re.search(regex, log)\n",
        "result = re.search(regex, \"A completely different string that also has numbers [34567]\")\n",
        "result = re.search(regex, \"99 elephants in a [cage]\")\n",
        "def extract_pid(log_line):\n",
        "    regex = r\"\\[(\\d+)\\]\"\n",
        "    result = re.search(regex, log_line)\n",
        "    if result is None:\n",
        "        return \"\"\n",
        "    return result[1]\n",
        "print(extract_pid(log))\n",
        "print(extract_pid(\"99 elephants in a [cage]\"))"
      ],
      "metadata": {
        "colab": {
          "base_uri": "https://localhost:8080/"
        },
        "id": "E2fSe2dQCPZr",
        "outputId": "b714c326-cdbf-49eb-904a-c90f70e90e28"
      },
      "execution_count": 36,
      "outputs": [
        {
          "output_type": "stream",
          "name": "stdout",
          "text": [
            "12345\n",
            "\n"
          ]
        }
      ]
    },
    {
      "cell_type": "code",
      "source": [
        "#Add to the regular expression used in the extract_pid function, to return the uppercase message in parenthesis, after the process id.\n",
        "import re\n",
        "def extract_pid(log_line):\n",
        "    regex = r\"\\[(\\d+)\\]: (\\w[A-Z]+)\"\n",
        "    result = re.search(regex, log_line)\n",
        "    if result is None:\n",
        "        return None\n",
        "    return \"{} ({})\".format(result[1],result[2])\n",
        "\n",
        "print(extract_pid(\"July 31 07:51:48 mycomputer bad_process[12345]: ERROR Performing package upgrade\")) # 12345 (ERROR)\n",
        "print(extract_pid(\"99 elephants in a [cage]\")) # None\n",
        "print(extract_pid(\"A string that also has numbers [34567] but no uppercase message\")) # None\n",
        "print(extract_pid(\"July 31 08:08:08 mycomputer new_process[67890]: RUNNING Performing backup\")) # 67890 (RUNNING)"
      ],
      "metadata": {
        "colab": {
          "base_uri": "https://localhost:8080/"
        },
        "id": "YyURIU4UCbF0",
        "outputId": "cf1ccd91-0d8b-4ea1-a703-0567903d07d6"
      },
      "execution_count": 82,
      "outputs": [
        {
          "output_type": "stream",
          "name": "stdout",
          "text": [
            "12345 (ERROR)\n",
            "None\n",
            "None\n",
            "67890 (RUNNING)\n"
          ]
        }
      ]
    },
    {
      "cell_type": "code",
      "source": [
        "import re\n",
        "re.split(r\"([.?!])\", \"One sentence. Another one? And the last one!\")"
      ],
      "metadata": {
        "colab": {
          "base_uri": "https://localhost:8080/"
        },
        "id": "LTYtznEKNrTn",
        "outputId": "96c25d9b-0108-4718-c083-288910e30954"
      },
      "execution_count": 83,
      "outputs": [
        {
          "output_type": "execute_result",
          "data": {
            "text/plain": [
              "['One sentence', '.', ' Another one', '?', ' And the last one', '!', '']"
            ]
          },
          "metadata": {},
          "execution_count": 83
        }
      ]
    },
    {
      "cell_type": "code",
      "source": [
        "import re\n",
        "re.split(r\"[.?!]\", \"One sentence. Another one? And the last one!\")"
      ],
      "metadata": {
        "colab": {
          "base_uri": "https://localhost:8080/"
        },
        "id": "a1zoPtNvqvdq",
        "outputId": "3ca8a6d0-4310-4be2-c4af-cc3f3dee5872"
      },
      "execution_count": 84,
      "outputs": [
        {
          "output_type": "execute_result",
          "data": {
            "text/plain": [
              "['One sentence', ' Another one', ' And the last one', '']"
            ]
          },
          "metadata": {},
          "execution_count": 84
        }
      ]
    },
    {
      "cell_type": "code",
      "source": [
        "import re\n",
        "re.sub(r\"[\\w.%+-]+@[\\w.-]+\", \"[REDACTED]\", \"Received an email for go_nuts95@my.example.com\")"
      ],
      "metadata": {
        "colab": {
          "base_uri": "https://localhost:8080/",
          "height": 36
        },
        "id": "GJkQoRBTqzrV",
        "outputId": "c2e9a93b-2a2c-41ee-b0d1-8ebd9b05e500"
      },
      "execution_count": 85,
      "outputs": [
        {
          "output_type": "execute_result",
          "data": {
            "text/plain": [
              "'Received an email for [REDACTED]'"
            ],
            "application/vnd.google.colaboratory.intrinsic+json": {
              "type": "string"
            }
          },
          "metadata": {},
          "execution_count": 85
        }
      ]
    },
    {
      "cell_type": "code",
      "source": [
        "import re\n",
        "re.sub(r\"^([\\w .-]*), ([\\w .-]*)$\", r\"\\2 \\1\", \"Lovelace, Ada\")"
      ],
      "metadata": {
        "colab": {
          "base_uri": "https://localhost:8080/",
          "height": 36
        },
        "id": "1WUffxwYq23M",
        "outputId": "fa5f7e79-a162-42dc-a975-c8163917a02f"
      },
      "execution_count": 86,
      "outputs": [
        {
          "output_type": "execute_result",
          "data": {
            "text/plain": [
              "'Ada Lovelace'"
            ],
            "application/vnd.google.colaboratory.intrinsic+json": {
              "type": "string"
            }
          },
          "metadata": {},
          "execution_count": 86
        }
      ]
    },
    {
      "cell_type": "code",
      "source": [
        "re.split(r\"the|a\", \"One sentence. Another one? And the last one!\")"
      ],
      "metadata": {
        "colab": {
          "base_uri": "https://localhost:8080/"
        },
        "id": "6KnE9p79q7MU",
        "outputId": "b8766aee-8c1f-4ca1-8f39-2ceea7f0b27e"
      },
      "execution_count": 87,
      "outputs": [
        {
          "output_type": "execute_result",
          "data": {
            "text/plain": [
              "['One sentence. Ano', 'r one? And ', ' l', 'st one!']"
            ]
          },
          "metadata": {},
          "execution_count": 87
        }
      ]
    },
    {
      "cell_type": "markdown",
      "source": [
        "##**Question 1**\n",
        "###We're working with a CSV file, which contains employee information. Each record has a name field, followed by a phone number field, and a role field. The phone number field contains U.S. phone numbers, and needs to be modified to the international format, with **\"+1-\"** in front of the phone number. Fill in the regular expression, using groups, to use the transform_record function to do that."
      ],
      "metadata": {
        "id": "tg6SXveCwEhl"
      }
    },
    {
      "cell_type": "code",
      "source": [
        "import re\n",
        "def transform_record(record):\n",
        "  new_record = re.sub(r\"^(\\d{3})\",r\"+1\",record)\n",
        "  return new_record\n",
        "\n",
        "print(transform_record(\"Sabrina Green,802-867-5309,System Administrator\"))\n",
        "# Sabrina Green,+1-802-867-5309,System Administrator\n",
        "\n",
        "print(transform_record(\"Eli Jones,684-3481127,IT specialist\"))\n",
        "# Eli Jones,+1-684-3481127,IT specialist\n",
        "\n",
        "print(transform_record(\"Melody Daniels,846-687-7436,Programmer\"))\n",
        "# Melody Daniels,+1-846-687-7436,Programmer\n",
        "\n",
        "print(transform_record(\"Charlie Rivera,698-746-3357,Web Developer\"))\n",
        "# Charlie Rivera,+1-698-746-3357,Web Developer"
      ],
      "metadata": {
        "colab": {
          "base_uri": "https://localhost:8080/"
        },
        "id": "_HawJx_GwJWn",
        "outputId": "a1dc838e-90d2-4f74-bd22-ae49361a6824"
      },
      "execution_count": 124,
      "outputs": [
        {
          "output_type": "stream",
          "name": "stdout",
          "text": [
            "Sabrina Green,802-867-5309,System Administrator\n",
            "Eli Jones,684-3481127,IT specialist\n",
            "Melody Daniels,846-687-7436,Programmer\n",
            "Charlie Rivera,698-746-3357,Web Developer\n"
          ]
        }
      ]
    },
    {
      "cell_type": "code",
      "source": [
        "re.findall(r\"^([\\d{3}+])\",\"Sabrina Green,802-867-5309,System Administrator\")"
      ],
      "metadata": {
        "colab": {
          "base_uri": "https://localhost:8080/"
        },
        "id": "X_9-_J23zglS",
        "outputId": "28c60e3a-ce83-48f7-95d1-83dd29031fd1"
      },
      "execution_count": 128,
      "outputs": [
        {
          "output_type": "execute_result",
          "data": {
            "text/plain": [
              "[]"
            ]
          },
          "metadata": {},
          "execution_count": 128
        }
      ]
    },
    {
      "cell_type": "code",
      "source": [
        "re.findall(r\"^([\\w .-]*)\",\"Lovelace, Ada\")"
      ],
      "metadata": {
        "colab": {
          "base_uri": "https://localhost:8080/"
        },
        "id": "ibDdiDwb0JEt",
        "outputId": "1159c5a7-5630-4be9-adae-3f86464a7197"
      },
      "execution_count": 109,
      "outputs": [
        {
          "output_type": "execute_result",
          "data": {
            "text/plain": [
              "['Lovelace']"
            ]
          },
          "metadata": {},
          "execution_count": 109
        }
      ]
    },
    {
      "cell_type": "code",
      "source": [
        "re.sub(r\"(\\d+|\\-)\", r\"+1(\\d+|\\-)\", \"Sabrina Green,802-867-5309,System Administrator\")"
      ],
      "metadata": {
        "colab": {
          "base_uri": "https://localhost:8080/",
          "height": 443
        },
        "id": "S1aDt_Zu1FWX",
        "outputId": "9fe6280b-3685-4822-8da1-d1507aab099e"
      },
      "execution_count": 113,
      "outputs": [
        {
          "output_type": "error",
          "ename": "error",
          "evalue": "ignored",
          "traceback": [
            "\u001b[0;31m---------------------------------------------------------------------------\u001b[0m",
            "\u001b[0;31mKeyError\u001b[0m                                  Traceback (most recent call last)",
            "\u001b[0;32m/usr/lib/python3.10/sre_parse.py\u001b[0m in \u001b[0;36mparse_template\u001b[0;34m(source, state)\u001b[0m\n\u001b[1;32m   1050\u001b[0m                 \u001b[0;32mtry\u001b[0m\u001b[0;34m:\u001b[0m\u001b[0;34m\u001b[0m\u001b[0;34m\u001b[0m\u001b[0m\n\u001b[0;32m-> 1051\u001b[0;31m                     \u001b[0mthis\u001b[0m \u001b[0;34m=\u001b[0m \u001b[0mchr\u001b[0m\u001b[0;34m(\u001b[0m\u001b[0mESCAPES\u001b[0m\u001b[0;34m[\u001b[0m\u001b[0mthis\u001b[0m\u001b[0;34m]\u001b[0m\u001b[0;34m[\u001b[0m\u001b[0;36m1\u001b[0m\u001b[0;34m]\u001b[0m\u001b[0;34m)\u001b[0m\u001b[0;34m\u001b[0m\u001b[0;34m\u001b[0m\u001b[0m\n\u001b[0m\u001b[1;32m   1052\u001b[0m                 \u001b[0;32mexcept\u001b[0m \u001b[0mKeyError\u001b[0m\u001b[0;34m:\u001b[0m\u001b[0;34m\u001b[0m\u001b[0;34m\u001b[0m\u001b[0m\n",
            "\u001b[0;31mKeyError\u001b[0m: '\\\\d'",
            "\nDuring handling of the above exception, another exception occurred:\n",
            "\u001b[0;31merror\u001b[0m                                     Traceback (most recent call last)",
            "\u001b[0;32m<ipython-input-113-f3eed1d65764>\u001b[0m in \u001b[0;36m<cell line: 1>\u001b[0;34m()\u001b[0m\n\u001b[0;32m----> 1\u001b[0;31m \u001b[0mre\u001b[0m\u001b[0;34m.\u001b[0m\u001b[0msub\u001b[0m\u001b[0;34m(\u001b[0m\u001b[0;34mr\"(\\d+|\\-)\"\u001b[0m\u001b[0;34m,\u001b[0m \u001b[0;34mr\"+1\\(\\d+|\\-)\"\u001b[0m\u001b[0;34m,\u001b[0m \u001b[0;34m\"Sabrina Green,802-867-5309,System Administrator\"\u001b[0m\u001b[0;34m)\u001b[0m\u001b[0;34m\u001b[0m\u001b[0;34m\u001b[0m\u001b[0m\n\u001b[0m",
            "\u001b[0;32m/usr/lib/python3.10/re.py\u001b[0m in \u001b[0;36msub\u001b[0;34m(pattern, repl, string, count, flags)\u001b[0m\n\u001b[1;32m    207\u001b[0m     \u001b[0ma\u001b[0m \u001b[0mcallable\u001b[0m\u001b[0;34m,\u001b[0m \u001b[0mit\u001b[0m\u001b[0;31m'\u001b[0m\u001b[0ms\u001b[0m \u001b[0mpassed\u001b[0m \u001b[0mthe\u001b[0m \u001b[0mMatch\u001b[0m \u001b[0mobject\u001b[0m \u001b[0;32mand\u001b[0m \u001b[0mmust\u001b[0m \u001b[0;32mreturn\u001b[0m\u001b[0;34m\u001b[0m\u001b[0;34m\u001b[0m\u001b[0m\n\u001b[1;32m    208\u001b[0m     a replacement string to be used.\"\"\"\n\u001b[0;32m--> 209\u001b[0;31m     \u001b[0;32mreturn\u001b[0m \u001b[0m_compile\u001b[0m\u001b[0;34m(\u001b[0m\u001b[0mpattern\u001b[0m\u001b[0;34m,\u001b[0m \u001b[0mflags\u001b[0m\u001b[0;34m)\u001b[0m\u001b[0;34m.\u001b[0m\u001b[0msub\u001b[0m\u001b[0;34m(\u001b[0m\u001b[0mrepl\u001b[0m\u001b[0;34m,\u001b[0m \u001b[0mstring\u001b[0m\u001b[0;34m,\u001b[0m \u001b[0mcount\u001b[0m\u001b[0;34m)\u001b[0m\u001b[0;34m\u001b[0m\u001b[0;34m\u001b[0m\u001b[0m\n\u001b[0m\u001b[1;32m    210\u001b[0m \u001b[0;34m\u001b[0m\u001b[0m\n\u001b[1;32m    211\u001b[0m \u001b[0;32mdef\u001b[0m \u001b[0msubn\u001b[0m\u001b[0;34m(\u001b[0m\u001b[0mpattern\u001b[0m\u001b[0;34m,\u001b[0m \u001b[0mrepl\u001b[0m\u001b[0;34m,\u001b[0m \u001b[0mstring\u001b[0m\u001b[0;34m,\u001b[0m \u001b[0mcount\u001b[0m\u001b[0;34m=\u001b[0m\u001b[0;36m0\u001b[0m\u001b[0;34m,\u001b[0m \u001b[0mflags\u001b[0m\u001b[0;34m=\u001b[0m\u001b[0;36m0\u001b[0m\u001b[0;34m)\u001b[0m\u001b[0;34m:\u001b[0m\u001b[0;34m\u001b[0m\u001b[0;34m\u001b[0m\u001b[0m\n",
            "\u001b[0;32m/usr/lib/python3.10/re.py\u001b[0m in \u001b[0;36m_subx\u001b[0;34m(pattern, template)\u001b[0m\n\u001b[1;32m    324\u001b[0m \u001b[0;32mdef\u001b[0m \u001b[0m_subx\u001b[0m\u001b[0;34m(\u001b[0m\u001b[0mpattern\u001b[0m\u001b[0;34m,\u001b[0m \u001b[0mtemplate\u001b[0m\u001b[0;34m)\u001b[0m\u001b[0;34m:\u001b[0m\u001b[0;34m\u001b[0m\u001b[0;34m\u001b[0m\u001b[0m\n\u001b[1;32m    325\u001b[0m     \u001b[0;31m# internal: Pattern.sub/subn implementation helper\u001b[0m\u001b[0;34m\u001b[0m\u001b[0;34m\u001b[0m\u001b[0m\n\u001b[0;32m--> 326\u001b[0;31m     \u001b[0mtemplate\u001b[0m \u001b[0;34m=\u001b[0m \u001b[0m_compile_repl\u001b[0m\u001b[0;34m(\u001b[0m\u001b[0mtemplate\u001b[0m\u001b[0;34m,\u001b[0m \u001b[0mpattern\u001b[0m\u001b[0;34m)\u001b[0m\u001b[0;34m\u001b[0m\u001b[0;34m\u001b[0m\u001b[0m\n\u001b[0m\u001b[1;32m    327\u001b[0m     \u001b[0;32mif\u001b[0m \u001b[0;32mnot\u001b[0m \u001b[0mtemplate\u001b[0m\u001b[0;34m[\u001b[0m\u001b[0;36m0\u001b[0m\u001b[0;34m]\u001b[0m \u001b[0;32mand\u001b[0m \u001b[0mlen\u001b[0m\u001b[0;34m(\u001b[0m\u001b[0mtemplate\u001b[0m\u001b[0;34m[\u001b[0m\u001b[0;36m1\u001b[0m\u001b[0;34m]\u001b[0m\u001b[0;34m)\u001b[0m \u001b[0;34m==\u001b[0m \u001b[0;36m1\u001b[0m\u001b[0;34m:\u001b[0m\u001b[0;34m\u001b[0m\u001b[0;34m\u001b[0m\u001b[0m\n\u001b[1;32m    328\u001b[0m         \u001b[0;31m# literal replacement\u001b[0m\u001b[0;34m\u001b[0m\u001b[0;34m\u001b[0m\u001b[0m\n",
            "\u001b[0;32m/usr/lib/python3.10/re.py\u001b[0m in \u001b[0;36m_compile_repl\u001b[0;34m(repl, pattern)\u001b[0m\n\u001b[1;32m    315\u001b[0m \u001b[0;32mdef\u001b[0m \u001b[0m_compile_repl\u001b[0m\u001b[0;34m(\u001b[0m\u001b[0mrepl\u001b[0m\u001b[0;34m,\u001b[0m \u001b[0mpattern\u001b[0m\u001b[0;34m)\u001b[0m\u001b[0;34m:\u001b[0m\u001b[0;34m\u001b[0m\u001b[0;34m\u001b[0m\u001b[0m\n\u001b[1;32m    316\u001b[0m     \u001b[0;31m# internal: compile replacement pattern\u001b[0m\u001b[0;34m\u001b[0m\u001b[0;34m\u001b[0m\u001b[0m\n\u001b[0;32m--> 317\u001b[0;31m     \u001b[0;32mreturn\u001b[0m \u001b[0msre_parse\u001b[0m\u001b[0;34m.\u001b[0m\u001b[0mparse_template\u001b[0m\u001b[0;34m(\u001b[0m\u001b[0mrepl\u001b[0m\u001b[0;34m,\u001b[0m \u001b[0mpattern\u001b[0m\u001b[0;34m)\u001b[0m\u001b[0;34m\u001b[0m\u001b[0;34m\u001b[0m\u001b[0m\n\u001b[0m\u001b[1;32m    318\u001b[0m \u001b[0;34m\u001b[0m\u001b[0m\n\u001b[1;32m    319\u001b[0m \u001b[0;32mdef\u001b[0m \u001b[0m_expand\u001b[0m\u001b[0;34m(\u001b[0m\u001b[0mpattern\u001b[0m\u001b[0;34m,\u001b[0m \u001b[0mmatch\u001b[0m\u001b[0;34m,\u001b[0m \u001b[0mtemplate\u001b[0m\u001b[0;34m)\u001b[0m\u001b[0;34m:\u001b[0m\u001b[0;34m\u001b[0m\u001b[0;34m\u001b[0m\u001b[0m\n",
            "\u001b[0;32m/usr/lib/python3.10/sre_parse.py\u001b[0m in \u001b[0;36mparse_template\u001b[0;34m(source, state)\u001b[0m\n\u001b[1;32m   1052\u001b[0m                 \u001b[0;32mexcept\u001b[0m \u001b[0mKeyError\u001b[0m\u001b[0;34m:\u001b[0m\u001b[0;34m\u001b[0m\u001b[0;34m\u001b[0m\u001b[0m\n\u001b[1;32m   1053\u001b[0m                     \u001b[0;32mif\u001b[0m \u001b[0mc\u001b[0m \u001b[0;32min\u001b[0m \u001b[0mASCIILETTERS\u001b[0m\u001b[0;34m:\u001b[0m\u001b[0;34m\u001b[0m\u001b[0;34m\u001b[0m\u001b[0m\n\u001b[0;32m-> 1054\u001b[0;31m                         \u001b[0;32mraise\u001b[0m \u001b[0ms\u001b[0m\u001b[0;34m.\u001b[0m\u001b[0merror\u001b[0m\u001b[0;34m(\u001b[0m\u001b[0;34m'bad escape %s'\u001b[0m \u001b[0;34m%\u001b[0m \u001b[0mthis\u001b[0m\u001b[0;34m,\u001b[0m \u001b[0mlen\u001b[0m\u001b[0;34m(\u001b[0m\u001b[0mthis\u001b[0m\u001b[0;34m)\u001b[0m\u001b[0;34m)\u001b[0m\u001b[0;34m\u001b[0m\u001b[0;34m\u001b[0m\u001b[0m\n\u001b[0m\u001b[1;32m   1055\u001b[0m                 \u001b[0mlappend\u001b[0m\u001b[0;34m(\u001b[0m\u001b[0mthis\u001b[0m\u001b[0;34m)\u001b[0m\u001b[0;34m\u001b[0m\u001b[0;34m\u001b[0m\u001b[0m\n\u001b[1;32m   1056\u001b[0m         \u001b[0;32melse\u001b[0m\u001b[0;34m:\u001b[0m\u001b[0;34m\u001b[0m\u001b[0;34m\u001b[0m\u001b[0m\n",
            "\u001b[0;31merror\u001b[0m: bad escape \\d at position 4"
          ]
        }
      ]
    },
    {
      "cell_type": "code",
      "source": [
        "import re\n",
        "def transform_record(record):\n",
        "  new_record = re.sub(r\"(\\d+-\\d+|-\\d+)\",r\"+1-\\1\",record)\n",
        "  return new_record\n",
        "\n",
        "print(transform_record(\"Sabrina Green,802-867-5309,System Administrator\"))\n",
        "# Sabrina Green,+1-802-867-5309,System Administrator\n",
        "\n",
        "print(transform_record(\"Eli Jones,684-3481127,IT specialist\"))\n",
        "# Eli Jones,+1-684-3481127,IT specialist\n",
        "\n",
        "print(transform_record(\"Melody Daniels,846-687-7436,Programmer\"))\n",
        "# Melody Daniels,+1-846-687-7436,Programmer\n",
        "\n",
        "print(transform_record(\"Charlie Rivera,698-746-3357,Web Developer\"))\n",
        "# Charlie Rivera,+1-698-746-3357,Web Developer"
      ],
      "metadata": {
        "colab": {
          "base_uri": "https://localhost:8080/"
        },
        "id": "4uAGodGF10zB",
        "outputId": "249b0377-03ec-4e9f-c529-db9275592e3e"
      },
      "execution_count": 19,
      "outputs": [
        {
          "output_type": "stream",
          "name": "stdout",
          "text": [
            "Sabrina Green,+1-802-867+1--5309,System Administrator\n",
            "Eli Jones,+1-684-3481127,IT specialist\n",
            "Melody Daniels,+1-846-687+1--7436,Programmer\n",
            "Charlie Rivera,+1-698-746+1--3357,Web Developer\n"
          ]
        }
      ]
    },
    {
      "cell_type": "code",
      "source": [
        "re.findall(r\"(\\d+-\\d+|-\\d+)\",\"Sabrina Green,802-867-5309,System Administrator\")"
      ],
      "metadata": {
        "colab": {
          "base_uri": "https://localhost:8080/"
        },
        "id": "z8WnV0U6ZA2G",
        "outputId": "2f29a539-29b5-4b34-bbc4-214f427632f8"
      },
      "execution_count": 17,
      "outputs": [
        {
          "output_type": "execute_result",
          "data": {
            "text/plain": [
              "['802-867', '-5309']"
            ]
          },
          "metadata": {},
          "execution_count": 17
        }
      ]
    },
    {
      "cell_type": "code",
      "source": [
        "import re\n",
        "def transform_record(record):\n",
        "  new_record = re.sub(r'(\\d{3}-\\d{3})', r'+1-\\1', record)\n",
        "  return new_record\n",
        "\n",
        "print(transform_record(\"Sabrina Green,802-867-5309,System Administrator\"))\n",
        "# Sabrina Green,+1-802-867-5309,System Administrator\n",
        "\n",
        "print(transform_record(\"Eli Jones,684-3481127,IT specialist\"))\n",
        "# Eli Jones,+1-684-3481127,IT specialist\n",
        "\n",
        "print(transform_record(\"Melody Daniels,846-687-7436,Programmer\"))\n",
        "# Melody Daniels,+1-846-687-7436,Programmer\n",
        "\n",
        "print(transform_record(\"Charlie Rivera,698-746-3357,Web Developer\"))\n",
        "# Charlie Rivera,+1-698-746-3357,Web Developer"
      ],
      "metadata": {
        "colab": {
          "base_uri": "https://localhost:8080/"
        },
        "id": "qEhK6iZycutD",
        "outputId": "e6e8aa3c-e9b6-403d-b23e-f3cd527d89e3"
      },
      "execution_count": 20,
      "outputs": [
        {
          "output_type": "stream",
          "name": "stdout",
          "text": [
            "Sabrina Green,+1-802-867-5309,System Administrator\n",
            "Eli Jones,+1-684-3481127,IT specialist\n",
            "Melody Daniels,+1-846-687-7436,Programmer\n",
            "Charlie Rivera,+1-698-746-3357,Web Developer\n"
          ]
        }
      ]
    },
    {
      "cell_type": "markdown",
      "source": [
        "##**Question 2**\n",
        "###The multi_vowel_words function returns all words with 3 or more consecutive vowels (a, e, i, o, u). Fill in the regular expression to do that."
      ],
      "metadata": {
        "id": "tx30TiMSevaX"
      }
    },
    {
      "cell_type": "code",
      "source": [
        "import re\n",
        "def multi_vowel_words(text):\n",
        "  pattern = r\"\\w*[aeiou]{3,}\\w*\"\n",
        "  result = re.findall(pattern, text)\n",
        "  return result\n",
        "\n",
        "print(multi_vowel_words(\"Life is beautiful\"))\n",
        "# ['beautiful']\n",
        "\n",
        "print(multi_vowel_words(\"Obviously, the queen is courageous and gracious.\"))\n",
        "# ['Obviously', 'queen', 'courageous', 'gracious']\n",
        "\n",
        "print(multi_vowel_words(\"The rambunctious children had to sit quietly and await their delicious dinner.\"))\n",
        "# ['rambunctious', 'quietly', 'delicious']\n",
        "\n",
        "print(multi_vowel_words(\"The order of a data queue is First In First Out (FIFO)\"))\n",
        "# ['queue']\n",
        "\n",
        "print(multi_vowel_words(\"Hello world!\"))\n",
        "# []"
      ],
      "metadata": {
        "colab": {
          "base_uri": "https://localhost:8080/"
        },
        "id": "aIIWBBKhezMJ",
        "outputId": "1bad52f3-ee30-41f5-a339-c1f78139eb04"
      },
      "execution_count": 46,
      "outputs": [
        {
          "output_type": "stream",
          "name": "stdout",
          "text": [
            "['beautiful']\n",
            "['Obviously', 'queen', 'courageous', 'gracious']\n",
            "['rambunctious', 'quietly', 'delicious']\n",
            "['queue']\n",
            "[]\n"
          ]
        }
      ]
    },
    {
      "cell_type": "code",
      "source": [
        "re.findall(r\"\\w(a|e|i|o|u)\",\"Life is beautiful\")"
      ],
      "metadata": {
        "colab": {
          "base_uri": "https://localhost:8080/"
        },
        "id": "mgVynjYIfRFx",
        "outputId": "d6acd3e2-378a-49d0-b667-9dfc3a9b65a9"
      },
      "execution_count": 39,
      "outputs": [
        {
          "output_type": "execute_result",
          "data": {
            "text/plain": [
              "['i', 'e', 'e', 'u', 'i', 'u']"
            ]
          },
          "metadata": {},
          "execution_count": 39
        }
      ]
    },
    {
      "cell_type": "markdown",
      "source": [
        "##**Question 4**\n",
        "###The transform_comments function converts comments in a Python script into those usable by a C compiler. This means looking for text that begins with a hash mark (#) and replacing it with double slashes (//), which is the C single-line comment indicator. For the purpose of this exercise, we'll ignore the possibility of a hash mark embedded inside of a Python command, and assume that it's only used to indicate a comment. We also want to treat repetitive hash marks (##), (###), etc., as a single comment indicator, to be replaced with just (//) and not (#//) or (//#). Fill in the parameters of the substitution method to complete this function:"
      ],
      "metadata": {
        "id": "Rw1nZKtTjrC7"
      }
    },
    {
      "cell_type": "code",
      "source": [
        "import re\n",
        "def transform_comments(line_of_code):\n",
        "  result = re.sub(r\"\\#{1,}\",r\"\\\\\\\\\",line_of_code)\n",
        "  return result\n",
        "\n",
        "print(transform_comments(\"### Start of program\"))\n",
        "# Should be \"// Start of program\"\n",
        "print(transform_comments(\"  number = 0   ## Initialize the variable\"))\n",
        "# Should be \"  number = 0   // Initialize the variable\"\n",
        "print(transform_comments(\"  number += 1   # Increment the variable\"))\n",
        "# Should be \"  number += 1   // Increment the variable\"\n",
        "print(transform_comments(\"  return(number)\"))\n",
        "# Should be \"  return(number)\""
      ],
      "metadata": {
        "colab": {
          "base_uri": "https://localhost:8080/"
        },
        "id": "a0X1hFR_fY4G",
        "outputId": "538524b5-f23d-4407-f1a6-737b5df6c371"
      },
      "execution_count": 53,
      "outputs": [
        {
          "output_type": "stream",
          "name": "stdout",
          "text": [
            "\\\\ Start of program\n",
            "  number = 0   \\\\ Initialize the variable\n",
            "  number += 1   \\\\ Increment the variable\n",
            "  return(number)\n"
          ]
        }
      ]
    },
    {
      "cell_type": "code",
      "source": [
        "re.findall(r\"\\#{1,}\",\"  number = 0   ## Initialize the variable\")"
      ],
      "metadata": {
        "colab": {
          "base_uri": "https://localhost:8080/"
        },
        "id": "aN2fhghJju0U",
        "outputId": "dc6ce808-955a-4331-e4a4-2fb9ca7f4162"
      },
      "execution_count": 49,
      "outputs": [
        {
          "output_type": "execute_result",
          "data": {
            "text/plain": [
              "['##']"
            ]
          },
          "metadata": {},
          "execution_count": 49
        }
      ]
    },
    {
      "cell_type": "code",
      "source": [
        "import re\n",
        "def transform_comments(line_of_code):\n",
        "  result = re.sub(r\"\\#{1,}\",r\"//\",line_of_code)\n",
        "  return result\n",
        "\n",
        "print(transform_comments(\"### Start of program\"))\n",
        "# Should be \"// Start of program\"\n",
        "print(transform_comments(\"  number = 0   ## Initialize the variable\"))\n",
        "# Should be \"  number = 0   // Initialize the variable\"\n",
        "print(transform_comments(\"  number += 1   # Increment the variable\"))\n",
        "# Should be \"  number += 1   // Increment the variable\"\n",
        "print(transform_comments(\"  return(number)\"))\n",
        "# Should be \"  return(number)\""
      ],
      "metadata": {
        "colab": {
          "base_uri": "https://localhost:8080/"
        },
        "id": "4v-5pUmWkm9W",
        "outputId": "8ff99dbd-e65d-4d50-de42-286bec8ae6e0"
      },
      "execution_count": 54,
      "outputs": [
        {
          "output_type": "stream",
          "name": "stdout",
          "text": [
            "// Start of program\n",
            "  number = 0   // Initialize the variable\n",
            "  number += 1   // Increment the variable\n",
            "  return(number)\n"
          ]
        }
      ]
    },
    {
      "cell_type": "markdown",
      "source": [
        "##**Question 5**\n",
        "###The convert_phone_number function checks for a U.S. phone number format: XXX-XXX-XXXX (3 digits followed by a dash, 3 more digits followed by a dash, and 4 digits), and converts it to a more formal format that looks like this: (XXX) XXX-XXXX. Fill in the regular expression to complete this function."
      ],
      "metadata": {
        "id": "_cNDwaTylTjg"
      }
    },
    {
      "cell_type": "code",
      "source": [
        "import re\n",
        "def convert_phone_number(phone):\n",
        "    #result = re.sub(r\"(\\d{3})-(\\d{3})-(\\d{5,})\", r\"\\1-\\2-\\3\", phone)\n",
        "    result = re.sub(r\"(\\d{3})-(\\d{3})-(\\d{4})\", r\"(\\1) \\2-\\3\", phone)\n",
        "    return result\n",
        "\n",
        "print(convert_phone_number(\"My number is 212-345-9999.\")) # My number is (212) 345-9999.\n",
        "print(convert_phone_number(\"Please call 888-555-1234\")) # Please call (888) 555-1234\n",
        "print(convert_phone_number(\"123-123-12345\")) # 123-123-12345\n",
        "print(convert_phone_number(\"Phone number of Buckingham Palace is +44 303 123 7300\")) # Phone number of Buckingham Palace is +44 303 123 7300"
      ],
      "metadata": {
        "colab": {
          "base_uri": "https://localhost:8080/"
        },
        "id": "t_yJft0clXfx",
        "outputId": "20df2291-550a-4b6a-cf71-1b03a39985bb"
      },
      "execution_count": 135,
      "outputs": [
        {
          "output_type": "stream",
          "name": "stdout",
          "text": [
            "My number is (212) 345-9999.\n",
            "Please call (888) 555-1234\n",
            "(123) 123-12345\n",
            "Phone number of Buckingham Palace is +44 303 123 7300\n"
          ]
        }
      ]
    },
    {
      "cell_type": "code",
      "source": [
        "re.findall(r\"(\\d{3,5})\",\"My number is 123-123-12345\")"
      ],
      "metadata": {
        "colab": {
          "base_uri": "https://localhost:8080/"
        },
        "id": "oajYsfc0l_hU",
        "outputId": "e3782adc-7d87-4a99-9112-153e1bd3b3da"
      },
      "execution_count": 110,
      "outputs": [
        {
          "output_type": "execute_result",
          "data": {
            "text/plain": [
              "['123', '123', '12345']"
            ]
          },
          "metadata": {},
          "execution_count": 110
        }
      ]
    },
    {
      "cell_type": "code",
      "source": [],
      "metadata": {
        "id": "AUGvg2olm1NB"
      },
      "execution_count": null,
      "outputs": []
    }
  ]
}